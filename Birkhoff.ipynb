{
 "cells": [
  {
   "cell_type": "code",
   "execution_count": 2,
   "metadata": {
    "collapsed": false
   },
   "outputs": [
    {
     "data": {
      "text/plain": [
       "3-element Array{ByteString,1}:\n",
       " \"/Applications/Julia-0.4.0.app/Contents/Resources/julia/local/share/julia/site/v0.4\"\n",
       " \"/Applications/Julia-0.4.0.app/Contents/Resources/julia/share/julia/site/v0.4\"      \n",
       " \"modules\"                                                                           "
      ]
     },
     "execution_count": 2,
     "metadata": {},
     "output_type": "execute_result"
    }
   ],
   "source": [
    "push!(LOAD_PATH, \"modules\")"
   ]
  },
  {
   "cell_type": "code",
   "execution_count": null,
   "metadata": {
    "collapsed": true
   },
   "outputs": [],
   "source": [
    "using IntervalArithmetic\n",
    "using AutoDiff\n",
    "using PurityIntervals\n",
    "\n",
    "# The vector x = [ω, θ] in Birkhoff mapping\n",
    "\n",
    "function alpha(n, m)\n",
    "\tif n > 0 && n <= 3 && m > 0 && m <= 3 && typeof(n) == Int && typeof(m) == Int && n != m\n",
    "\t\tk = pi/3\n",
    "\t\tif n == 1 && m == 2\n",
    "\t\t\treturn 0\n",
    "\t\telseif n == 1 && m == 3\n",
    "\t \t\treturn k\n",
    "\t\telseif n == 2 && m == 3\n",
    "\t \t\treturn 2k\n",
    "\t\telseif n == 2 && m == 1\n",
    "\t \t\treturn 3k\n",
    "\t\telseif n == 3 && m == 1\n",
    "\t \t\treturn 4k\n",
    "\t\telseif n == 3 && m == 2\n",
    "\t \t\treturn 5k\n",
    "\t \tend\n",
    "\telse\n",
    "\t    error(\"Invalid parameters: should be 1, 2, 3 and not equal\")\n",
    "\tend\n",
    "end\n",
    "\n",
    "#=\n",
    "function T(x, n, m, r)\n",
    "\twnext = ω - r*(ω*cos(θ - alpha(n, m)) + sqrt_d(1 - ω^2)*sin(θ - alpha(n, m)))\n",
    "\t[wnext, mod(θ + float(pi) + arcsin_d(x[1]) + arcsin_d(wnext), 2pi)]\n",
    "end\n",
    "=#\n",
    "\n",
    "function T(x, n, m, r)\n",
    "\tω, θ = x\n",
    "\n",
    "\tω_next = ω - r*(ω*cos(θ - alpha(n, m)) + √(1 - ω^2)*sin(θ - alpha(n, m)))\n",
    "\t#θ_next = mod(θ + big(pi) + asin(ω) + asin(ω_next), 2π)\n",
    "\tθ_next = θ + big(pi) + asin(ω) + asin(ω_next)\n",
    "\n",
    "\t[ω_next, θ_next]\n",
    "end\n",
    "\n",
    "\n",
    "using PyPlot\n",
    "\n",
    "distance_between_centers = 6.\n",
    "\n",
    "#= These functions have been replaced by path()\n",
    "f12(x) = T(x, 1, 2, distance_between_centers)\n",
    "f13(x) = T(x, 1, 3, distance_between_centers)\n",
    "\n",
    "function twice_123(x0)\n",
    "\tx1 = T(x0, 1, 2, distance_between_centers)\n",
    "\tx2 = T(x1, 2, 3, distance_between_centers)\n",
    "\n",
    "\tx2\n",
    "\n",
    "end\n",
    "\n",
    "function twice_123(x0)\n",
    "\tx1 = T(x0, 1, 2, distance_between_centers)\n",
    "\tx2 = T(x1, 2, 3, distance_between_centers)\n",
    "\n",
    "\tx2\n",
    "\n",
    "end\n",
    "\n",
    "function iterate_1231(x0)\n",
    "\tx1 = T(x0, 1, 2, distance_between_centers)\n",
    "\tx2 = T(x1, 2, 3, distance_between_centers)\n",
    "\tx3 = T(x2, 3, 1, distance_between_centers)\n",
    "\tx3\n",
    "end\n",
    "=#\n",
    "\n",
    "# x = [ω, θ] and n is array of path points, e.g. [1, 2, 3, 1, 3]\n",
    "function path(x, n)\n",
    "    for i = 1:length(n)-1\n",
    "        if n[i] != n[i+1]\n",
    "            x = T(x, n[i], n[i+1], distance_between_centers)\n",
    "        else\n",
    "            error(\"Cannot hit the same disk twice in succession\")\n",
    "        end\n",
    "    end\n",
    "    x\n",
    "end\n",
    "\n",
    "\n",
    "function plot_band(f, N)\n",
    "\n",
    "\t# Split the phase space w = [-1, 1], th = [0, pi/3] into 30x30 rectangles\n",
    "\trw = Interval(-0.95, 0.95)\n",
    "\trth = Interval(0.05, float(pi)/3-0.05)\n",
    "\tdeltaw = diam(rw/N)\n",
    "\tdeltath = diam(rth/N)\n",
    "\n",
    "\tpoints = Array{BigFloat, 1}[]\n",
    "\tpurities = Int[]\n",
    "\n",
    "\tfor i = 1:N\n",
    "\t\tfor j = 1:N\n",
    "\t\t\trect = [rw.lo + i*deltaw - Interval(0, deltaw), rth.lo + j*deltath - Interval(0, deltath)]\n",
    "\t\t\tp = purity(f, rect)\n",
    "\t\t\t#println([rect, p])\n",
    "\t\t\tpush!(points, mid(rect))\n",
    "\t\t\tpush!(purities, p)\n",
    "\n",
    "\t\tend\n",
    "\tend\n",
    "\n",
    "\tx = [Float64(xx[1]) for xx in points]\n",
    "\ty = [Float64(xx[2]) for xx in points]\n",
    "\n",
    "\tp = purities\n",
    "\n",
    "\tfor i in (0, 1, -1)\n",
    "\t\tplot(y[p.==i], x[p.==i], \"o\", label=\"$i\", alpha = 0.5)\n",
    "\tend\n",
    "\tlegend()\n",
    "\n",
    "end\n",
    "\n",
    "#plot_band(f12)\n",
    "#plot_band(f13)\n",
    "\n",
    "#plot_band(twice_123, 100)\n",
    "#plot_band(x -> path(x, [1, 2, 3]), 100)\n",
    "\n",
    "rect = [Interval(-0.999, 0.999), Interval(0.001, big(pi)/3-0.001)]\n",
    "points = Array{Interval, 1}[]\n",
    "purities = Int[]\n",
    "\n",
    "function plot_band_bisection(f, rect, tol)\n",
    "    limitrect(rect) = max(diam(rect)[1], diam(rect)[2]) < tol\n",
    "    p = purity(f, rect)\n",
    "    if p != -1\n",
    "        if p == 1\n",
    "            #println(\"Went to p=1\")\n",
    "            push!(points, rect)\n",
    "            push!(purities, p)\n",
    "            #println(\"Clean recorded\")\n",
    "        elseif p == 0\n",
    "            #println(\"Went to p=0\")\n",
    "            if limitrect(rect)\n",
    "                push!(points, rect)\n",
    "                push!(purities, p)\n",
    "                #println(\"Unclean recorded\")\n",
    "            else\n",
    "                pieces = bisect(rect)\n",
    "                for i = 1:4\n",
    "                    plot_band_bisection(f, pieces[i], tol)\n",
    "                end\n",
    "            end\n",
    "        end\n",
    "    end\n",
    "    points, purities\n",
    "end\n",
    "\n",
    "function plot_band_bisection_dirty(f, rect, tol)\n",
    "    limitrect(rect) = max(diam(rect)[1], diam(rect)[2]) < tol\n",
    "    p = purity(f, rect)\n",
    "    if p == 1 || p == -1\n",
    "        push!(points, rect)\n",
    "        push!(purities, p)\n",
    "    elseif p == 0\n",
    "        if limitrect(rect)\n",
    "            push!(points, rect)\n",
    "            push!(purities, p)\n",
    "        else\n",
    "            pieces = bisect(rect)\n",
    "            for i = 1:4\n",
    "                plot_band_bisection_dirty(f, pieces[i], tol)\n",
    "            end\n",
    "        end\n",
    "    end\n",
    "    points, purities\n",
    "end"
   ]
  },
  {
   "cell_type": "code",
   "execution_count": 70,
   "metadata": {
    "collapsed": false
   },
   "outputs": [
    {
     "data": {
      "text/plain": [
       "draw_rectangle (generic function with 2 methods)"
      ]
     },
     "execution_count": 70,
     "metadata": {},
     "output_type": "execute_result"
    }
   ],
   "source": [
    "# Using midpoints of rectangles! It works\n",
    "#=\n",
    "pts = mid(plot_band_bisection(x -> path(x, [1, 2]), rect, 1e-3))\n",
    "x = [Float64(xx[1]) for xx in pts]\n",
    "y = [Float64(xx[2]) for xx in pts]\n",
    "plot(y, x, \"o\")\n",
    "=#\n",
    "\n",
    "# Function to draw rectangles\n",
    "using PyCall\n",
    "@pyimport matplotlib.patches as patches\n",
    "rectangle = patches.Rectangle\n",
    "function draw_rectangle(x, y, xwidth, ywidth, color=\"grey\")\n",
    "    ax = gca()\n",
    "    ax[:add_patch](rectangle((x, y), xwidth, ywidth, facecolor=color, linewidth=0.1, alpha=0.5))\n",
    "end\n",
    "\n",
    "\n",
    "#=\n",
    "plot_band_bisection(x -> path(x, [1, 2]), rect, 1e-3)\n",
    "println(points)\n",
    "println(purities)\n",
    "=#\n",
    "\n",
    "#result = plot_band_bisection(x -> path(x, [1, 2]), rect, 1e-2)\n",
    "\n",
    "# Printing output for WM\n",
    "#=\n",
    "for i = 1:length(result[1])\n",
    "    println(\"$(result[1][i][1].lo) $(result[1][i][1].hi) $(result[1][i][2].lo) $(result[1][i][2].hi) $(result[2][i])\")\n",
    "end\n",
    "=#\n",
    "\n",
    "#= \n",
    "points, purities = plot_band_bisection(x -> path(x, [1, 2]), rect, 1e-2)\n",
    "\n",
    "for i = 1:length(points)\n",
    "    if purities[i] == 0\n",
    "        draw_rectangle(points[i][2].lo, points[i][1].lo, diam(points[i][2]), diam(points[i][1]), \"green\")\n",
    "    elseif purities[i] == 1\n",
    "        draw_rectangle(points[i][2].lo, points[i][1].lo, diam(points[i][2]), diam(points[i][1]), \"blue\")\n",
    "    end\n",
    "end\n",
    "axis([0, pi/3, -1, 1])\n",
    "=#"
   ]
  },
  {
   "cell_type": "code",
   "execution_count": 94,
   "metadata": {
    "collapsed": false
   },
   "outputs": [
    {
     "name": "stdout",
     "output_type": "stream",
     "text": [
      " 84"
     ]
    }
   ],
   "source": [
    "rect = [Interval(0.4, 0.5), Interval(-0.3, -0.29)]\n",
    "\n",
    "points = Array{Interval, 1}[]\n",
    "purities = Int[]\n",
    "@time points, purities = plot_band_bisection(x -> path(x, [1, 2, 3, 1]), rect, 1e-4);"
   ]
  },
  {
   "cell_type": "code",
   "execution_count": 95,
   "metadata": {
    "collapsed": false
   },
   "outputs": [
    {
     "data": {
      "text/plain": [
       "17403"
      ]
     },
     "execution_count": 95,
     "metadata": {},
     "output_type": "execute_result"
    }
   ],
   "source": [
    "length(points)"
   ]
  },
  {
   "cell_type": "code",
   "execution_count": 96,
   "metadata": {
    "collapsed": false
   },
   "outputs": [
    {
     "data": {
      "image/png": "[encoded data removed]",
      "text/plain": [
       "PyPlot.Figure(PyObject <matplotlib.figure.Figure object at 0x31e030f10>)"
      ]
     },
     "metadata": {},
     "output_type": "display_data"
    },
    {
     "data": {
      "text/plain": [
       "(-0.3000000000000001,-0.2900000000000001,0.4432617187499999,0.4749999999999999)"
      ]
     },
     "execution_count": 96,
     "metadata": {},
     "output_type": "execute_result"
    },
    {
     "name": "stdout",
     "output_type": "stream",
     "text": [
      ".129397 seconds (234.06 M allocations: 27.081 GB, 6.88% gc time)\n"
     ]
    }
   ],
   "source": [
    "figure()\n",
    "colors = [\"red\", \"green\", \"blue\"]\n",
    "for i = 1:length(points)\n",
    "    draw_rectangle(points[i][2].lo, points[i][1].lo, \n",
    "                    diam(points[i][2]), diam(points[i][1]), colors[purities[i]+2])\n",
    "\n",
    "end\n",
    "#axis([0, pi/3, -1, 1])\n",
    "axis(\"image\")"
   ]
  },
  {
   "cell_type": "code",
   "execution_count": 25,
   "metadata": {
    "collapsed": false
   },
   "outputs": [
    {
     "name": "stdout",
     "output_type": "stream",
     "text": [
      "search: "
     ]
    },
    {
     "data": {
      "text/latex": [
       "No documentation found.\n",
       "\\texttt{patches} is of type \\texttt{Module}:\n",
       "\\textbf{Summary:}\n",
       "\\begin{verbatim}\n",
       "type Module <: Any\n",
       "\\end{verbatim}\n",
       "\\textbf{Fields:}\n",
       "\\begin{verbatim}\n",
       "name   :: Symbol\n",
       "parent :: Any\n",
       "\\end{verbatim}\n"
      ],
      "text/markdown": [
       "No documentation found.\n",
       "\n",
       "`patches` is of type `Module`:\n",
       "\n",
       "**Summary:**\n",
       "\n",
       "```julia\n",
       "type Module <: Any\n",
       "```\n",
       "\n",
       "**Fields:**\n",
       "\n",
       "```julia\n",
       "name   :: Symbol\n",
       "parent :: Any\n",
       "```\n"
      ],
      "text/plain": [
       "No documentation found.\n",
       "\n",
       "`patches` is of type `Module`:\n",
       "\n",
       "**Summary:**\n",
       "\n",
       "```julia\n",
       "type Module <: Any\n",
       "```\n",
       "\n",
       "**Fields:**\n",
       "\n",
       "```julia\n",
       "name   :: Symbol\n",
       "parent :: Any\n",
       "```\n"
      ]
     },
     "execution_count": 25,
     "metadata": {},
     "output_type": "execute_result"
    },
    {
     "name": "stdout",
     "output_type": "stream",
     "text": [
      "patches PollingFileWatcher\n",
      "\n"
     ]
    }
   ],
   "source": [
    "?patches"
   ]
  },
  {
   "cell_type": "code",
   "execution_count": 55,
   "metadata": {
    "collapsed": false
   },
   "outputs": [],
   "source": [
    "f(x) = [asin(x[1] - x[2]) - float(pi)/2, sqrt(x[1] + x[2]) - 3]\n",
    "a = [Interval(-3, 8), Interval(-3, 7)];"
   ]
  },
  {
   "cell_type": "code",
   "execution_count": 56,
   "metadata": {
    "collapsed": false
   },
   "outputs": [
    {
     "name": "stdout",
     "output_type": "stream",
     "text": [
      "  0.456887 seconds (1.21 M allocations: 186.689 MB, 9.66% gc time)\n"
     ]
    }
   ],
   "source": [
    "points = Array{Interval, 1}[]\n",
    "purities = Int[]\n",
    "@time points, purities = plot_band_bisection_dirty(f, a, 1e-1);"
   ]
  },
  {
   "cell_type": "code",
   "execution_count": 57,
   "metadata": {
    "collapsed": false
   },
   "outputs": [
    {
     "data": {
      "image/png": "[encoded data removed]",
      "text/plain": [
       "PyPlot.Figure(PyObject <matplotlib.figure.Figure object at 0x34a65dcd0>)"
      ]
     },
     "metadata": {},
     "output_type": "display_data"
    },
    {
     "data": {
      "text/plain": [
       "(-3.0,7.0,-3.0,8.0)"
      ]
     },
     "execution_count": 57,
     "metadata": {},
     "output_type": "execute_result"
    }
   ],
   "source": [
    "figure()\n",
    "colors = [\"red\", \"green\", \"blue\"]\n",
    "for i = 1:length(points)\n",
    "    draw_rectangle(points[i][2].lo, points[i][1].lo, \n",
    "                    diam(points[i][2]), diam(points[i][1]), colors[purities[i]+2])\n",
    "\n",
    "end\n",
    "axis(\"image\")"
   ]
  },
  {
   "cell_type": "code",
   "execution_count": null,
   "metadata": {
    "collapsed": true
   },
   "outputs": [],
   "source": []
  }
 ],
 "metadata": {
  "kernelspec": {
   "display_name": "Julia 0.4.0",
   "language": "julia",
   "name": "julia-0.4"
  },
  "language_info": {
   "file_extension": ".jl",
   "mimetype": "application/julia",
   "name": "julia",
   "version": "0.4.0"
  }
 },
 "nbformat": 4,
 "nbformat_minor": 0
}
