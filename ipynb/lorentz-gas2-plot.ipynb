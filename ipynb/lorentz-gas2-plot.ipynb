{
 "metadata": {
  "language": "Julia",
  "name": ""
 },
 "nbformat": 3,
 "nbformat_minor": 0,
 "worksheets": [
  {
   "cells": [
    {
     "cell_type": "code",
     "collapsed": false,
     "input": [
      "include(\"lorentz-gas2.jl\")"
     ],
     "language": "python",
     "metadata": {},
     "outputs": [
      {
       "metadata": {},
       "output_type": "pyout",
       "prompt_number": 1,
       "text": [
        "0.445"
       ]
      }
     ],
     "prompt_number": 1
    },
    {
     "cell_type": "code",
     "collapsed": false,
     "input": [
      "points = collisions([0, 0.445],[cos(1), sin(1)], 0.1, 30)[1]"
     ],
     "language": "python",
     "metadata": {},
     "outputs": [
      {
       "metadata": {},
       "output_type": "pyout",
       "prompt_number": 15,
       "text": [
        "7-element Array{Array{T,1},1}:\n",
        " [0.0,0.445]           \n",
        " [0.94488,1.91656]     \n",
        " [-0.971676,-0.904095] \n",
        " [-0.989769,-0.0994753]\n",
        " [-0.0924276,-4.96183] \n",
        " [-2.93286,-6.92589]   \n",
        " [0.901081,-0.0146626] "
       ]
      }
     ],
     "prompt_number": 15
    },
    {
     "cell_type": "code",
     "collapsed": false,
     "input": [
      "using PyPlot"
     ],
     "language": "python",
     "metadata": {},
     "outputs": [
      {
       "output_type": "stream",
       "stream": "stderr",
       "text": [
        "INFO: Loading help data...\n"
       ]
      }
     ],
     "prompt_number": 2
    },
    {
     "cell_type": "code",
     "collapsed": false,
     "input": [
      "points1 = [0.0 0.445;     \n",
      " 0.94488 1.91656;  \n",
      " -0.971676 -0.904095; \n",
      " -0.989769 -0.0994753;\n",
      " -0.0924276 -4.96183; \n",
      " -2.93286 -6.92589;   \n",
      " 0.901081 -0.0146626]"
     ],
     "language": "python",
     "metadata": {},
     "outputs": [
      {
       "metadata": {},
       "output_type": "pyout",
       "prompt_number": 1,
       "text": [
        "7x2 Array{Float64,2}:\n",
        "  0.0         0.445    \n",
        "  0.94488     1.91656  \n",
        " -0.971676   -0.904095 \n",
        " -0.989769   -0.0994753\n",
        " -0.0924276  -4.96183  \n",
        " -2.93286    -6.92589  \n",
        "  0.901081   -0.0146626"
       ]
      }
     ],
     "prompt_number": 1
    },
    {
     "cell_type": "code",
     "collapsed": false,
     "input": [
      "plot(points1[:,1], points1[:,2])\n",
      "xlim(-3.5, 1.5); ylim(-8, 3)\n",
      "\n",
      "r=0.1\n",
      "for n = -5:2\n",
      "    for m = -10:3\n",
      "        x = linspace(-10,10,1000)\n",
      "        y1 = m + sqrt(r^2 - (x-n)^2)\n",
      "        y2 = m - sqrt(r^2 - (x-n)^2)\n",
      "        plot(x, y1)\n",
      "        plot(x, y2)\n",
      "    end\n",
      "end\n"
     ],
     "language": "python",
     "metadata": {},
     "outputs": [
      {
       "ename": "LoadError",
       "evalue": "`*` has no method matching *(::Array{Float64,1}, ::Array{Float64,1})\nwhile loading In[3], in expression starting on line 5",
       "output_type": "pyerr",
       "traceback": [
        "`*` has no method matching *(::Array{Float64,1}, ::Array{Float64,1})\nwhile loading In[3], in expression starting on line 5",
        "",
        " in getindex at /home/kriukov/.julia/PyCall/src/PyCall.jl:638",
        " in pysequence_query at /home/kriukov/.julia/PyCall/src/conversions.jl:743",
        " in pytype_query at /home/kriukov/.julia/PyCall/src/conversions.jl:759",
        " in convert at /home/kriukov/.julia/PyCall/src/conversions.jl:808",
        " in pycall at /home/kriukov/.julia/PyCall/src/PyCall.jl:808",
        " in fn at /home/kriukov/.julia/PyCall/src/conversions.jl:181",
        " in close_queued_figs at /home/kriukov/.julia/PyPlot/src/PyPlot.jl:231"
       ]
      },
      {
       "output_type": "stream",
       "stream": "stderr",
       "text": [
        "/usr/lib/pymodules/python2.6/matplotlib/backends/backend_gtk.py:621: DeprecationWarning: Use the new widget gtk.Tooltip\n",
        "  self.tooltips = gtk.Tooltips()\n"
       ]
      }
     ],
     "prompt_number": 3
    },
    {
     "cell_type": "code",
     "collapsed": false,
     "input": [],
     "language": "python",
     "metadata": {},
     "outputs": []
    }
   ],
   "metadata": {}
  }
 ]
}