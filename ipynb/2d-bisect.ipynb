{
"metadata": {
"language": "Julia",
"name": "",
"signature": "sha256:3d0b2c3cb6a8915ae17995f871bc029041c6e8c0706ecc6bcb4154952aac23ca"
},
"nbformat": 3,
"nbformat_minor": 0,
"worksheets": [
{
"cells": [
{
"cell_type": "code",
"collapsed": false,
"input": [
"using IntervalArithmetic"
],
"language": "python",
"metadata": {},
"outputs": [],
"prompt_number": 1
},
{
"cell_type": "code",
"collapsed": false,
"input": [
"left(x::Interval) = Interval(x.lo, mid(x))\n",
"right(x::Interval) = Interval(mid(x), x.hi)\n",
"\n",
"\n",
"function bisect(xx::Vector{Interval})\n",
" \n",
" if length(xx) != 2\n",
" error(\"Only works for 2 at the moment\")\n",
" end\n",
" \n",
" x, y = xx\n",
" \n",
" @show x\n",
" \n",
" intervals = Vector{Interval}[]\n",
" \n",
" push!(intervals, [left(x), left(y)])\n",
" push!(intervals, [left(x), right(y)])\n",
" push!(intervals, [right(x), left(y)])\n",
" push!(intervals, [right(x), right(y)])\n",
" \n",
" intervals\n",
"end"
],
"language": "python",
"metadata": {},
"outputs": [
{
"metadata": {},
"output_type": "pyout",
"prompt_number": 10,
"text": [
"bisect (generic function with 1 method)"
]
}
],
"prompt_number": 10
},
{
"cell_type": "code",
"collapsed": false,
"input": [
"a = Interval(0, 1)\n",
"b = Interval(0, 1)\n",
"\n",
"bisect([a,b])"
],
"language": "python",
"metadata": {},
"outputs": [
{
"output_type": "stream",
"stream": "stdout",
"text": [
"x => Interval(0e+00 with 256 bits of precision,1e+00 with 256 bits of precision)"
]
},
{
"output_type": "stream",
"stream": "stdout",
"text": [
"\n"
]
},
{
"metadata": {},
"output_type": "pyout",
"prompt_number": 11,
"text": [
"4-element Array{Array{Interval,1},1}:\n",
" [Interval(0e+00 with 256 bits of precision,5e-01 with 256 bits of precision),Interval(0e+00 with 256 bits of precision,5e-01 with 256 bits of precision)]\n",
" [Interval(0e+00 with 256 bits of precision,5e-01 with 256 bits of precision),Interval(5e-01 with 256 bits of precision,1e+00 with 256 bits of precision)]\n",
" [Interval(5e-01 with 256 bits of precision,1e+00 with 256 bits of precision),Interval(0e+00 with 256 bits of precision,5e-01 with 256 bits of precision)]\n",
" [Interval(5e-01 with 256 bits of precision,1e+00 with 256 bits of precision),Interval(5e-01 with 256 bits of precision,1e+00 with 256 bits of precision)]"
]
}
],
"prompt_number": 11
},
{
"cell_type": "code",
"collapsed": false,
"input": [],
"language": "python",
"metadata": {},
"outputs": []
}
],
"metadata": {}
}
]
}
