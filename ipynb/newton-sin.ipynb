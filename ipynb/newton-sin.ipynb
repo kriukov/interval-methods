{
 "metadata": {
  "language": "Julia",
  "name": ""
 },
 "nbformat": 3,
 "nbformat_minor": 0,
 "worksheets": [
  {
   "cells": [
    {
     "cell_type": "code",
     "collapsed": false,
     "input": [
      "using NewtonMethod"
     ],
     "language": "python",
     "metadata": {},
     "outputs": [
      {
       "output_type": "stream",
       "stream": "stdout",
       "text": [
        "Syntax: newton(function, Interval(lo, hi), calls)\n"
       ]
      },
      {
       "output_type": "stream",
       "stream": "stderr",
       "text": [
        "Warning: requiring \"NewtonMethod\" did not define a corresponding module.\n"
       ]
      }
     ],
     "prompt_number": 1
    },
    {
     "cell_type": "code",
     "collapsed": false,
     "input": [
      "f(x) = sin(x)"
     ],
     "language": "python",
     "metadata": {},
     "outputs": [
      {
       "metadata": {},
       "output_type": "pyout",
       "prompt_number": 2,
       "text": [
        "f (generic function with 1 method)"
       ]
      }
     ],
     "prompt_number": 2
    },
    {
     "cell_type": "code",
     "collapsed": false,
     "input": [
      "newton(f, Interval(-20., 20.), 40)"
     ],
     "language": "python",
     "metadata": {},
     "outputs": [
      {
       "metadata": {},
       "output_type": "pyout",
       "prompt_number": 3,
       "text": [
        "7-element Array{Interval,1}:\n",
        " Interval(-18.849555921516185,-18.84955592151618) \n",
        " Interval(-15.707963267926392,-15.707963267926392)\n",
        " Interval(-9.424777960746805,-9.424777960746804)  \n",
        " Interval(-6.283185307157011,-6.2831853071570105) \n",
        " Interval(-3.1415926535897936,-3.141592653589793) \n",
        " Interval(-0.0,5.0e-324)                          \n",
        " Interval(12.566370614381748,12.56637061438175)   "
       ]
      }
     ],
     "prompt_number": 3
    },
    {
     "cell_type": "code",
     "collapsed": false,
     "input": [
      "newton(f, Interval(-21., 21.), 40)"
     ],
     "language": "python",
     "metadata": {},
     "outputs": [
      {
       "metadata": {},
       "output_type": "pyout",
       "prompt_number": 4,
       "text": [
        "8-element Array{Interval,1}:\n",
        " Interval(-15.707963267948967,-15.707963267948966)\n",
        " Interval(-12.566370614359174,-12.566370614359172)\n",
        " Interval(-9.424777960746805,-9.424777960746804)  \n",
        " Interval(-6.283185307157011,-6.2831853071570105) \n",
        " Interval(-0.0,5.0e-324)                          \n",
        " Interval(12.566370614381748,12.56637061438175)   \n",
        " Interval(15.707963267971541,15.707963267971541)  \n",
        " Interval(18.849555921561333,18.849555921561336)  "
       ]
      }
     ],
     "prompt_number": 4
    },
    {
     "cell_type": "code",
     "collapsed": false,
     "input": [
      "newton(f, Interval(-23., 23.), 40)"
     ],
     "language": "python",
     "metadata": {},
     "outputs": [
      {
       "metadata": {},
       "output_type": "pyout",
       "prompt_number": 5,
       "text": [
        "7-element Array{Interval,1}:\n",
        " Interval(-21.991148575105978,-21.991148575105974)\n",
        " Interval(-18.849555921516185,-18.84955592151618) \n",
        " Interval(-15.707963267926392,-15.70796326792639) \n",
        " Interval(-12.566370614336599,-12.566370614336597)\n",
        " Interval(-9.424777960746805,-9.424777960746804)  \n",
        " Interval(-6.283185307157011,-6.2831853071570105) \n",
        " Interval(-0.0,5.0e-324)                          "
       ]
      }
     ],
     "prompt_number": 5
    },
    {
     "cell_type": "code",
     "collapsed": false,
     "input": [
      "newton(f, Interval(-21., 22.), 40)"
     ],
     "language": "python",
     "metadata": {},
     "outputs": [
      {
       "metadata": {},
       "output_type": "pyout",
       "prompt_number": 6,
       "text": [
        "8-element Array{Interval,1}:\n",
        " Interval(-15.707963267948967,-15.707963267948966)\n",
        " Interval(-12.566370614359174,-12.566370614359172)\n",
        " Interval(-9.424777960746805,-9.424777960746804)  \n",
        " Interval(-6.283185307157011,-6.2831853071570105) \n",
        " Interval(-0.0,5.0e-324)                          \n",
        " Interval(12.566370614381748,12.56637061438175)   \n",
        " Interval(15.707963267971541,15.707963267971543)  \n",
        " Interval(21.991148575151126,21.99114857515113)   "
       ]
      }
     ],
     "prompt_number": 6
    },
    {
     "cell_type": "code",
     "collapsed": false,
     "input": [
      "newton(f, Interval(-22., 21.), 40)"
     ],
     "language": "python",
     "metadata": {},
     "outputs": [
      {
       "metadata": {},
       "output_type": "pyout",
       "prompt_number": 7,
       "text": [
        "9-element Array{Interval,1}:\n",
        " Interval(-21.991148575128555,-21.991148575128552)\n",
        " Interval(-18.849555921516185,-18.849555921516185)\n",
        " Interval(-15.707963267948967,-15.707963267948966)\n",
        " Interval(-9.424777960746805,-9.424777960746804)  \n",
        " Interval(-6.283185307179587,-6.283185307179586)  \n",
        " Interval(-3.1415926535897936,-3.141592653589793) \n",
        " Interval(12.566370614381748,12.56637061438175)   \n",
        " Interval(15.707963267971541,15.707963267971541)  \n",
        " Interval(18.849555921561333,18.849555921561336)  "
       ]
      }
     ],
     "prompt_number": 7
    },
    {
     "cell_type": "code",
     "collapsed": false,
     "input": [
      "newton(f, Interval(-20., 20.), 40)"
     ],
     "language": "python",
     "metadata": {},
     "outputs": [
      {
       "metadata": {},
       "output_type": "pyout",
       "prompt_number": 8,
       "text": [
        "7-element Array{Interval,1}:\n",
        " Interval(-18.849555921516185,-18.84955592151618) \n",
        " Interval(-15.707963267926392,-15.707963267926392)\n",
        " Interval(-9.424777960746805,-9.424777960746804)  \n",
        " Interval(-6.283185307157011,-6.2831853071570105) \n",
        " Interval(-3.1415926535897936,-3.141592653589793) \n",
        " Interval(-0.0,5.0e-324)                          \n",
        " Interval(12.566370614381748,12.56637061438175)   "
       ]
      }
     ],
     "prompt_number": 8
    },
    {
     "cell_type": "code",
     "collapsed": false,
     "input": [
      "newton(f, Interval(-20., 20.), 50)"
     ],
     "language": "python",
     "metadata": {},
     "outputs": [
      {
       "metadata": {},
       "output_type": "pyout",
       "prompt_number": 9,
       "text": [
        "7-element Array{Interval,1}:\n",
        " Interval(-18.849555921516185,-18.84955592151618) \n",
        " Interval(-15.707963267926392,-15.707963267926392)\n",
        " Interval(-9.424777960746805,-9.424777960746804)  \n",
        " Interval(-6.283185307157011,-6.2831853071570105) \n",
        " Interval(-3.1415926535897936,-3.141592653589793) \n",
        " Interval(-0.0,5.0e-324)                          \n",
        " Interval(12.566370614381748,12.56637061438175)   "
       ]
      }
     ],
     "prompt_number": 9
    },
    {
     "cell_type": "code",
     "collapsed": false,
     "input": [
      "newton(f, Interval(-20., 20.), 30)"
     ],
     "language": "python",
     "metadata": {},
     "outputs": [
      {
       "metadata": {},
       "output_type": "pyout",
       "prompt_number": 10,
       "text": [
        "7-element Array{Interval,1}:\n",
        " Interval(-18.849555921516185,-18.84955592151618) \n",
        " Interval(-15.707963267926392,-15.707963267926392)\n",
        " Interval(-9.424777960746805,-9.424777960746804)  \n",
        " Interval(-6.283185307157011,-6.2831853071570105) \n",
        " Interval(-3.1415926535897936,-3.141592653589793) \n",
        " Interval(-0.0,2.2538265914667098e-260)           \n",
        " Interval(12.566370614381748,12.56637061438175)   "
       ]
      }
     ],
     "prompt_number": 10
    },
    {
     "cell_type": "code",
     "collapsed": false,
     "input": [
      "newton(f, Interval(-24., 22.), 40)"
     ],
     "language": "python",
     "metadata": {},
     "outputs": [
      {
       "metadata": {},
       "output_type": "pyout",
       "prompt_number": 11,
       "text": [
        "9-element Array{Interval,1}:\n",
        " Interval(-21.991148575128555,-21.991148575128552)\n",
        " Interval(-18.849555921538762,-18.84955592153876) \n",
        " Interval(-9.424777960746805,-9.424777960746804)  \n",
        " Interval(-6.283185307179587,-6.283185307179586)  \n",
        " Interval(-3.1415926535897936,-3.141592653589793) \n",
        " Interval(-0.0,0.0)                               \n",
        " Interval(6.283185307202162,6.283185307202162)    \n",
        " Interval(18.849555921561333,18.849555921561336)  \n",
        " Interval(21.991148575151126,21.99114857515113)   "
       ]
      }
     ],
     "prompt_number": 11
    },
    {
     "cell_type": "markdown",
     "metadata": {},
     "source": [
      "The roots that are lost depend on the points of the interval. No other function (except sin and based on it cos) does this. Interestingly, changing the procedure of sin into an alternative one left the problem unchanged."
     ]
    },
    {
     "cell_type": "code",
     "collapsed": false,
     "input": [],
     "language": "python",
     "metadata": {},
     "outputs": []
    }
   ],
   "metadata": {}
  }
 ]
}