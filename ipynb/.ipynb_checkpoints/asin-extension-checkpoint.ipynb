{
 "metadata": {
  "language": "Julia",
  "name": ""
 },
 "nbformat": 3,
 "nbformat_minor": 0,
 "worksheets": [
  {
   "cells": [
    {
     "cell_type": "heading",
     "level": 1,
     "metadata": {},
     "source": [
      "Resolution of the asin() problem"
     ]
    },
    {
     "cell_type": "markdown",
     "metadata": {},
     "source": [
      "Let's take the example function"
     ]
    },
    {
     "cell_type": "code",
     "collapsed": false,
     "input": [
      "f(x) = asin(x)/x - pi/3"
     ],
     "language": "python",
     "metadata": {},
     "outputs": [
      {
       "metadata": {},
       "output_type": "pyout",
       "prompt_number": 1,
       "text": [
        "f (generic function with 1 method)"
       ]
      }
     ],
     "prompt_number": 1
    },
    {
     "cell_type": "markdown",
     "metadata": {},
     "source": [
      "It has two symmetrical roots, -1/2 and 1/2."
     ]
    },
    {
     "cell_type": "markdown",
     "metadata": {},
     "source": [
      "The zero-finding algorithms will encounter the roots as long as we start with the intervals fitting in the domain of arcsin:"
     ]
    },
    {
     "cell_type": "code",
     "collapsed": false,
     "input": [
      "using KrawczykMethod"
     ],
     "language": "python",
     "metadata": {},
     "outputs": [
      {
       "output_type": "stream",
       "stream": "stdout",
       "text": [
        "Syntax: krawczyk(function, Interval(lo, hi), precision [default is 64])\n"
       ]
      }
     ],
     "prompt_number": 2
    },
    {
     "cell_type": "code",
     "collapsed": false,
     "input": [
      "krawczyk(f, Interval(-0.9, 0.9))"
     ],
     "language": "python",
     "metadata": {},
     "outputs": [
      {
       "output_type": "stream",
       "stream": "stdout",
       "text": [
        "Unique zero in Interval(-4.99999999999999468768e-01 with 64 bits of precision,-4.99999999999999462507e-01 with 64 bits of precision)\n"
       ]
      },
      {
       "output_type": "stream",
       "stream": "stdout",
       "text": [
        "Maybe a zero in Interval(-3.12198595744902126454e-15 with 64 bits of precision,-2.32258541169002204847e-15 with 64 bits of precision)"
       ]
      },
      {
       "output_type": "stream",
       "stream": "stdout",
       "text": [
        "\n",
        "Maybe a zero in Interval(-2.32258541169002204885e-15 with 64 bits of precision,-1.52318486593102283268e-15 with 64 bits of precision)\n",
        "Maybe a zero in Interval(-1.52318486593102283287e-15 with 64 bits of precision,-7.23784320172023617034e-16 with 64 bits of precision)\n",
        "Maybe a zero in Interval(-7.23784320172023617226e-16 with 64 bits of precision,7.56162255869755988157e-17 with 64 bits of precision)\n",
        "Maybe a zero in Interval(7.56162255869755988037e-17 with 64 bits of precision,8.75016771345974814737e-16 with 64 bits of precision)\n",
        "Maybe a zero in Interval(8.75016771345974814689e-16 with 64 bits of precision,1.67441731710497403067e-15 with 64 bits of precision)\n",
        "Maybe a zero in Interval(1.67441731710497403048e-15 with 64 bits of precision,2.47381786286397324665e-15 with 64 bits of precision)\n",
        "Maybe a zero in Interval(2.47381786286397324646e-15 with 64 bits of precision,3.27321840862297246234e-15 with 64 bits of precision)\n",
        "Unique zero in Interval(4.99999999999999461721e-01 with 64 bits of precision,4.99999999999999468741e-01 with 64 bits of precision)"
       ]
      },
      {
       "output_type": "stream",
       "stream": "stdout",
       "text": [
        "\n"
       ]
      },
      {
       "metadata": {},
       "output_type": "pyout",
       "prompt_number": 3,
       "text": [
        "10-element Array{Any,1}:\n",
        " {Interval(-4.99999999999999468768e-01 with 64 bits of precision,-4.99999999999999462507e-01 with 64 bits of precision),:unique}  \n",
        " {Interval(-3.12198595744902126454e-15 with 64 bits of precision,-2.32258541169002204847e-15 with 64 bits of precision),:possible}\n",
        " {Interval(-2.32258541169002204885e-15 with 64 bits of precision,-1.52318486593102283268e-15 with 64 bits of precision),:possible}\n",
        " {Interval(-1.52318486593102283287e-15 with 64 bits of precision,-7.23784320172023617034e-16 with 64 bits of precision),:possible}\n",
        " {Interval(-7.23784320172023617226e-16 with 64 bits of precision,7.56162255869755988157e-17 with 64 bits of precision),:possible} \n",
        " {Interval(7.56162255869755988037e-17 with 64 bits of precision,8.75016771345974814737e-16 with 64 bits of precision),:possible}  \n",
        " {Interval(8.75016771345974814689e-16 with 64 bits of precision,1.67441731710497403067e-15 with 64 bits of precision),:possible}  \n",
        " {Interval(1.67441731710497403048e-15 with 64 bits of precision,2.47381786286397324665e-15 with 64 bits of precision),:possible}  \n",
        " {Interval(2.47381786286397324646e-15 with 64 bits of precision,3.27321840862297246234e-15 with 64 bits of precision),:possible}  \n",
        " {Interval(4.99999999999999461721e-01 with 64 bits of precision,4.99999999999999468741e-01 with 64 bits of precision),:unique}    "
       ]
      }
     ],
     "prompt_number": 3
    },
    {
     "cell_type": "code",
     "collapsed": false,
     "input": [
      "using NewtonMethod"
     ],
     "language": "python",
     "metadata": {},
     "outputs": [
      {
       "output_type": "stream",
       "stream": "stdout",
       "text": [
        "Syntax: newton(function, Interval(lo, hi), precision [default is 64])\n"
       ]
      }
     ],
     "prompt_number": 4
    },
    {
     "cell_type": "code",
     "collapsed": false,
     "input": [
      "newton(f, Interval(-0.9, 0.9))"
     ],
     "language": "python",
     "metadata": {},
     "outputs": [
      {
       "output_type": "stream",
       "stream": "stdout",
       "text": [
        "Function calls: 13"
       ]
      },
      {
       "output_type": "stream",
       "stream": "stdout",
       "text": [
        "\n"
       ]
      },
      {
       "metadata": {},
       "output_type": "pyout",
       "prompt_number": 5,
       "text": [
        "2-element Array{Interval,1}:\n",
        " Interval(-4.99999999999999321696e-01 with 64 bits of precision,-4.99999999999999319094e-01 with 64 bits of precision)\n",
        " Interval(4.99999999999999319094e-01 with 64 bits of precision,4.99999999999999321181e-01 with 64 bits of precision)  "
       ]
      }
     ],
     "prompt_number": 5
    },
    {
     "cell_type": "markdown",
     "metadata": {},
     "source": [
      "But if we set the interval which goes outside of the domain, we get errors."
     ]
    },
    {
     "cell_type": "code",
     "collapsed": false,
     "input": [
      "krawczyk(f, Interval(-2, 2))"
     ],
     "language": "python",
     "metadata": {},
     "outputs": [
      {
       "ename": "LoadError",
       "evalue": "DomainError\nwhile loading In[6], in expression starting on line 1",
       "output_type": "pyerr",
       "traceback": [
        "DomainError\nwhile loading In[6], in expression starting on line 1",
        "",
        " in asin at mpfr.jl:573",
        " in asin at /home/kriukov/main/work/mexico/unam/interval-methods/modules/IntervalArithmetic.jl:507",
        " in f at In[1]:1",
        " in differentiate at /home/kriukov/main/work/mexico/unam/interval-methods/modules/AutoDiff.jl:101",
        " in krawczyk_internal at /home/kriukov/main/work/mexico/unam/interval-methods/modules/KrawczykMethod.jl:37",
        " in krawczyk at /home/kriukov/main/work/mexico/unam/interval-methods/modules/KrawczykMethod.jl:64",
        " in krawczyk at /home/kriukov/main/work/mexico/unam/interval-methods/modules/KrawczykMethod.jl:25"
       ]
      }
     ],
     "prompt_number": 6
    },
    {
     "cell_type": "code",
     "collapsed": false,
     "input": [
      "newton(f, Interval(-2, 2))"
     ],
     "language": "python",
     "metadata": {},
     "outputs": [
      {
       "ename": "LoadError",
       "evalue": "DomainError\nwhile loading In[7], in expression starting on line 1",
       "output_type": "pyerr",
       "traceback": [
        "DomainError\nwhile loading In[7], in expression starting on line 1",
        "",
        " in asin at mpfr.jl:573",
        " in asin at /home/kriukov/main/work/mexico/unam/interval-methods/modules/IntervalArithmetic.jl:507",
        " in f at In[1]:1",
        " in differentiate at /home/kriukov/main/work/mexico/unam/interval-methods/modules/AutoDiff.jl:101",
        " in N at /home/kriukov/main/work/mexico/unam/interval-methods/modules/NewtonMethod.jl:16",
        " in newton at /home/kriukov/main/work/mexico/unam/interval-methods/modules/NewtonMethod.jl:33",
        " in newton at /home/kriukov/main/work/mexico/unam/interval-methods/modules/NewtonMethod.jl:13"
       ]
      }
     ],
     "prompt_number": 7
    },
    {
     "cell_type": "code",
     "collapsed": false,
     "input": [],
     "language": "python",
     "metadata": {},
     "outputs": []
    }
   ],
   "metadata": {}
  }
 ]
}