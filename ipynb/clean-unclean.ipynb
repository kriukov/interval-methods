{
 "cells": [
  {
   "cell_type": "code",
   "execution_count": 3,
   "metadata": {
    "collapsed": false
   },
   "outputs": [
    {
     "data": {
      "text/plain": [
       "4-element Array{Union(ASCIIString,UTF8String),1}:\n",
       " \"/Users/dsanders/development/julia/usr/local/share/julia/site/v0.3\"        \n",
       " \"/Users/dsanders/development/julia/usr/share/julia/site/v0.3\"              \n",
       " \"/Users/dsanders/Dropbox/postdocs/nikolay_kryukov/interval-methods/modules\"\n",
       " \".\"                                                                        "
      ]
     },
     "execution_count": 3,
     "metadata": {},
     "output_type": "execute_result"
    }
   ],
   "source": [
    "push!(LOAD_PATH, \".\")"
   ]
  },
  {
   "cell_type": "code",
   "execution_count": 4,
   "metadata": {
    "collapsed": false
   },
   "outputs": [
    {
     "name": "stdout",
     "output_type": "stream",
     "text": [
      "Syntax: krawczyk2d(function, [Interval(lo, hi), Interval(lo, hi)], precision [default is 64])\n"
     ]
    }
   ],
   "source": [
    "using KrawczykMethod2D\n",
    "using IntervalArithmetic"
   ]
  },
  {
   "cell_type": "code",
   "execution_count": null,
   "metadata": {
    "collapsed": true
   },
   "outputs": [],
   "source": []
  },
  {
   "cell_type": "code",
   "execution_count": 6,
   "metadata": {
    "collapsed": false
   },
   "outputs": [
    {
     "data": {
      "text/plain": [
       "sqrt_new (generic function with 1 method)"
      ]
     },
     "execution_count": 6,
     "metadata": {},
     "output_type": "execute_result"
    }
   ],
   "source": [
    "function asin_new(x::Interval)\n",
    "    domain = Interval(-1, 1)\n",
    "    if isect(x, domain) == false\n",
    "        throw(DomainError)\n",
    "        \n",
    "    elseif inside(x, domain)\n",
    "        return asin(x)\n",
    "        \n",
    "        else throw(ArgumentError)\n",
    "    end\n",
    "end\n",
    "\n",
    "function sqrt_new(x::Interval)\n",
    "    domain = Interval(0, Inf)\n",
    "    if isect(x, domain) == false\n",
    "        throw(DomainError)\n",
    "        \n",
    "    elseif inside(x, domain)\n",
    "        return sqrt(x)\n",
    "        \n",
    "        else throw(ArgumentError)\n",
    "    end\n",
    "end"
   ]
  },
  {
   "cell_type": "code",
   "execution_count": 4,
   "metadata": {
    "collapsed": false
   },
   "outputs": [
    {
     "data": {
      "text/plain": [
       "Interval(5.235987755982988730771072305465838140328615665625176368291574320513027343810388e-01 with 256 bits of precision,6.435011087932843868028092287173226380415105911153123828656061187135124748116413e-01 with 256 bits of precision)"
      ]
     },
     "execution_count": 4,
     "metadata": {},
     "output_type": "execute_result"
    }
   ],
   "source": [
    "asin_new(Interval(0.5, 0.6))"
   ]
  },
  {
   "cell_type": "code",
   "execution_count": 5,
   "metadata": {
    "collapsed": false
   },
   "outputs": [
    {
     "ename": "LoadError",
     "evalue": "DomainError\nwhile loading In[5], in expression starting on line 1",
     "output_type": "error",
     "traceback": [
      "DomainError\nwhile loading In[5], in expression starting on line 1",
      "",
      " in asin_new at In[3]:4"
     ]
    }
   ],
   "source": [
    "asin_new(Interval(-10, -9))"
   ]
  },
  {
   "cell_type": "code",
   "execution_count": 6,
   "metadata": {
    "collapsed": false
   },
   "outputs": [
    {
     "ename": "LoadError",
     "evalue": "ArgumentError\nwhile loading In[6], in expression starting on line 1",
     "output_type": "error",
     "traceback": [
      "ArgumentError\nwhile loading In[6], in expression starting on line 1",
      "",
      " in asin_new at In[3]:9"
     ]
    }
   ],
   "source": [
    "asin_new(Interval(-10, 1))"
   ]
  },
  {
   "cell_type": "code",
   "execution_count": 8,
   "metadata": {
    "collapsed": false
   },
   "outputs": [
    {
     "ename": "LoadError",
     "evalue": "DomainError\nwhile loading In[8], in expression starting on line 1",
     "output_type": "error",
     "traceback": [
      "DomainError\nwhile loading In[8], in expression starting on line 1",
      "",
      " in asin_new at In[6]:4"
     ]
    }
   ],
   "source": [
    "sqrt_new(asin_new(Interval(2,3)))"
   ]
  },
  {
   "cell_type": "code",
   "execution_count": 10,
   "metadata": {
    "collapsed": false
   },
   "outputs": [
    {
     "data": {
      "text/plain": [
       "0.0"
      ]
     },
     "execution_count": 10,
     "metadata": {},
     "output_type": "execute_result"
    }
   ],
   "source": [
    "asin(0)"
   ]
  },
  {
   "cell_type": "code",
   "execution_count": 11,
   "metadata": {
    "collapsed": false
   },
   "outputs": [
    {
     "data": {
      "text/plain": [
       "0.6435011087932844"
      ]
     },
     "execution_count": 11,
     "metadata": {},
     "output_type": "execute_result"
    }
   ],
   "source": [
    "asin(0.6)"
   ]
  },
  {
   "cell_type": "code",
   "execution_count": null,
   "metadata": {
    "collapsed": true
   },
   "outputs": [],
   "source": []
  }
 ],
 "metadata": {
  "kernelspec": {
   "display_name": "Julia 0.3.8-pre",
   "language": "julia",
   "name": "julia-0.3"
  },
  "language_info": {
   "name": "julia",
   "version": "0.3.9"
  }
 },
 "nbformat": 4,
 "nbformat_minor": 0
}
