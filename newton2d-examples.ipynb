{
"metadata": {
"language": "Julia",
"name": "",
"signature": "sha256:f5659f10e8db0fe182f61bd8e6d5925f7ae80cbdbf66d269a920e00eb03518df"
},
"nbformat": 3,
"nbformat_minor": 0,
"worksheets": [
{
"cells": [
{
"cell_type": "code",
"collapsed": false,
"input": [
"include(\"newton2d.jl\")"
],
"language": "python",
"metadata": {},
"outputs": [
{
"metadata": {},
"output_type": "pyout",
"prompt_number": 1,
"text": [
"newton2d (generic function with 2 methods)"
]
}
],
"prompt_number": 1
},
{
"cell_type": "code",
"collapsed": false,
"input": [
"f(x) = [x[1]^2 + x[2]^2 - 1, x[1] - x[2]^2]"
],
"language": "python",
"metadata": {},
"outputs": [
{
"metadata": {},
"output_type": "pyout",
"prompt_number": 2,
"text": [
"f (generic function with 1 method)"
]
}
],
"prompt_number": 2
},
{
"cell_type": "code",
"collapsed": false,
"input": [
"a = [Interval(0.5, 0.8), Interval(0.6, 0.9)]"
],
"language": "python",
"metadata": {},
"outputs": [
{
"metadata": {},
"output_type": "pyout",
"prompt_number": 3,
"text": [
"2-element Array{Interval,1}:\n",
" Interval(5e-01 with 256 bits of precision,8.000000000000000000000000000000000000000000000000000000000000000000000000000017e-01 with 256 bits of precision) \n",
" Interval(5.999999999999999999999999999999999999999999999999999999999999999999999999999948e-01 with 256 bits of precision,9.000000000000000000000000000000000000000000000000000000000000000000000000000052e-01 with 256 bits of precision)"
]
}
],
"prompt_number": 3
},
{
"cell_type": "code",
"collapsed": false,
"input": [
"roots = newton2d(f, a, 64)"
],
"language": "python",
"metadata": {},
"outputs": [
{
"output_type": "stream",
"stream": "stdout",
"text": [
"roots_array_new = push!(roots_array_new,isectext(roots_array[i],N(roots_array[i]))) => [[Interval(5.69951923076923076632e-01 with 64 bits of precision,6.43645833333333333595e-01 with 64 bits of precision),Interval(7.76909722222222222138e-01 with 64 bits of precision,8.02564102564102564328e-01 with 64 bits of precision)]]"
]
},
{
"output_type": "stream",
"stream": "stdout",
"text": [
"\n",
"roots_array = roots_array_new => [[Interval(5.69951923076923076632e-01 with 64 bits of precision,6.43645833333333333595e-01 with 64 bits of precision),Interval(7.76909722222222222138e-01 with 64 bits of precision,8.02564102564102564328e-01 with 64 bits of precision)]]\n",
"roots_array_new = push!(roots_array_new,isectext(roots_array[i],N(roots_array[i]))) => [[Interval(6.16649962609692997909e-01 with 64 bits of precision,6.19676057175074426167e-01 with 64 bits of precision),Interval(7.85711856788002042517e-01 with 64 bits of precision,7.86710356930029978083e-01 with 64 bits of precision)]]\n",
"roots_array = roots_array_new => [[Interval(6.16649962609692997909e-01 with 64 bits of precision,6.19676057175074426167e-01 with 64 bits of precision),Interval(7.85711856788002042517e-01 with 64 bits of precision,7.86710356930029978083e-01 with 64 bits of precision)]]\n",
"roots_array_new = push!(roots_array_new,isectext(roots_array[i],N(roots_array[i]))) => [[Interval(6.18033201420526032209e-01 with 64 bits of precision,6.18034789347726672202e-01 with 64 bits of precision),Interval(7.86151061673094964761e-01 with 64 bits of precision,7.86151706419289133176e-01 with 64 bits of precision)]]\n",
"roots_array = roots_array_new => [[Interval(6.18033201420526032209e-01 with 64 bits of precision,6.18034789347726672202e-01 with 64 bits of precision),Interval(7.86151061673094964761e-01 with 64 bits of precision,7.86151706419289133176e-01 with 64 bits of precision)]]\n",
"roots_array_new = push!(roots_array_new,isectext(roots_array[i],N(roots_array[i]))) => [[Interval(6.18033988749863042703e-01 with 64 bits of precision,6.18033988749926693068e-01 with 64 bits of precision),Interval(7.86151377757410522269e-01 with 64 bits of precision,7.86151377757436125161e-01 with 64 bits of precision)]]\n",
"roots_array = roots_array_new => [[Interval(6.18033988749863042703e-01 with 64 bits of precision,6.18033988749926693068e-01 with 64 bits of precision),Interval(7.86151377757410522269e-01 with 64 bits of precision,7.86151377757436125161e-01 with 64 bits of precision)]]\n",
"roots_array_new = push!(roots_array_new,isectext(roots_array[i],N(roots_array[i]))) => [[Interval(6.18033988749894848045e-01 with 64 bits of precision,6.18033988749894848424e-01 with 64 bits of precision),Interval(7.86151377757423285931e-01 with 64 bits of precision,7.8615137775742328631e-01 with 64 bits of precision)]]\n",
"roots_array = roots_array_new => [[Interval(6.18033988749894848045e-01 with 64 bits of precision,6.18033988749894848424e-01 with 64 bits of precision),Interval(7.86151377757423285931e-01 with 64 bits of precision,7.8615137775742328631e-01 with 64 bits of precision)]]\n",
"roots_array_new = push!(roots_array_new,isectext(roots_array[i],N(roots_array[i]))) => [[Interval(6.18033988749894848045e-01 with 64 bits of precision,6.18033988749894848424e-01 with 64 bits of precision),Interval(7.86151377757423285931e-01 with 64 bits of precision,7.8615137775742328631e-01 with 64 bits of precision)]]\n",
"Function calls: 5\n"
]
},
{
"metadata": {},
"output_type": "pyout",
"prompt_number": 5,
"text": [
"1-element Array{Array{Interval,1},1}:\n",
" [Interval(6.18033988749894848045e-01 with 64 bits of precision,6.18033988749894848424e-01 with 64 bits of precision),Interval(7.86151377757423285931e-01 with 64 bits of precision,7.8615137775742328631e-01 with 64 bits of precision)]"
]
}
],
"prompt_number": 5
},
{
"cell_type": "code",
"collapsed": false,
"input": [
"f(roots[1])"
],
"language": "python",
"metadata": {},
"outputs": [
{
"metadata": {},
"output_type": "pyout",
"prompt_number": 7,
"text": [
"2-element Array{Interval,1}:\n",
" Interval(-5.42101086242752217051e-19 with 64 bits of precision,8.673617379884035473e-19 with 64 bits of precision) \n",
" Interval(-5.96311194867027438704e-19 with 64 bits of precision,4.87890977618476995303e-19 with 64 bits of precision)"
]
}
],
"prompt_number": 7
},
{
"cell_type": "code",
"collapsed": false,
"input": [
"# Works."
],
"language": "python",
"metadata": {},
"outputs": [],
"prompt_number": 5
},
{
"cell_type": "code",
"collapsed": false,
"input": [
"# 2nd example from Moore book"
],
"language": "python",
"metadata": {},
"outputs": [],
"prompt_number": 6
},
{
"cell_type": "code",
"collapsed": false,
"input": [
"f(x) = [20 - 20x[1] - x[2], x[1] - x[2]/20 - 1e-9*exp(x[2]/0.052)]"
],
"language": "python",
"metadata": {},
"outputs": [
{
"metadata": {},
"output_type": "pyout",
"prompt_number": 8,
"text": [
"f (generic function with 1 method)"
]
}
],
"prompt_number": 8
},
{
"cell_type": "code",
"collapsed": false,
"input": [
"a = [Interval(0.5, 1.2), Interval(0.6, 1.2)]"
],
"language": "python",
"metadata": {},
"outputs": [
{
"metadata": {},
"output_type": "pyout",
"prompt_number": 9,
"text": [
"2-element Array{Interval,1}:\n",
" Interval(5e-01 with 64 bits of precision,1.20000000000000000004e+00 with 64 bits of precision) \n",
" Interval(5.99999999999999999967e-01 with 64 bits of precision,1.20000000000000000004e+00 with 64 bits of precision)"
]
}
],
"prompt_number": 9
},
{
"cell_type": "code",
"collapsed": false,
"input": [
"roots = newton2d(f, a, 64)"
],
"language": "python",
"metadata": {},
"outputs": [
{
"output_type": "stream",
"stream": "stdout",
"text": [
"roots_array_new = push!(roots_array_new,isectext(roots_array[i],N(roots_array[i]))) => [[Interval(5.24913596541994085176e-01 with 64 bits of precision,9.54783404920287672335e-01 with 64 bits of precision),Interval(9.04331901594246556598e-01 with 64 bits of precision,1.20000000000000000004e+00 with 64 bits of precision)]]"
]
},
{
"output_type": "stream",
"stream": "stdout",
"text": [
"\n",
"roots_array = roots_array_new => [[Interval(5.24913596541994085176e-01 with 64 bits of precision,9.54783404920287672335e-01 with 64 bits of precision),Interval(9.04331901594246556598e-01 with 64 bits of precision,1.20000000000000000004e+00 with 64 bits of precision)]]\n",
"roots_array_new = push!(roots_array_new,isectext(roots_array[i],N(roots_array[i]))) => [[Interval(9.29487402579674734042e-01 with 64 bits of precision,9.47322133828186144428e-01 with 64 bits of precision),Interval(1.05355732343627711643e+00 with 64 bits of precision,1.20000000000000000004e+00 with 64 bits of precision)]]\n",
"roots_array = roots_array_new => [[Interval(9.29487402579674734042e-01 with 64 bits of precision,9.47322133828186144428e-01 with 64 bits of precision),Interval(1.05355732343627711643e+00 with 64 bits of precision,1.20000000000000000004e+00 with 64 bits of precision)]]\n",
"roots_array_new = push!(roots_array_new,isectext(roots_array[i],N(roots_array[i]))) => [[Interval(9.4405739404211960064e-01 with 64 bits of precision,9.47322133828186144428e-01 with 64 bits of precision),Interval(1.05355732343627711643e+00 with 64 bits of precision,1.11885211915760798037e+00 with 64 bits of precision)]]\n",
"roots_array = roots_array_new => [[Interval(9.4405739404211960064e-01 with 64 bits of precision,9.47322133828186144428e-01 with 64 bits of precision),Interval(1.05355732343627711643e+00 with 64 bits of precision,1.11885211915760798037e+00 with 64 bits of precision)]]\n",
"roots_array_new = push!(roots_array_new,isectext(roots_array[i],N(roots_array[i]))) => [[Interval(9.46028161295262554455e-01 with 64 bits of precision,9.46870644360673580542e-01 with 64 bits of precision),Interval(1.06258711278652839491e+00 with 64 bits of precision,1.07943677409474890645e+00 with 64 bits of precision)]]\n",
"roots_array = roots_array_new => [[Interval(9.46028161295262554455e-01 with 64 bits of precision,9.46870644360673580542e-01 with 64 bits of precision),Interval(1.06258711278652839491e+00 with 64 bits of precision,1.07943677409474890645e+00 with 64 bits of precision)]]\n",
"roots_array_new = push!(roots_array_new,isectext(roots_array[i],N(roots_array[i]))) => [[Interval(9.46407827444742915182e-01 with 64 bits of precision,9.46419276900890626275e-01 with 64 bits of precision),Interval(1.07161446198218747721e+00 with 64 bits of precision,1.07184345110514169289e+00 with 64 bits of precision)]]\n",
"roots_array = roots_array_new => [[Interval(9.46407827444742915182e-01 with 64 bits of precision,9.46419276900890626275e-01 with 64 bits of precision),Interval(1.07161446198218747721e+00 with 64 bits of precision,1.07184345110514169289e+00 with 64 bits of precision)]]\n",
"roots_array_new = push!(roots_array_new,isectext(roots_array[i],N(roots_array[i]))) => [[Interval(9.46414245222457044325e-01 with 64 bits of precision,9.46414248263380555859e-01 with 64 bits of precision),Interval(1.07171503473238888629e+00 with 64 bits of precision,1.07171509555085910917e+00 with 64 bits of precision)]]\n",
"roots_array = roots_array_new => [[Interval(9.46414245222457044325e-01 with 64 bits of precision,9.46414248263380555859e-01 with 64 bits of precision),Interval(1.07171503473238888629e+00 with 64 bits of precision,1.07171509555085910917e+00 with 64 bits of precision)]]\n",
"roots_array_new = push!(roots_array_new,isectext(roots_array[i],N(roots_array[i]))) => [[Interval(9.46414246833517562878e-01 with 64 bits of precision,9.46414246833517668533e-01 with 64 bits of precision),Interval(1.07171506332964663205e+00 with 64 bits of precision,1.07171506332964873995e+00 with 64 bits of precision)]]\n",
"roots_array = roots_array_new => [[Interval(9.46414246833517562878e-01 with 64 bits of precision,9.46414246833517668533e-01 with 64 bits of precision),Interval(1.07171506332964663205e+00 with 64 bits of precision,1.07171506332964873995e+00 with 64 bits of precision)]]\n",
"roots_array_new = push!(roots_array_new,isectext(roots_array[i],N(roots_array[i]))) => [[Interval(9.46414246833517617088e-01 with 64 bits of precision,9.46414246833517617467e-01 with 64 bits of precision),Interval(1.07171506332964765413e+00 with 64 bits of precision,1.07171506332964765488e+00 with 64 bits of precision)]]\n",
"roots_array = roots_array_new => [[Interval(9.46414246833517617088e-01 with 64 bits of precision,9.46414246833517617467e-01 with 64 bits of precision),Interval(1.07171506332964765413e+00 with 64 bits of precision,1.07171506332964765488e+00 with 64 bits of precision)]]\n",
"roots_array_new = push!(roots_array_new,isectext(roots_array[i],N(roots_array[i]))) => [[Interval(9.46414246833517617142e-01 with 64 bits of precision,9.46414246833517617467e-01 with 64 bits of precision),Interval(1.07171506332964765413e+00 with 64 bits of precision,1.07171506332964765488e+00 with 64 bits of precision)]]\n",
"roots_array = roots_array_new => [[Interval(9.46414246833517617142e-01 with 64 bits of precision,9.46414246833517617467e-01 with 64 bits of precision),Interval(1.07171506332964765413e+00 with 64 bits of precision,1.07171506332964765488e+00 with 64 bits of precision)]]\n",
"roots_array_new = push!(roots_array_new,isectext(roots_array[i],N(roots_array[i]))) => [[Interval(9.46414246833517617142e-01 with 64 bits of precision,9.46414246833517617467e-01 with 64 bits of precision),Interval(1.07171506332964765413e+00 with 64 bits of precision,1.07171506332964765488e+00 with 64 bits of precision)]]\n",
"Function calls: 9\n"
]
},
{
"metadata": {},
"output_type": "pyout",
"prompt_number": 11,
"text": [
"1-element Array{Array{Interval,1},1}:\n",
" [Interval(9.46414246833517617142e-01 with 64 bits of precision,9.46414246833517617467e-01 with 64 bits of precision),Interval(1.07171506332964765413e+00 with 64 bits of precision,1.07171506332964765488e+00 with 64 bits of precision)]"
]
}
],
"prompt_number": 11
},
{
"cell_type": "code",
"collapsed": false,
"input": [
"f(ans[1])"
],
"language": "python",
"metadata": {},
"outputs": [
{
"metadata": {},
"output_type": "pyout",
"prompt_number": 12,
"text": [
"2-element Array{Interval,1}:\n",
" Interval(-6.39679281766447616064e-18 with 64 bits of precision,4.87890977618476995303e-18 with 64 bits of precision)\n",
" Interval(-8.83624770575686113716e-18 with 64 bits of precision,1.20888542232133744399e-17 with 64 bits of precision)"
]
}
],
"prompt_number": 12
},
{
"cell_type": "code",
"collapsed": false,
"input": [
"# Works. Krawczyk2d is not yet capable of doing this on such an interval (only on a tiny one)"
],
"language": "python",
"metadata": {},
"outputs": [],
"prompt_number": 10
},
{
"cell_type": "code",
"collapsed": false,
"input": [
"# 3rd example from Moore"
],
"language": "python",
"metadata": {},
"outputs": [],
"prompt_number": 11
},
{
"cell_type": "heading",
"level": 2,
"metadata": {},
"source": [
"Complicated case with 3 zeros:"
]
},
{
"cell_type": "code",
"collapsed": false,
"input": [
"f(x) = [0.5*(-(17.76x[1] - 103.79x[1]^2 + 229.62x[1]^3 - 226.31x[1]^4 + 83.72x[1]^5) + x[2]), 0.2*(-x[1] - 1.5x[2] + 1.2)]"
],
"language": "python",
"metadata": {},
"outputs": [
{
"metadata": {},
"output_type": "pyout",
"prompt_number": 61,
"text": [
"f (generic function with 1 method)"
]
}
],
"prompt_number": 61
},
{
"cell_type": "heading",
"level": 3,
"metadata": {},
"source": [
"True zeros:"
]
},
{
"cell_type": "markdown",
"metadata": {},
"source": [
"There are three real roots: {x1 -> 0.062636, x2 -> 0.758243}, {x1 -> 0.88443, x2 -> 0.21038}, {x1 -> 0.285369, x2 -> 0.609754}"
]
},
{
"cell_type": "code",
"collapsed": false,
"input": [
"a = [Interval(0.01, 5), Interval(0.1, 5)]"
],
"language": "python",
"metadata": {},
"outputs": [
{
"metadata": {},
"output_type": "pyout",
"prompt_number": 62,
"text": [
"2-element Array{Interval,1}:\n",
" Interval(9.9999999999999999998e-03 with 64 bits of precision,5e+00 with 64 bits of precision) \n",
" Interval(9.99999999999999999946e-02 with 64 bits of precision,5e+00 with 64 bits of precision)"
]
}
],
"prompt_number": 62
},
{
"cell_type": "code",
"collapsed": false,
"input": [
"newton2d(f, a, 64)"
],
"language": "python",
"metadata": {},
"outputs": [
{
"output_type": "stream",
"stream": "stdout",
"text": [
"roots_array_new = push!(roots_array_new,isectext(roots_array[i],N(roots_array[i]))) => [[Interval(9.9999999999999999998e-03 with 64 bits of precision,2.52558389946483697317e+00 with 64 bits of precision),Interval(9.99999999999999999946e-02 with 64 bits of precision,5e+00 with 64 bits of precision)]]"
]
},
{
"output_type": "stream",
"stream": "stdout",
"text": [
"\n",
"roots_array = roots_array_new => [[Interval(9.9999999999999999998e-03 with 64 bits of precision,2.52558389946483697317e+00 with 64 bits of precision),Interval(9.99999999999999999946e-02 with 64 bits of precision,5e+00 with 64 bits of precision)]]\n",
"roots_array_new = push!(roots_array_new,isectext(roots_array[i],N(roots_array[i]))) => [[Interval(9.9999999999999999998e-03 with 64 bits of precision,1.2686662376273644769e+00 with 64 bits of precision),Interval(9.99999999999999999946e-02 with 64 bits of precision,5e+00 with 64 bits of precision)]]\n",
"roots_array = roots_array_new => [[Interval(9.9999999999999999998e-03 with 64 bits of precision,1.2686662376273644769e+00 with 64 bits of precision),Interval(9.99999999999999999946e-02 with 64 bits of precision,5e+00 with 64 bits of precision)]]\n",
"roots_array_new = push!(roots_array_new,isectext(roots_array[i],N(roots_array[i]))) => [[Interval(9.9999999999999999998e-03 with 64 bits of precision,6.41495905915175664469e-01 with 64 bits of precision),Interval(3.72336062723216222939e-01 with 64 bits of precision,4.84710334659612871984e+00 with 64 bits of precision)]]\n",
"roots_array = roots_array_new => [[Interval(9.9999999999999999998e-03 with 64 bits of precision,6.41495905915175664469e-01 with 64 bits of precision),Interval(3.72336062723216222939e-01 with 64 bits of precision,4.84710334659612871984e+00 with 64 bits of precision)]]\n",
"roots_array_new = push!(roots_array_new,isectext(roots_array[i],N(roots_array[i]))) => [[Interval(9.9999999999999999998e-03 with 64 bits of precision,3.37257266081398510295e-01 with 64 bits of precision),Interval(5.75161822612400992316e-01 with 64 bits of precision,4.73470830452635709981e+00 with 64 bits of precision)]]\n",
"roots_array = roots_array_new => [[Interval(9.9999999999999999998e-03 with 64 bits of precision,3.37257266081398510295e-01 with 64 bits of precision),Interval(5.75161822612400992316e-01 with 64 bits of precision,4.73470830452635709981e+00 with 64 bits of precision)]]\n",
"roots_array_new = push!(roots_array_new,isectext(roots_array[i],N(roots_array[i]))) => [[Interval(9.9999999999999999998e-03 with 64 bits of precision,2.13368376853307920932e-01 with 64 bits of precision),Interval(6.57754415431128052253e-01 with 64 bits of precision,4.73470830452635709981e+00 with 64 bits of precision)]]\n",
"roots_array = roots_array_new => [[Interval(9.9999999999999999998e-03 with 64 bits of precision,2.13368376853307920932e-01 with 64 bits of precision),Interval(6.57754415431128052253e-01 with 64 bits of precision,4.73470830452635709981e+00 with 64 bits of precision)]]\n",
"roots_array_new = push!(roots_array_new,isectext(roots_array[i],N(roots_array[i]))) => [[Interval(9.9999999999999999998e-03 with 64 bits of precision,2.0409028710522643644e-01 with 64 bits of precision),Interval(6.63939808596515708319e-01 with 64 bits of precision,4.73470830452635709981e+00 with 64 bits of precision)]]\n",
"roots_array = roots_array_new => [[Interval(9.9999999999999999998e-03 with 64 bits of precision,2.0409028710522643644e-01 with 64 bits of precision),Interval(6.63939808596515708319e-01 with 64 bits of precision,4.73470830452635709981e+00 with 64 bits of precision)]]\n",
"roots_array_new = push!(roots_array_new,isectext(roots_array[i],N(roots_array[i]))) => "
]
},
{
"output_type": "stream",
"stream": "stdout",
"text": [
"[[Interval(9.9999999999999999998e-03 with 64 bits of precision,2.0409028710522643644e-01 with 64 bits of precision),Interval(6.63939808596515708319e-01 with 64 bits of precision,4.73470830452635709981e+00 with 64 bits of precision)]]\n",
"Function calls: 6\n"
]
},
{
"metadata": {},
"output_type": "pyout",
"prompt_number": 63,
"text": [
"1-element Array{Array{Interval,1},1}:\n",
" [Interval(9.9999999999999999998e-03 with 64 bits of precision,2.0409028710522643644e-01 with 64 bits of precision),Interval(6.63939808596515708319e-01 with 64 bits of precision,4.73470830452635709981e+00 with 64 bits of precision)]"
]
}
],
"prompt_number": 63
},
{
"cell_type": "code",
"collapsed": false,
"input": [
"# Works. Another interval:"
],
"language": "python",
"metadata": {},
"outputs": [],
"prompt_number": 15
},
{
"cell_type": "code",
"collapsed": false,
"input": [
"a = [Interval(0.7, 0.9), Interval(0.1, 0.3)]"
],
"language": "python",
"metadata": {},
"outputs": [
{
"metadata": {},
"output_type": "pyout",
"prompt_number": 20,
"text": [
"2-element Array{Interval,1}:\n",
" Interval(6.99999999999999999989e-01 with 64 bits of precision,9.00000000000000000033e-01 with 64 bits of precision)\n",
" Interval(9.99999999999999999946e-02 with 64 bits of precision,3.00000000000000000011e-01 with 64 bits of precision)"
]
}
],
"prompt_number": 20
},
{
"cell_type": "code",
"collapsed": false,
"input": [
"newton2d(f, a, 64)"
],
"language": "python",
"metadata": {},
"outputs": [
{
"output_type": "stream",
"stream": "stdout",
"text": [
"roots_array_new = push!(roots_array_new,isectext(roots_array[i],N(roots_array[i]))) => [[Interval(7.99533569108615181306e-01 with 64 bits of precision,9.00000000000000000087e-01 with 64 bits of precision),Interval(1.32402716810851698009e-01 with 64 bits of precision,2.66977620594256545897e-01 with 64 bits of precision)]]"
]
},
{
"output_type": "stream",
"stream": "stdout",
"text": [
"\n",
"roots_array = roots_array_new => [[Interval(7.99533569108615181306e-01 with 64 bits of precision,9.00000000000000000087e-01 with 64 bits of precision),Interval(1.32402716810851698009e-01 with 64 bits of precision,2.66977620594256545897e-01 with 64 bits of precision)]]\n",
"roots_array_new = push!(roots_array_new,isectext(roots_array[i],N(roots_array[i]))) => [[Interval(8.49310448278202196964e-01 with 64 bits of precision,9.00000000000000000141e-01 with 64 bits of precision),Interval(1.64941883459212836004e-01 with 64 bits of precision,2.33793034481198535481e-01 with 64 bits of precision)]]\n",
"roots_array = roots_array_new => [[Interval(8.49310448278202196964e-01 with 64 bits of precision,9.00000000000000000141e-01 with 64 bits of precision),Interval(1.64941883459212836004e-01 with 64 bits of precision,2.33793034481198535481e-01 with 64 bits of precision)]]\n",
"roots_array_new = push!(roots_array_new,isectext(roots_array[i],N(roots_array[i]))) => [[Interval(8.74368868193437198753e-01 with 64 bits of precision,9.00000000000000000195e-01 with 64 bits of precision),Interval(1.80847351067254425328e-01 with 64 bits of precision,2.17087421204375200919e-01 with 64 bits of precision)]]\n",
"roots_array = roots_array_new => [[Interval(8.74368868193437198753e-01 with 64 bits of precision,9.00000000000000000195e-01 with 64 bits of precision),Interval(1.80847351067254425328e-01 with 64 bits of precision,2.17087421204375200919e-01 with 64 bits of precision)]]\n",
"roots_array_new = push!(roots_array_new,isectext(roots_array[i],N(roots_array[i]))) => [[Interval(8.86713661126687165365e-01 with 64 bits of precision,9.00000000000000000195e-01 with 64 bits of precision),Interval(1.88028751271188605487e-01 with 64 bits of precision,2.08857559248875223218e-01 with 64 bits of precision)]]\n",
"roots_array = roots_array_new => [[Interval(8.86713661126687165365e-01 with 64 bits of precision,9.00000000000000000195e-01 with 64 bits of precision),Interval(1.88028751271188605487e-01 with 64 bits of precision,2.08857559248875223218e-01 with 64 bits of precision)]]\n",
"roots_array_new = push!(roots_array_new,isectext(roots_array[i],N(roots_array[i]))) => [[Interval(8.92042290862508345105e-01 with 64 bits of precision,9.00000000000000000195e-01 with 64 bits of precision),Interval(1.89953354713197845736e-01 with 64 bits of precision,2.05305139424994436743e-01 with 64 bits of precision)]]\n",
"roots_array = roots_array_new => [[Interval(8.92042290862508345105e-01 with 64 bits of precision,9.00000000000000000195e-01 with 64 bits of precision),Interval(1.89953354713197845736e-01 with 64 bits of precision,2.05305139424994436743e-01 with 64 bits of precision)]]\n",
"roots_array_new = push!(roots_array_new,isectext(roots_array[i],N(roots_array[i]))) => [[Interval(8.93576641696621274086e-01 with 64 bits of precision,9.00000000000000000195e-01 with 64 bits of precision),Interval(1.89953354713197845736e-01 with 64 bits of precision,2.04282238868919150697e-01 with 64 bits of precision)]]\n",
"roots_array = roots_array_new => [[Interval(8.93576641696621274086e-01 with 64 bits of precision,9.00000000000000000195e-01 with 64 bits of precision),Interval(1.89953354713197845736e-01 with 64 bits of precision,2.04282238868919150697e-01 with 64 bits of precision)]]\n",
"roots_array_new = push!(roots_array_new,isectext(roots_array[i],N(roots_array[i]))) => [[Interval(8.93683850490391404895e-01 with 64 bits of precision,9.00000000000000000195e-01 with 64 bits of precision),Interval(1.89953354713197845736e-01 with 64 bits of precision,2.04210766339739063622e-01 with 64 bits of precision)]]\n",
"roots_array = roots_array_new => [[Interval(8.93683850490391404895e-01 with 64 bits of precision,9.00000000000000000195e-01 with 64 bits of precision),Interval(1.89953354713197845736e-01 with 64 bits of precision,2.04210766339739063622e-01 with 64 bits of precision)]]\n",
"roots_array_new = push!(roots_array_new,isectext(roots_array[i],N(roots_array[i]))) => [[Interval(8.93683850490391404895e-01 with 64 bits of precision,9.00000000000000000195e-01 with 64 bits of precision),Interval(1.89953354713197845736e-01 with 64 bits of precision,2.04210766339739063622e-01 with 64 bits of precision)]]\n",
"Function calls: 7\n"
]
},
{
"metadata": {},
"output_type": "pyout",
"prompt_number": 21,
"text": [
"1-element Array{Array{Interval,1},1}:\n",
" [Interval(8.93683850490391404895e-01 with 64 bits of precision,9.00000000000000000195e-01 with 64 bits of precision),Interval(1.89953354713197845736e-01 with 64 bits of precision,2.04210766339739063622e-01 with 64 bits of precision)]"
]
}
],
"prompt_number": 21
},
{
"cell_type": "code",
"collapsed": false,
"input": [
"# For some reason, the intervals are still relatively large"
],
"language": "python",
"metadata": {},
"outputs": [],
"prompt_number": 18
},
{
"cell_type": "code",
"collapsed": false,
"input": [
"a = [Interval(0.11, 0.3), Interval(0.5, 0.69)]"
],
"language": "python",
"metadata": {},
"outputs": [
{
"metadata": {},
"output_type": "pyout",
"prompt_number": 13,
"text": [
"2-element Array{Interval,1}:\n",
" Interval(1.09999999999999999999e-01 with 64 bits of precision,3.00000000000000000011e-01 with 64 bits of precision)\n",
" Interval(5e-01 with 64 bits of precision,6.90000000000000000052e-01 with 64 bits of precision) "
]
}
],
"prompt_number": 13
},
{
"cell_type": "code",
"collapsed": false,
"input": [
"newton2d(f, a, 64)"
],
"language": "python",
"metadata": {},
"outputs": [
{
"output_type": "stream",
"stream": "stdout",
"text": [
"roots_array_new = push!(roots_array_new,isectext(roots_array[i],N(roots_array[i]))) => [[Interval(1.98959862448933060819e-01 with 64 bits of precision,3.00000000000000000038e-01 with 64 bits of precision),Interval(5.22511857040455090476e-01 with 64 bits of precision,6.67360091700711293024e-01 with 64 bits of precision)]]"
]
},
{
"output_type": "stream",
"stream": "stdout",
"text": [
"\n",
"roots_array = roots_array_new => [[Interval(1.98959862448933060819e-01 with 64 bits of precision,3.00000000000000000038e-01 with 64 bits of precision),Interval(5.22511857040455090476e-01 with 64 bits of precision,6.67360091700711293024e-01 with 64 bits of precision)]]\n",
"roots_array_new = push!(roots_array_new,isectext(roots_array[i],N(roots_array[i]))) => [[Interval(2.44405284093183400559e-01 with 64 bits of precision,3.00000000000000000065e-01 with 64 bits of precision),Interval(5.47605281726672503634e-01 with 64 bits of precision,6.37063143937877733179e-01 with 64 bits of precision)]]\n",
"roots_array = roots_array_new => [[Interval(2.44405284093183400559e-01 with 64 bits of precision,3.00000000000000000065e-01 with 64 bits of precision),Interval(5.47605281726672503634e-01 with 64 bits of precision,6.37063143937877733179e-01 with 64 bits of precision)]]\n",
"roots_array_new = push!(roots_array_new,isectext(roots_array[i],N(roots_array[i]))) => [[Interval(2.67881780072239415627e-01 with 64 bits of precision,3.00000000000000000065e-01 with 64 bits of precision),Interval(5.55929366475467126932e-01 with 64 bits of precision,6.21412146618507056422e-01 with 64 bits of precision)]]\n",
"roots_array = roots_array_new => [[Interval(2.67881780072239415627e-01 with 64 bits of precision,3.00000000000000000065e-01 with 64 bits of precision),Interval(5.55929366475467126932e-01 with 64 bits of precision,6.21412146618507056422e-01 with 64 bits of precision)]]\n",
"roots_array_new = push!(roots_array_new,isectext(roots_array[i],N(roots_array[i]))) => [[Interval(2.8018905070704416428e-01 with 64 bits of precision,3.00000000000000000065e-01 with 64 bits of precision),Interval(5.55929366475467126932e-01 with 64 bits of precision,6.13207299528637223896e-01 with 64 bits of precision)]]\n",
"roots_array = roots_array_new => [[Interval(2.8018905070704416428e-01 with 64 bits of precision,3.00000000000000000065e-01 with 64 bits of precision),Interval(5.55929366475467126932e-01 with 64 bits of precision,6.13207299528637223896e-01 with 64 bits of precision)]]\n",
"roots_array_new = push!(roots_array_new,isectext(roots_array[i],N(roots_array[i]))) => [[Interval(2.86802017717913006298e-01 with 64 bits of precision,3.00000000000000000065e-01 with 64 bits of precision),Interval(5.55929366475467126932e-01 with 64 bits of precision,6.08798654854724662804e-01 with 64 bits of precision)]]\n",
"roots_array = roots_array_new => [[Interval(2.86802017717913006298e-01 with 64 bits of precision,3.00000000000000000065e-01 with 64 bits of precision),Interval(5.55929366475467126932e-01 with 64 bits of precision,6.08798654854724662804e-01 with 64 bits of precision)]]\n",
"roots_array_new = push!(roots_array_new,isectext(roots_array[i],N(roots_array[i]))) => "
]
},
{
"output_type": "stream",
"stream": "stdout",
"text": [
"[[Interval(2.90699552997113188816e-01 with 64 bits of precision,3.00000000000000000065e-01 with 64 bits of precision),Interval(5.55929366475467126932e-01 with 64 bits of precision,6.06200298001924541035e-01 with 64 bits of precision)]]\n",
"roots_array = roots_array_new => [[Interval(2.90699552997113188816e-01 with 64 bits of precision,3.00000000000000000065e-01 with 64 bits of precision),Interval(5.55929366475467126932e-01 with 64 bits of precision,6.06200298001924541035e-01 with 64 bits of precision)]]\n",
"roots_array_new = push!(roots_array_new,isectext(roots_array[i],N(roots_array[i]))) => [[Interval(2.9119045375552936604e-01 with 64 bits of precision,3.00000000000000000065e-01 with 64 bits of precision),Interval(5.55929366475467126932e-01 with 64 bits of precision,6.05873030829647089444e-01 with 64 bits of precision)]]\n",
"roots_array = roots_array_new => [[Interval(2.9119045375552936604e-01 with 64 bits of precision,3.00000000000000000065e-01 with 64 bits of precision),Interval(5.55929366475467126932e-01 with 64 bits of precision,6.05873030829647089444e-01 with 64 bits of precision)]]\n",
"roots_array_new = push!(roots_array_new,isectext(roots_array[i],N(roots_array[i]))) => [[Interval(2.91199878305938713083e-01 with 64 bits of precision,3.00000000000000000065e-01 with 64 bits of precision),Interval(5.55929366475467126932e-01 with 64 bits of precision,6.05866747796040858154e-01 with 64 bits of precision)]]\n",
"roots_array = roots_array_new => [[Interval(2.91199878305938713083e-01 with 64 bits of precision,3.00000000000000000065e-01 with 64 bits of precision),Interval(5.55929366475467126932e-01 with 64 bits of precision,6.05866747796040858154e-01 with 64 bits of precision)]]\n",
"roots_array_new = push!(roots_array_new,isectext(roots_array[i],N(roots_array[i]))) => [[Interval(2.91199911011646166213e-01 with 64 bits of precision,3.00000000000000000065e-01 with 64 bits of precision),Interval(5.55929366475467126932e-01 with 64 bits of precision,6.05866725992235889437e-01 with 64 bits of precision)]]\n",
"roots_array = roots_array_new => [[Interval(2.91199911011646166213e-01 with 64 bits of precision,3.00000000000000000065e-01 with 64 bits of precision),Interval(5.55929366475467126932e-01 with 64 bits of precision,6.05866725992235889437e-01 with 64 bits of precision)]]\n",
"roots_array_new = push!(roots_array_new,isectext(roots_array[i],N(roots_array[i]))) => [[Interval(2.91199911115097032901e-01 with 64 bits of precision,3.00000000000000000065e-01 with 64 bits of precision),Interval(5.55929366475467126932e-01 with 64 bits of precision,6.05866725923268644924e-01 with 64 bits of precision)]]\n",
"roots_array = roots_array_new => [[Interval(2.91199911115097032901e-01 with 64 bits of precision,3.00000000000000000065e-01 with 64 bits of precision),Interval(5.55929366475467126932e-01 with 64 bits of precision,6.05866725923268644924e-01 with 64 bits of precision)]]\n",
"roots_array_new = push!(roots_array_new,isectext(roots_array[i],N(roots_array[i]))) => "
]
},
{
"output_type": "stream",
"stream": "stdout",
"text": [
"[[Interval(2.91199911115424146346e-01 with 64 bits of precision,3.00000000000000000065e-01 with 64 bits of precision),Interval(5.55929366475467126932e-01 with 64 bits of precision,6.05866725923050569258e-01 with 64 bits of precision)]]\n",
"roots_array = roots_array_new => [[Interval(2.91199911115424146346e-01 with 64 bits of precision,3.00000000000000000065e-01 with 64 bits of precision),Interval(5.55929366475467126932e-01 with 64 bits of precision,6.05866725923050569258e-01 with 64 bits of precision)]]\n",
"roots_array_new = push!(roots_array_new,isectext(roots_array[i],N(roots_array[i]))) => [[Interval(2.91199911115425180485e-01 with 64 bits of precision,3.00000000000000000065e-01 with 64 bits of precision),Interval(5.55929366475467126932e-01 with 64 bits of precision,6.05866725923049879868e-01 with 64 bits of precision)]]\n",
"roots_array = roots_array_new => [[Interval(2.91199911115425180485e-01 with 64 bits of precision,3.00000000000000000065e-01 with 64 bits of precision),Interval(5.55929366475467126932e-01 with 64 bits of precision,6.05866725923049879868e-01 with 64 bits of precision)]]\n",
"roots_array_new = push!(roots_array_new,isectext(roots_array[i],N(roots_array[i]))) => [[Interval(2.91199911115425183792e-01 with 64 bits of precision,3.00000000000000000065e-01 with 64 bits of precision),Interval(5.55929366475467126932e-01 with 64 bits of precision,6.05866725923049877591e-01 with 64 bits of precision)]]\n",
"roots_array = roots_array_new => [[Interval(2.91199911115425183792e-01 with 64 bits of precision,3.00000000000000000065e-01 with 64 bits of precision),Interval(5.55929366475467126932e-01 with 64 bits of precision,6.05866725923049877591e-01 with 64 bits of precision)]]\n",
"roots_array_new = push!(roots_array_new,isectext(roots_array[i],N(roots_array[i]))) => [[Interval(2.91199911115425183792e-01 with 64 bits of precision,3.00000000000000000065e-01 with 64 bits of precision),Interval(5.55929366475467126932e-01 with 64 bits of precision,6.05866725923049877591e-01 with 64 bits of precision)]]\n",
"Function calls: 13\n"
]
},
{
"metadata": {},
"output_type": "pyout",
"prompt_number": 14,
"text": [
"1-element Array{Array{Interval,1},1}:\n",
" [Interval(2.91199911115425183792e-01 with 64 bits of precision,3.00000000000000000065e-01 with 64 bits of precision),Interval(5.55929366475467126932e-01 with 64 bits of precision,6.05866725923049877591e-01 with 64 bits of precision)]"
]
}
],
"prompt_number": 14
},
{
"cell_type": "markdown",
"metadata": {},
"source": []
},
{
"cell_type": "code",
"collapsed": false,
"input": [
"a = [Interval(0.01, 1), Interval(0.01, 1)]"
],
"language": "python",
"metadata": {},
"outputs": [
{
"metadata": {},
"output_type": "pyout",
"prompt_number": 70,
"text": [
"2-element Array{Interval,1}:\n",
" Interval(9.9999999999999999998e-03 with 64 bits of precision,1e+00 with 64 bits of precision)\n",
" Interval(9.9999999999999999998e-03 with 64 bits of precision,1e+00 with 64 bits of precision)"
]
}
],
"prompt_number": 70
},
{
"cell_type": "code",
"collapsed": false,
"input": [
"newton2d(f, a, 64)"
],
"language": "python",
"metadata": {},
"outputs": [
{
"output_type": "stream",
"stream": "stdout",
"text": [
"roots_array_new = push!(roots_array_new,isectext(roots_array[i],N(roots_array[i]))) => [[Interval(3.77986706010765157344e-01 with 64 bits of precision,5.05395803514839542323e-01 with 64 bits of precision),Interval(4.63069464323440305111e-01 with 64 bits of precision,5.48008862659489895115e-01 with 64 bits of precision)]]"
]
},
{
"output_type": "stream",
"stream": "stdout",
"text": [
"\n",
"roots_array = roots_array_new => [[Interval(3.77986706010765157344e-01 with 64 bits of precision,5.05395803514839542323e-01 with 64 bits of precision),Interval(4.63069464323440305111e-01 with 64 bits of precision,5.48008862659489895115e-01 with 64 bits of precision)]]\n",
"roots_array_new = push!(roots_array_new,isectext(roots_array[i],N(roots_array[i]))) => [[Interval(4.38274314608033558981e-01 with 64 bits of precision,4.45181973145152710768e-01 with 64 bits of precision),Interval(5.03212017903231526256e-01 with 64 bits of precision,5.07817123594644293915e-01 with 64 bits of precision)]]\n",
"roots_array = roots_array_new => [[Interval(4.38274314608033558981e-01 with 64 bits of precision,4.45181973145152710768e-01 with 64 bits of precision),Interval(5.03212017903231526256e-01 with 64 bits of precision,5.07817123594644293915e-01 with 64 bits of precision)]]\n",
"roots_array_new = push!(roots_array_new,isectext(roots_array[i],N(roots_array[i]))) => [[Interval(4.38274314608033558954e-01 with 64 bits of precision,4.45181973145152710768e-01 with 64 bits of precision),Interval(5.03212017903231526256e-01 with 64 bits of precision,5.07817123594644293915e-01 with 64 bits of precision)]]\n",
"roots_array = roots_array_new => [[Interval(4.38274314608033558954e-01 with 64 bits of precision,4.45181973145152710768e-01 with 64 bits of precision),Interval(5.03212017903231526256e-01 with 64 bits of precision,5.07817123594644293915e-01 with 64 bits of precision)]]\n",
"roots_array_new = push!(roots_array_new,isectext(roots_array[i],N(roots_array[i]))) => [[Interval(4.38274314608033558954e-01 with 64 bits of precision,4.45181973145152710768e-01 with 64 bits of precision),Interval(5.03212017903231526256e-01 with 64 bits of precision,5.07817123594644293915e-01 with 64 bits of precision)]]\n",
"Function calls: 3\n"
]
},
{
"metadata": {},
"output_type": "pyout",
"prompt_number": 71,
"text": [
"1-element Array{Array{Interval,1},1}:\n",
" [Interval(4.38274314608033558954e-01 with 64 bits of precision,4.45181973145152710768e-01 with 64 bits of precision),Interval(5.03212017903231526256e-01 with 64 bits of precision,5.07817123594644293915e-01 with 64 bits of precision)]"
]
}
],
"prompt_number": 71
},
{
"cell_type": "code",
"collapsed": false,
"input": [
"# This one looks like a false positive. Why?"
],
"language": "python",
"metadata": {},
"outputs": [],
"prompt_number": 17
},
{
"cell_type": "code",
"collapsed": false,
"input": [
"sol = newton2d(f, a, 64)"
],
"language": "python",
"metadata": {},
"outputs": [
{
"output_type": "stream",
"stream": "stdout",
"text": [
"roots_array_new = push!(roots_array_new,isectext(roots_array[i],N(roots_array[i]))) => [[Interval(3.77986706010765157344e-01 with 64 bits of precision,5.05395803514839542323e-01 with 64 bits of precision),Interval(4.63069464323440305111e-01 with 64 bits of precision,5.48008862659489895115e-01 with 64 bits of precision)]]"
]
},
{
"output_type": "stream",
"stream": "stdout",
"text": [
"\n",
"roots_array = roots_array_new => [[Interval(3.77986706010765157344e-01 with 64 bits of precision,5.05395803514839542323e-01 with 64 bits of precision),Interval(4.63069464323440305111e-01 with 64 bits of precision,5.48008862659489895115e-01 with 64 bits of precision)]]\n",
"roots_array_new = push!(roots_array_new,isectext(roots_array[i],N(roots_array[i]))) => [[Interval(4.38274314608033558981e-01 with 64 bits of precision,4.45181973145152710768e-01 with 64 bits of precision),Interval(5.03212017903231526256e-01 with 64 bits of precision,5.07817123594644293915e-01 with 64 bits of precision)]]\n",
"roots_array = roots_array_new => [[Interval(4.38274314608033558981e-01 with 64 bits of precision,4.45181973145152710768e-01 with 64 bits of precision),Interval(5.03212017903231526256e-01 with 64 bits of precision,5.07817123594644293915e-01 with 64 bits of precision)]]\n",
"roots_array_new = push!(roots_array_new,isectext(roots_array[i],N(roots_array[i]))) => [[Interval(4.38274314608033558954e-01 with 64 bits of precision,4.45181973145152710768e-01 with 64 bits of precision),Interval(5.03212017903231526256e-01 with 64 bits of precision,5.07817123594644293915e-01 with 64 bits of precision)]]\n",
"roots_array = roots_array_new => [[Interval(4.38274314608033558954e-01 with 64 bits of precision,4.45181973145152710768e-01 with 64 bits of precision),Interval(5.03212017903231526256e-01 with 64 bits of precision,5.07817123594644293915e-01 with 64 bits of precision)]]\n",
"roots_array_new = push!(roots_array_new,isectext(roots_array[i],N(roots_array[i]))) => [[Interval(4.38274314608033558954e-01 with 64 bits of precision,4.45181973145152710768e-01 with 64 bits of precision),Interval(5.03212017903231526256e-01 with 64 bits of precision,5.07817123594644293915e-01 with 64 bits of precision)]]\n",
"Function calls: 3\n"
]
},
{
"metadata": {},
"output_type": "pyout",
"prompt_number": 72,
"text": [
"1-element Array{Array{Interval,1},1}:\n",
" [Interval(4.38274314608033558954e-01 with 64 bits of precision,4.45181973145152710768e-01 with 64 bits of precision),Interval(5.03212017903231526256e-01 with 64 bits of precision,5.07817123594644293915e-01 with 64 bits of precision)]"
]
}
],
"prompt_number": 72
},
{
"cell_type": "code",
"collapsed": false,
"input": [
"center(x) = make_intervals(mid(x))\n",
"N(f, x) = center(x) - inv(jacobian(f, x))*f(center(x))"
],
"language": "python",
"metadata": {},
"outputs": [
{
"metadata": {},
"output_type": "pyout",
"prompt_number": 73,
"text": [
"N (generic function with 1 method)"
]
}
],
"prompt_number": 73
},
{
"cell_type": "code",
"collapsed": false,
"input": [
"NNN = N(f, sol[1])"
],
"language": "python",
"metadata": {},
"outputs": [
{
"metadata": {},
"output_type": "pyout",
"prompt_number": 74,
"text": [
"2-element Array{Interval,1}:\n",
" Interval(3.87637464474657538128e-01 with 64 bits of precision,5.20025515047235507198e-01 with 64 bits of precision)\n",
" Interval(4.5331632330184299542e-01 with 64 bits of precision,5.41575023683561641169e-01 with 64 bits of precision) "
]
}
],
"prompt_number": 74
},
{
"cell_type": "code",
"collapsed": false,
"input": [
"inside(sol[1][1], NNN[1])"
],
"language": "python",
"metadata": {},
"outputs": [
{
"metadata": {},
"output_type": "pyout",
"prompt_number": 34,
"text": [
"true"
]
}
],
"prompt_number": 34
},
{
"cell_type": "code",
"collapsed": false,
"input": [
"inside(sol[1][2], NNN[2])"
],
"language": "python",
"metadata": {},
"outputs": [
{
"metadata": {},
"output_type": "pyout",
"prompt_number": 35,
"text": [
"true"
]
}
],
"prompt_number": 35
},
{
"cell_type": "code",
"collapsed": false,
"input": [
"J = jacobian(f, sol[1])"
],
"language": "python",
"metadata": {},
"outputs": [
{
"metadata": {},
"output_type": "pyout",
"prompt_number": 38,
"text": [
"2x2 Array{Interval,2}:\n",
" Interval(-1.76984841281877910762e+00 with 64 bits of precision,3.37773217687788244361e+00 with 64 bits of precision) \u2026 Interval(5e-01 with 64 bits of precision,5e-01 with 64 bits of precision) \n",
" Interval(-2.00000000000000000016e-01 with 64 bits of precision,-1.99999999999999999976e-01 with 64 bits of precision) Interval(-3.00000000000000000065e-01 with 64 bits of precision,-2.99999999999999999984e-01 with 64 bits of precision)"
]
}
],
"prompt_number": 38
},
{
"cell_type": "code",
"collapsed": false,
"input": [
"inv(J)"
],
"language": "python",
"metadata": {},
"outputs": [
{
"metadata": {},
"output_type": "pyout",
"prompt_number": 39,
"text": [
"2x2 Array{Interval,2}:\n",
" Interval(-4.75470083281939574619e-01 with 64 bits of precision,3.2847207327004322624e-01 with 64 bits of precision) \u2026 Interval(-1.30300529972210691028e+01 with 64 bits of precision,5.4745345545007204264e-01 with 64 bits of precision) \n",
" Interval(-2.18981382180028817362e-01 with 64 bits of precision,3.16980055521293049565e-01 with 64 bits of precision) Interval(-3.69830230363338136068e+00 with 64 bits of precision,5.35336866481404606349e+00 with 64 bits of precision)"
]
}
],
"prompt_number": 39
},
{
"cell_type": "code",
"collapsed": false,
"input": [
"left(x::Interval) = Interval(x.lo, mid(x))\n",
"right(x::Interval) = Interval(mid(x), x.hi)\n",
"\n",
"\n",
"function bisect(xx::Vector{Interval})\n",
" \n",
" if length(xx) != 2\n",
" error(\"Only works for 2 at the moment\")\n",
" end\n",
" \n",
" x, y = xx\n",
" \n",
" @show x\n",
" \n",
" intervals = Vector{Interval}[]\n",
" \n",
" push!(intervals, [left(x), left(y)])\n",
" push!(intervals, [left(x), right(y)])\n",
" push!(intervals, [right(x), left(y)])\n",
" push!(intervals, [right(x), right(y)])\n",
" \n",
" intervals\n",
"end"
],
"language": "python",
"metadata": {},
"outputs": [
{
"metadata": {},
"output_type": "pyout",
"prompt_number": 75,
"text": [
"bisect (generic function with 1 method)"
]
}
],
"prompt_number": 75
},
{
"cell_type": "code",
"collapsed": false,
"input": [
"x = sol[1]"
],
"language": "python",
"metadata": {},
"outputs": [
{
"metadata": {},
"output_type": "pyout",
"prompt_number": 76,
"text": [
"2-element Array{Interval,1}:\n",
" Interval(4.38274314608033558954e-01 with 64 bits of precision,4.45181973145152710768e-01 with 64 bits of precision)\n",
" Interval(5.03212017903231526256e-01 with 64 bits of precision,5.07817123594644293915e-01 with 64 bits of precision)"
]
}
],
"prompt_number": 76
},
{
"cell_type": "code",
"collapsed": false,
"input": [
"y = bisect(x)"
],
"language": "python",
"metadata": {},
"outputs": [
{
"output_type": "stream",
"stream": "stdout",
"text": [
"x => Interval(4.38274314608033558954e-01 with 64 bits of precision,4.45181973145152710768e-01 with 64 bits of precision)"
]
},
{
"output_type": "stream",
"stream": "stdout",
"text": [
"\n"
]
},
{
"metadata": {},
"output_type": "pyout",
"prompt_number": 78,
"text": [
"4-element Array{Array{Interval,1},1}:\n",
" [Interval(4.38274314608033558954e-01 with 64 bits of precision,4.41728143876593134902e-01 with 64 bits of precision),Interval(5.03212017903231526256e-01 with 64 bits of precision,5.05514570748937910167e-01 with 64 bits of precision)]\n",
" [Interval(4.38274314608033558954e-01 with 64 bits of precision,4.41728143876593134902e-01 with 64 bits of precision),Interval(5.05514570748937910113e-01 with 64 bits of precision,5.07817123594644293915e-01 with 64 bits of precision)]\n",
" [Interval(4.41728143876593134875e-01 with 64 bits of precision,4.45181973145152710768e-01 with 64 bits of precision),Interval(5.03212017903231526256e-01 with 64 bits of precision,5.05514570748937910167e-01 with 64 bits of precision)]\n",
" [Interval(4.41728143876593134875e-01 with 64 bits of precision,4.45181973145152710768e-01 with 64 bits of precision),Interval(5.05514570748937910113e-01 with 64 bits of precision,5.07817123594644293915e-01 with 64 bits of precision)]"
]
}
],
"prompt_number": 78
},
{
"cell_type": "code",
"collapsed": false,
"input": [
"import Base.show\n",
"show(io::IO, x::Interval) = print(io, \"[$(round(float(x.lo), 5)), $(x.hi)]\")"
],
"language": "python",
"metadata": {},
"outputs": [
{
"metadata": {},
"output_type": "pyout",
"prompt_number": 53,
"text": [
"show (generic function with 90 methods)"
]
}
],
"prompt_number": 53
},
{
"cell_type": "code",
"collapsed": false,
"input": [
"y = bisect(x)\n",
"after_newton = [N(f,x) for x in y]"
],
"language": "python",
"metadata": {},
"outputs": [
{
"output_type": "stream",
"stream": "stdout",
"text": [
"x => Interval(4.38274314608033558954e-01 with 64 bits of precision,4.45181973145152710768e-01 with 64 bits of precision)"
]
},
{
"output_type": "stream",
"stream": "stdout",
"text": [
"\n"
]
},
{
"metadata": {},
"output_type": "pyout",
"prompt_number": 79,
"text": [
"4-element Array{Any,1}:\n",
" [Interval(3.47097933805788840721e-01 with 64 bits of precision,6.56963251841997641835e-01 with 64 bits of precision),Interval(3.62024498772001572446e-01 with 64 bits of precision,5.68601377462807439783e-01 with 64 bits of precision)]\n",
" [Interval(3.47097933805788839555e-01 with 64 bits of precision,6.45856424941334515417e-01 with 64 bits of precision),Interval(3.69429050039110323301e-01 with 64 bits of precision,5.68601377462807440108e-01 with 64 bits of precision)]\n",
" [Interval(3.48964360037304871157e-01 with 64 bits of precision,6.41213649073018553885e-01 with 64 bits of precision),Interval(3.72524233951320964331e-01 with 64 bits of precision,5.67357093308463419131e-01 with 64 bits of precision)]\n",
" [Interval(3.36248746659157818085e-01 with 64 bits of precision,6.43246950176062365161e-01 with 64 bits of precision),Interval(3.71168699882625089759e-01 with 64 bits of precision,5.75834168893894787701e-01 with 64 bits of precision)]"
]
}
],
"prompt_number": 79
},
{
"cell_type": "code",
"collapsed": false,
"input": [
"display(y[1])\n",
"display(after_newton[1])"
],
"language": "python",
"metadata": {},
"outputs": [
{
"metadata": {},
"output_type": "display_data",
"text": [
"2-element Array{Interval,1}:\n",
" Interval(4.38274314608033558954e-01 with 64 bits of precision,4.41728143876593134902e-01 with 64 bits of precision)\n",
" Interval(5.03212017903231526256e-01 with 64 bits of precision,5.05514570748937910167e-01 with 64 bits of precision)"
]
},
{
"metadata": {},
"output_type": "display_data",
"text": [
"2-element Array{Interval,1}:\n",
" Interval(3.47097933805788840721e-01 with 64 bits of precision,6.56963251841997641835e-01 with 64 bits of precision)\n",
" Interval(3.62024498772001572446e-01 with 64 bits of precision,5.68601377462807439783e-01 with 64 bits of precision)"
]
}
],
"prompt_number": 82
},
{
"cell_type": "code",
"collapsed": false,
"input": [
"x"
],
"language": "python",
"metadata": {},
"outputs": [
{
"metadata": {},
"output_type": "pyout",
"prompt_number": 55,
"text": [
"2-element Array{Interval,1}:\n",
" Interval(4.38274314608033558954e-01 with 64 bits of precision,4.45181973145152710768e-01 with 64 bits of precision)\n",
" Interval(5.03212017903231526256e-01 with 64 bits of precision,5.07817123594644293915e-01 with 64 bits of precision)"
]
}
],
"prompt_number": 55
},
{
"cell_type": "code",
"collapsed": false,
"input": [
"f(x)"
],
"language": "python",
"metadata": {},
"outputs": [
{
"metadata": {},
"output_type": "pyout",
"prompt_number": 83,
"text": [
"2-element Array{Interval,1}:\n",
" Interval(-4.19940929233143423632e-01 with 64 bits of precision,7.49196193356633135163e-01 with 64 bits of precision)\n",
" Interval(-1.38153170742383035755e-03 with 64 bits of precision,1.38153170742383035755e-03 with 64 bits of precision)"
]
}
],
"prompt_number": 83
},
{
"cell_type": "code",
"collapsed": false,
"input": [
"using NewtonMethod"
],
"language": "python",
"metadata": {},
"outputs": [
{
"output_type": "stream",
"stream": "stdout",
"text": [
"Syntax: newton(function, Interval(lo, hi), precision [default is 64])\n"
]
}
],
"prompt_number": 84
},
{
"cell_type": "code",
"collapsed": false,
"input": [
"using KrawczykMethod"
],
"language": "python",
"metadata": {},
"outputs": [
{
"output_type": "stream",
"stream": "stdout",
"text": [
"Syntax: krawczyk(function, Interval(lo, hi), precision [default is 64])\n"
]
}
],
"prompt_number": 85
},
{
"cell_type": "code",
"collapsed": false,
"input": [
" x"
],
"language": "python",
"metadata": {},
"outputs": [
{
"metadata": {},
"output_type": "pyout",
"prompt_number": 86,
"text": [
"2-element Array{Interval,1}:\n",
" Interval(4.38274314608033558954e-01 with 64 bits of precision,4.45181973145152710768e-01 with 64 bits of precision)\n",
" Interval(5.03212017903231526256e-01 with 64 bits of precision,5.07817123594644293915e-01 with 64 bits of precision)"
]
}
],
"prompt_number": 86
},
{
"cell_type": "code",
"collapsed": false,
"input": [],
"language": "python",
"metadata": {},
"outputs": []
}
],
"metadata": {}
}
]
}
