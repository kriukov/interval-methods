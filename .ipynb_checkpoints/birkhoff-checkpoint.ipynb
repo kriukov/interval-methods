{
 "cells": [
  {
   "cell_type": "code",
   "execution_count": 1,
   "metadata": {
    "collapsed": false
   },
   "outputs": [
    {
     "name": "stdout",
     "output_type": "stream",
     "text": [
      "Syntax: krawczyk2d(function, [Interval(lo, hi), Interval(lo, hi)], precision [default is 64])\n"
     ]
    },
    {
     "name": "stderr",
     "output_type": "stream",
     "text": [
      "WARNING: New definition \n",
      "    +(AutoDiff.Ad, Any) at /home/kriukov/temp/interval-methods/modules/AutoDiff.jl:39\n",
      "is ambiguous with: \n",
      "    +(Any, IntervalArithmetic.IntUnion) at /home/kriukov/temp/interval-methods/modules/IntervalArithmetic.jl:989.\n",
      "To fix, define \n",
      "    +(AutoDiff.Ad, IntervalArithmetic.IntUnion)\n",
      "before the new definition.\n",
      "WARNING: New definition \n",
      "    +(Any, AutoDiff.Ad) at /home/kriukov/temp/interval-methods/modules/AutoDiff.jl:40\n",
      "is ambiguous with: \n",
      "    +(IntervalArithmetic.IntUnion, Any) at /home/kriukov/temp/interval-methods/modules/IntervalArithmetic.jl:988.\n",
      "To fix, define \n",
      "    +(IntervalArithmetic.IntUnion, AutoDiff.Ad)\n",
      "before the new definition.\n",
      "WARNING: New definition \n",
      "    -(AutoDiff.Ad, Any) at /home/kriukov/temp/interval-methods/modules/AutoDiff.jl:39\n",
      "is ambiguous with: \n",
      "    -(Any, IntervalArithmetic.IntUnion) at /home/kriukov/temp/interval-methods/modules/IntervalArithmetic.jl:992.\n",
      "To fix, define \n",
      "    -(AutoDiff.Ad, IntervalArithmetic.IntUnion)\n",
      "before the new definition.\n",
      "WARNING: New definition \n",
      "    -(Any, AutoDiff.Ad) at /home/kriukov/temp/interval-methods/modules/AutoDiff.jl:40\n",
      "is ambiguous with: \n",
      "    -(IntervalArithmetic.IntUnion, Any) at /home/kriukov/temp/interval-methods/modules/IntervalArithmetic.jl:991.\n",
      "To fix, define \n",
      "    -(IntervalArithmetic.IntUnion, AutoDiff.Ad)\n",
      "before the new definition.\n",
      "WARNING: New definition \n",
      "    *(AutoDiff.Ad, Any) at /home/kriukov/temp/interval-methods/modules/AutoDiff.jl:39\n",
      "is ambiguous with: \n",
      "    *(Any, IntervalArithmetic.IntUnion) at /home/kriukov/temp/interval-methods/modules/IntervalArithmetic.jl:994.\n",
      "To fix, define \n",
      "    *(AutoDiff.Ad, IntervalArithmetic.IntUnion)\n",
      "before the new definition.\n",
      "WARNING: New definition \n",
      "    *(Any, AutoDiff.Ad) at /home/kriukov/temp/interval-methods/modules/AutoDiff.jl:40\n",
      "is ambiguous with: \n",
      "    *(IntervalArithmetic.IntUnion, Any) at /home/kriukov/temp/interval-methods/modules/IntervalArithmetic.jl:993.\n",
      "To fix, define \n",
      "    *(IntervalArithmetic.IntUnion, AutoDiff.Ad)\n",
      "before the new definition.\n",
      "WARNING: New definition \n",
      "    /(AutoDiff.Ad, Any) at /home/kriukov/temp/interval-methods/modules/AutoDiff.jl:39\n",
      "is ambiguous with: \n",
      "    /(Any, IntervalArithmetic.IntUnion) at /home/kriukov/temp/interval-methods/modules/IntervalArithmetic.jl:996.\n",
      "To fix, define \n",
      "    /(AutoDiff.Ad, IntervalArithmetic.IntUnion)\n",
      "before the new definition.\n",
      "WARNING: New definition \n",
      "    /(Any, AutoDiff.Ad) at /home/kriukov/temp/interval-methods/modules/AutoDiff.jl:40\n",
      "is ambiguous with: \n",
      "    /(IntervalArithmetic.IntUnion, Any) at /home/kriukov/temp/interval-methods/modules/IntervalArithmetic.jl:995.\n",
      "To fix, define \n",
      "    /(IntervalArithmetic.IntUnion, AutoDiff.Ad)\n",
      "before the new definition.\n",
      "WARNING: New definition \n",
      "    +(PurityIntervals.PurityInterval, Any) at /home/kriukov/temp/interval-methods/modules/PurityIntervals.jl:30\n",
      "is ambiguous with: \n",
      "    +(Any, IntervalArithmetic.IntUnion) at /home/kriukov/temp/interval-methods/modules/IntervalArithmetic.jl:989.\n",
      "To fix, define \n",
      "    +(PurityIntervals.PurityInterval, IntervalArithmetic.IntUnion)\n",
      "before the new definition.\n",
      "WARNING: New definition \n",
      "    +(PurityIntervals.PurityInterval, Any) at /home/kriukov/temp/interval-methods/modules/PurityIntervals.jl:30\n",
      "is ambiguous with: \n",
      "    +(Any, AutoDiff.Ad) at /home/kriukov/temp/interval-methods/modules/AutoDiff.jl:40.\n",
      "To fix, define \n",
      "    +(PurityIntervals.PurityInterval, AutoDiff.Ad)\n",
      "before the new definition.\n",
      "WARNING: New definition \n",
      "    +(Any, PurityIntervals.PurityInterval) at /home/kriukov/temp/interval-methods/modules/PurityIntervals.jl:31\n",
      "is ambiguous with: \n",
      "    +(IntervalArithmetic.IntUnion, Any) at /home/kriukov/temp/interval-methods/modules/IntervalArithmetic.jl:988.\n",
      "To fix, define \n",
      "    +(IntervalArithmetic.IntUnion, PurityIntervals.PurityInterval)\n",
      "before the new definition.\n",
      "WARNING: New definition \n",
      "    +(Any, PurityIntervals.PurityInterval) at /home/kriukov/temp/interval-methods/modules/PurityIntervals.jl:31\n",
      "is ambiguous with: \n",
      "    +(AutoDiff.Ad, Any) at /home/kriukov/temp/interval-methods/modules/AutoDiff.jl:39.\n",
      "To fix, define \n",
      "    +(AutoDiff.Ad, PurityIntervals.PurityInterval)\n",
      "before the new definition.\n",
      "WARNING: New definition \n",
      "    -(PurityIntervals.PurityInterval, Any) at /home/kriukov/temp/interval-methods/modules/PurityIntervals.jl:30\n",
      "is ambiguous with: \n",
      "    -(Any, IntervalArithmetic.IntUnion) at /home/kriukov/temp/interval-methods/modules/IntervalArithmetic.jl:992.\n",
      "To fix, define \n",
      "    -(PurityIntervals.PurityInterval, IntervalArithmetic.IntUnion)\n",
      "before the new definition.\n",
      "WARNING: New definition \n",
      "    -(PurityIntervals.PurityInterval, Any) at /home/kriukov/temp/interval-methods/modules/PurityIntervals.jl:30\n",
      "is ambiguous with: \n",
      "    -(Any, AutoDiff.Ad) at /home/kriukov/temp/interval-methods/modules/AutoDiff.jl:40.\n",
      "To fix, define \n",
      "    -(PurityIntervals.PurityInterval, AutoDiff.Ad)\n",
      "before the new definition.\n",
      "WARNING: New definition \n",
      "    -(Any, PurityIntervals.PurityInterval) at /home/kriukov/temp/interval-methods/modules/PurityIntervals.jl:31\n",
      "is ambiguous with: \n",
      "    -(IntervalArithmetic.IntUnion, Any) at /home/kriukov/temp/interval-methods/modules/IntervalArithmetic.jl:991.\n",
      "To fix, define \n",
      "    -(IntervalArithmetic.IntUnion, PurityIntervals.PurityInterval)\n",
      "before the new definition.\n",
      "WARNING: New definition \n",
      "    -(Any, PurityIntervals.PurityInterval) at /home/kriukov/temp/interval-methods/modules/PurityIntervals.jl:31\n",
      "is ambiguous with: \n",
      "    -(AutoDiff.Ad, Any) at /home/kriukov/temp/interval-methods/modules/AutoDiff.jl:39.\n",
      "To fix, define \n",
      "    -(AutoDiff.Ad, PurityIntervals.PurityInterval)\n",
      "before the new definition.\n",
      "WARNING: New definition \n",
      "    *(PurityIntervals.PurityInterval, Any) at /home/kriukov/temp/interval-methods/modules/PurityIntervals.jl:30\n",
      "is ambiguous with: \n",
      "    *(Any, IntervalArithmetic.IntUnion) at /home/kriukov/temp/interval-methods/modules/IntervalArithmetic.jl:994.\n",
      "To fix, define \n",
      "    *(PurityIntervals.PurityInterval, IntervalArithmetic.IntUnion)\n",
      "before the new definition.\n",
      "WARNING: New definition \n",
      "    *(PurityIntervals.PurityInterval, Any) at /home/kriukov/temp/interval-methods/modules/PurityIntervals.jl:30\n",
      "is ambiguous with: \n",
      "    *(Any, AutoDiff.Ad) at /home/kriukov/temp/interval-methods/modules/AutoDiff.jl:40.\n",
      "To fix, define \n",
      "    *(PurityIntervals.PurityInterval, AutoDiff.Ad)\n",
      "before the new definition.\n",
      "WARNING: New definition \n",
      "    *(Any, PurityIntervals.PurityInterval) at /home/kriukov/temp/interval-methods/modules/PurityIntervals.jl:31\n",
      "is ambiguous with: \n",
      "    *(IntervalArithmetic.IntUnion, Any) at /home/kriukov/temp/interval-methods/modules/IntervalArithmetic.jl:993.\n",
      "To fix, define \n",
      "    *(IntervalArithmetic.IntUnion, PurityIntervals.PurityInterval)\n",
      "before the new definition.\n",
      "WARNING: New definition \n",
      "    *(Any, PurityIntervals.PurityInterval) at /home/kriukov/temp/interval-methods/modules/PurityIntervals.jl:31\n",
      "is ambiguous with: \n",
      "    *(AutoDiff.Ad, Any) at /home/kriukov/temp/interval-methods/modules/AutoDiff.jl:39.\n",
      "To fix, define \n",
      "    *(AutoDiff.Ad, PurityIntervals.PurityInterval)\n",
      "before the new definition.\n",
      "WARNING: New definition \n",
      "    /(PurityIntervals.PurityInterval, Any) at /home/kriukov/temp/interval-methods/modules/PurityIntervals.jl:30\n",
      "is ambiguous with: \n",
      "    /(Any, IntervalArithmetic.IntUnion) at /home/kriukov/temp/interval-methods/modules/IntervalArithmetic.jl:996.\n",
      "To fix, define \n",
      "    /(PurityIntervals.PurityInterval, IntervalArithmetic.IntUnion)\n",
      "before the new definition.\n",
      "WARNING: New definition \n",
      "    /(PurityIntervals.PurityInterval, Any) at /home/kriukov/temp/interval-methods/modules/PurityIntervals.jl:30\n",
      "is ambiguous with: \n",
      "    /(Any, AutoDiff.Ad) at /home/kriukov/temp/interval-methods/modules/AutoDiff.jl:40.\n",
      "To fix, define \n",
      "    /(PurityIntervals.PurityInterval, AutoDiff.Ad)\n",
      "before the new definition.\n",
      "WARNING: New definition \n",
      "    /(Any, PurityIntervals.PurityInterval) at /home/kriukov/temp/interval-methods/modules/PurityIntervals.jl:31\n",
      "is ambiguous with: \n",
      "    /(IntervalArithmetic.IntUnion, Any) at /home/kriukov/temp/interval-methods/modules/IntervalArithmetic.jl:995.\n",
      "To fix, define \n",
      "    /(IntervalArithmetic.IntUnion, PurityIntervals.PurityInterval)\n",
      "before the new definition.\n",
      "WARNING: New definition \n",
      "    /(Any, PurityIntervals.PurityInterval) at /home/kriukov/temp/interval-methods/modules/PurityIntervals.jl:31\n",
      "is ambiguous with: \n",
      "    /(AutoDiff.Ad, Any) at /home/kriukov/temp/interval-methods/modules/AutoDiff.jl:39.\n",
      "To fix, define \n",
      "    /(AutoDiff.Ad, PurityIntervals.PurityInterval)\n",
      "before the new definition.\n"
     ]
    },
    {
     "data": {
      "text/plain": [
       "L (generic function with 1 method)"
      ]
     },
     "execution_count": 1,
     "metadata": {},
     "output_type": "execute_result"
    }
   ],
   "source": [
    "include(\"birkhoff.jl\")"
   ]
  },
  {
   "cell_type": "code",
   "execution_count": 2,
   "metadata": {
    "collapsed": false
   },
   "outputs": [
    {
     "data": {
      "image/png": "[encoded data removed]",
      "text/plain": [
       "PyPlot.Figure(PyObject <matplotlib.figure.Figure object at 0x7f021c3de650>)"
      ]
     },
     "metadata": {},
     "output_type": "display_data"
    },
    {
     "data": {
      "text/plain": [
       "4-element Array{Float64,1}:\n",
       "  0.0   \n",
       "  1.0472\n",
       " -1.0   \n",
       "  1.0   "
      ]
     },
     "execution_count": 2,
     "metadata": {},
     "output_type": "execute_result"
    }
   ],
   "source": [
    "draw_phase_space_general(c, 1, rect, 1e-2)"
   ]
  },
  {
   "cell_type": "code",
   "execution_count": 5,
   "metadata": {
    "collapsed": false
   },
   "outputs": [
    {
     "name": "stdout",
     "output_type": "stream",
     "text": [
      "Unique zero in [IntervalArithmetic.Interval(-5.00000000009821129695e-01,-5.00000000006079532277e-01),IntervalArithmetic.Interval(5.23598775591066101557e-01,5.23598775607871918874e-01)]\n",
      "Unique zero in [IntervalArithmetic.Interval(-5.00000000006079532331e-01,-4.9999999999155026942e-01),IntervalArithmetic.Interval(5.23598775590062783794e-01,5.23598775606868738208e-01)]\n"
     ]
    },
    {
     "data": {
      "text/plain": [
       "([[[IntervalArithmetic.Interval(-5.00000000009821129695e-01,-5.00000000006079532277e-01),IntervalArithmetic.Interval(5.23598775591066101557e-01,5.23598775607871918874e-01)],[IntervalArithmetic.Interval(-5.00000000006079532331e-01,-4.9999999999155026942e-01),IntervalArithmetic.Interval(5.23598775590062783794e-01,5.23598775606868738208e-01)]]],120)"
      ]
     },
     "execution_count": 5,
     "metadata": {},
     "output_type": "execute_result"
    }
   ],
   "source": [
    "# Looking for a periodic orbit in a small vicinity as an example to reduce execution time\n",
    "find_periodic_orbits(c, [1, 2, 3, 1], [Interval(-0.5-0.001, -0.5+0.002), Interval(pi/6-0.001, pi/6+0.0014)], 64, 1e-4)"
   ]
  },
  {
   "cell_type": "code",
   "execution_count": null,
   "metadata": {
    "collapsed": true
   },
   "outputs": [],
   "source": []
  }
 ],
 "metadata": {
  "kernelspec": {
   "display_name": "Julia 0.4.5",
   "language": "julia",
   "name": "julia-0.4"
  },
  "language_info": {
   "file_extension": ".jl",
   "mimetype": "application/julia",
   "name": "julia",
   "version": "0.4.5"
  }
 },
 "nbformat": 4,
 "nbformat_minor": 0
}
