{
 "metadata": {
  "language": "Julia",
  "name": ""
 },
 "nbformat": 3,
 "nbformat_minor": 0,
 "worksheets": [
  {
   "cells": [
    {
     "cell_type": "code",
     "collapsed": false,
     "input": [
      "include(\"newton2d.jl\")"
     ],
     "language": "python",
     "metadata": {},
     "outputs": [
      {
       "metadata": {},
       "output_type": "pyout",
       "prompt_number": 21,
       "text": [
        "newton2d (generic function with 2 methods)"
       ]
      }
     ],
     "prompt_number": 21
    },
    {
     "cell_type": "code",
     "collapsed": false,
     "input": [
      "f(x) = [x[1]^2 + x[2]^2 - 1, x[1] - x[2]^2]"
     ],
     "language": "python",
     "metadata": {},
     "outputs": [
      {
       "metadata": {},
       "output_type": "pyout",
       "prompt_number": 2,
       "text": [
        "f (generic function with 1 method)"
       ]
      }
     ],
     "prompt_number": 2
    },
    {
     "cell_type": "code",
     "collapsed": false,
     "input": [
      "a = [Interval(0.5, 0.8), Interval(0.6, 0.9)]"
     ],
     "language": "python",
     "metadata": {},
     "outputs": [
      {
       "metadata": {},
       "output_type": "pyout",
       "prompt_number": 3,
       "text": [
        "2-element Array{Interval,1}:\n",
        " Interval(5e-01 with 256 bits of precision,8.000000000000000000000000000000000000000000000000000000000000000000000000000017e-01 with 256 bits of precision)                                                                               \n",
        " Interval(5.999999999999999999999999999999999999999999999999999999999999999999999999999948e-01 with 256 bits of precision,9.000000000000000000000000000000000000000000000000000000000000000000000000000052e-01 with 256 bits of precision)"
       ]
      }
     ],
     "prompt_number": 3
    },
    {
     "cell_type": "code",
     "collapsed": false,
     "input": [
      "newton2d(f, a, 64)"
     ],
     "language": "python",
     "metadata": {},
     "outputs": [
      {
       "output_type": "stream",
       "stream": "stdout",
       "text": [
        "roots_array_new = push!(roots_array_new,isectext(roots_array[i],N(roots_array[i]))) => [[Interval(5.69951923076923076632e-01 with 64 bits of precision,6.43645833333333333595e-01 with 64 bits of precision),Interval(7.76909722222222222138e-01 with 64 bits of precision,8.02564102564102564328e-01 with 64 bits of precision)]]"
       ]
      },
      {
       "output_type": "stream",
       "stream": "stdout",
       "text": [
        "\n",
        "roots_array = roots_array_new => [[Interval(5.69951923076923076632e-01 with 64 bits of precision,6.43645833333333333595e-01 with 64 bits of precision),Interval(7.76909722222222222138e-01 with 64 bits of precision,8.02564102564102564328e-01 with 64 bits of precision)]]\n",
        "roots_array_new = push!(roots_array_new,isectext(roots_array[i],N(roots_array[i]))) => [[Interval(6.16649962609692997909e-01 with 64 bits of precision,6.19676057175074426167e-01 with 64 bits of precision),Interval(7.85711856788002042517e-01 with 64 bits of precision,7.86710356930029978083e-01 with 64 bits of precision)]]\n",
        "roots_array = roots_array_new => [[Interval(6.16649962609692997909e-01 with 64 bits of precision,6.19676057175074426167e-01 with 64 bits of precision),Interval(7.85711856788002042517e-01 with 64 bits of precision,7.86710356930029978083e-01 with 64 bits of precision)]]\n",
        "roots_array_new = push!(roots_array_new,isectext(roots_array[i],N(roots_array[i]))) => [[Interval(6.18033201420526032209e-01 with 64 bits of precision,6.18034789347726672202e-01 with 64 bits of precision),Interval(7.86151061673094964761e-01 with 64 bits of precision,7.86151706419289133176e-01 with 64 bits of precision)]]\n",
        "roots_array = roots_array_new => [[Interval(6.18033201420526032209e-01 with 64 bits of precision,6.18034789347726672202e-01 with 64 bits of precision),Interval(7.86151061673094964761e-01 with 64 bits of precision,7.86151706419289133176e-01 with 64 bits of precision)]]\n",
        "roots_array_new = push!(roots_array_new,isectext(roots_array[i],N(roots_array[i]))) => [[Interval(6.18033988749863042703e-01 with 64 bits of precision,6.18033988749926693068e-01 with 64 bits of precision),Interval(7.86151377757410522269e-01 with 64 bits of precision,7.86151377757436125161e-01 with 64 bits of precision)]]\n",
        "roots_array = roots_array_new => [[Interval(6.18033988749863042703e-01 with 64 bits of precision,6.18033988749926693068e-01 with 64 bits of precision),Interval(7.86151377757410522269e-01 with 64 bits of precision,7.86151377757436125161e-01 with 64 bits of precision)]]\n",
        "roots_array_new = push!(roots_array_new,isectext(roots_array[i],N(roots_array[i]))) => [[Interval(6.18033988749894848045e-01 with 64 bits of precision,6.18033988749894848424e-01 with 64 bits of precision),Interval(7.86151377757423285931e-01 with 64 bits of precision,7.8615137775742328631e-01 with 64 bits of precision)]]\n",
        "roots_array = roots_array_new => [[Interval(6.18033988749894848045e-01 with 64 bits of precision,6.18033988749894848424e-01 with 64 bits of precision),Interval(7.86151377757423285931e-01 with 64 bits of precision,7.8615137775742328631e-01 with 64 bits of precision)]]\n",
        "roots_array_new = push!(roots_array_new,isectext(roots_array[i],N(roots_array[i]))) => "
       ]
      },
      {
       "output_type": "stream",
       "stream": "stdout",
       "text": [
        "[[Interval(6.18033988749894848045e-01 with 64 bits of precision,6.18033988749894848424e-01 with 64 bits of precision),Interval(7.86151377757423285931e-01 with 64 bits of precision,7.8615137775742328631e-01 with 64 bits of precision)]]\n",
        "Function calls: 5\n"
       ]
      },
      {
       "metadata": {},
       "output_type": "pyout",
       "prompt_number": 4,
       "text": [
        "1-element Array{Array{Interval,1},1}:\n",
        " [Interval(6.18033988749894848045e-01 with 64 bits of precision,6.18033988749894848424e-01 with 64 bits of precision),Interval(7.86151377757423285931e-01 with 64 bits of precision,7.8615137775742328631e-01 with 64 bits of precision)]"
       ]
      }
     ],
     "prompt_number": 4
    },
    {
     "cell_type": "code",
     "collapsed": false,
     "input": [
      "# Works."
     ],
     "language": "python",
     "metadata": {},
     "outputs": [],
     "prompt_number": 5
    },
    {
     "cell_type": "code",
     "collapsed": false,
     "input": [
      "# 2nd example from Moore book"
     ],
     "language": "python",
     "metadata": {},
     "outputs": [],
     "prompt_number": 6
    },
    {
     "cell_type": "code",
     "collapsed": false,
     "input": [
      "f(x) = [20 - 20x[1] - x[2], x[1] - x[2]/20 - 1e-9*exp(x[2]/0.052)]"
     ],
     "language": "python",
     "metadata": {},
     "outputs": [
      {
       "metadata": {},
       "output_type": "pyout",
       "prompt_number": 5,
       "text": [
        "f (generic function with 1 method)"
       ]
      }
     ],
     "prompt_number": 5
    },
    {
     "cell_type": "code",
     "collapsed": false,
     "input": [
      "a = [Interval(0.5, 1.2), Interval(0.6, 1.2)]"
     ],
     "language": "python",
     "metadata": {},
     "outputs": [
      {
       "metadata": {},
       "output_type": "pyout",
       "prompt_number": 6,
       "text": [
        "2-element Array{Interval,1}:\n",
        " Interval(5e-01 with 64 bits of precision,1.20000000000000000004e+00 with 64 bits of precision)                     \n",
        " Interval(5.99999999999999999967e-01 with 64 bits of precision,1.20000000000000000004e+00 with 64 bits of precision)"
       ]
      }
     ],
     "prompt_number": 6
    },
    {
     "cell_type": "code",
     "collapsed": false,
     "input": [
      "newton2d(f, a, 64)"
     ],
     "language": "python",
     "metadata": {},
     "outputs": [
      {
       "output_type": "stream",
       "stream": "stdout",
       "text": [
        "roots_array_new = push!(roots_array_new,isectext(roots_array[i],N(roots_array[i]))) => [[Interval(5.24913596541994085176e-01 with 64 bits of precision,9.54783404920287672335e-01 with 64 bits of precision),Interval(9.04331901594246556598e-01 with 64 bits of precision,1.20000000000000000004e+00 with 64 bits of precision)]]"
       ]
      },
      {
       "output_type": "stream",
       "stream": "stdout",
       "text": [
        "\n",
        "roots_array = roots_array_new => [[Interval(5.24913596541994085176e-01 with 64 bits of precision,9.54783404920287672335e-01 with 64 bits of precision),Interval(9.04331901594246556598e-01 with 64 bits of precision,1.20000000000000000004e+00 with 64 bits of precision)]]\n",
        "roots_array_new = push!(roots_array_new,isectext(roots_array[i],N(roots_array[i]))) => [[Interval(9.29487402579674734042e-01 with 64 bits of precision,9.47322133828186144428e-01 with 64 bits of precision),Interval(1.05355732343627711643e+00 with 64 bits of precision,1.20000000000000000004e+00 with 64 bits of precision)]]\n",
        "roots_array = roots_array_new => [[Interval(9.29487402579674734042e-01 with 64 bits of precision,9.47322133828186144428e-01 with 64 bits of precision),Interval(1.05355732343627711643e+00 with 64 bits of precision,1.20000000000000000004e+00 with 64 bits of precision)]]\n",
        "roots_array_new = push!(roots_array_new,isectext(roots_array[i],N(roots_array[i]))) => [[Interval(9.4405739404211960064e-01 with 64 bits of precision,9.47322133828186144428e-01 with 64 bits of precision),Interval(1.05355732343627711643e+00 with 64 bits of precision,1.11885211915760798037e+00 with 64 bits of precision)]]\n",
        "roots_array = roots_array_new => [[Interval(9.4405739404211960064e-01 with 64 bits of precision,9.47322133828186144428e-01 with 64 bits of precision),Interval(1.05355732343627711643e+00 with 64 bits of precision,1.11885211915760798037e+00 with 64 bits of precision)]]\n",
        "roots_array_new = push!(roots_array_new,isectext(roots_array[i],N(roots_array[i]))) => [[Interval(9.46028161295262554455e-01 with 64 bits of precision,9.46870644360673580542e-01 with 64 bits of precision),Interval(1.06258711278652839491e+00 with 64 bits of precision,1.07943677409474890645e+00 with 64 bits of precision)]]\n",
        "roots_array = roots_array_new => [[Interval(9.46028161295262554455e-01 with 64 bits of precision,9.46870644360673580542e-01 with 64 bits of precision),Interval(1.06258711278652839491e+00 with 64 bits of precision,1.07943677409474890645e+00 with 64 bits of precision)]]\n",
        "roots_array_new = push!(roots_array_new,isectext(roots_array[i],N(roots_array[i]))) => [[Interval(9.46407827444742915182e-01 with 64 bits of precision,9.46419276900890626275e-01 with 64 bits of precision),Interval(1.07161446198218747721e+00 with 64 bits of precision,1.07184345110514169289e+00 with 64 bits of precision)]]\n",
        "roots_array = roots_array_new => [[Interval(9.46407827444742915182e-01 with 64 bits of precision,9.46419276900890626275e-01 with 64 bits of precision),Interval(1.07161446198218747721e+00 with 64 bits of precision,1.07184345110514169289e+00 with 64 bits of precision)]]\n",
        "roots_array_new = push!(roots_array_new,isectext(roots_array[i],N(roots_array[i]))) => [[Interval(9.46414245222457044325e-01 with 64 bits of precision,9.46414248263380555859e-01 with 64 bits of precision),Interval(1.07171503473238888629e+00 with 64 bits of precision,1.07171509555085910917e+00 with 64 bits of precision)]]\n",
        "roots_array = roots_array_new => [[Interval(9.46414245222457044325e-01 with 64 bits of precision,9.46414248263380555859e-01 with 64 bits of precision),Interval(1.07171503473238888629e+00 with 64 bits of precision,1.07171509555085910917e+00 with 64 bits of precision)]]\n",
        "roots_array_new = push!(roots_array_new,isectext(roots_array[i],N(roots_array[i]))) => [[Interval(9.46414246833517562878e-01 with 64 bits of precision,9.46414246833517668533e-01 with 64 bits of precision),Interval(1.07171506332964663205e+00 with 64 bits of precision,1.07171506332964873995e+00 with 64 bits of precision)]]\n",
        "roots_array = roots_array_new => [[Interval(9.46414246833517562878e-01 with 64 bits of precision,9.46414246833517668533e-01 with 64 bits of precision),Interval(1.07171506332964663205e+00 with 64 bits of precision,1.07171506332964873995e+00 with 64 bits of precision)]]\n",
        "roots_array_new = push!(roots_array_new,isectext(roots_array[i],N(roots_array[i]))) => "
       ]
      },
      {
       "output_type": "stream",
       "stream": "stdout",
       "text": [
        "[[Interval(9.46414246833517617088e-01 with 64 bits of precision,9.46414246833517617467e-01 with 64 bits of precision),Interval(1.07171506332964765413e+00 with 64 bits of precision,1.07171506332964765488e+00 with 64 bits of precision)]]\n",
        "roots_array = roots_array_new => [[Interval(9.46414246833517617088e-01 with 64 bits of precision,9.46414246833517617467e-01 with 64 bits of precision),Interval(1.07171506332964765413e+00 with 64 bits of precision,1.07171506332964765488e+00 with 64 bits of precision)]]\n",
        "roots_array_new = push!(roots_array_new,isectext(roots_array[i],N(roots_array[i]))) => [[Interval(9.46414246833517617142e-01 with 64 bits of precision,9.46414246833517617467e-01 with 64 bits of precision),Interval(1.07171506332964765413e+00 with 64 bits of precision,1.07171506332964765488e+00 with 64 bits of precision)]]\n",
        "roots_array = roots_array_new => [[Interval(9.46414246833517617142e-01 with 64 bits of precision,9.46414246833517617467e-01 with 64 bits of precision),Interval(1.07171506332964765413e+00 with 64 bits of precision,1.07171506332964765488e+00 with 64 bits of precision)]]\n",
        "roots_array_new = push!(roots_array_new,isectext(roots_array[i],N(roots_array[i]))) => [[Interval(9.46414246833517617142e-01 with 64 bits of precision,9.46414246833517617467e-01 with 64 bits of precision),Interval(1.07171506332964765413e+00 with 64 bits of precision,1.07171506332964765488e+00 with 64 bits of precision)]]\n",
        "Function calls: 9\n"
       ]
      },
      {
       "metadata": {},
       "output_type": "pyout",
       "prompt_number": 7,
       "text": [
        "1-element Array{Array{Interval,1},1}:\n",
        " [Interval(9.46414246833517617142e-01 with 64 bits of precision,9.46414246833517617467e-01 with 64 bits of precision),Interval(1.07171506332964765413e+00 with 64 bits of precision,1.07171506332964765488e+00 with 64 bits of precision)]"
       ]
      }
     ],
     "prompt_number": 7
    },
    {
     "cell_type": "code",
     "collapsed": false,
     "input": [
      "# Works. Krawczyk2d is not yet capable of doing this on such an interval (only on a tiny one)"
     ],
     "language": "python",
     "metadata": {},
     "outputs": [],
     "prompt_number": 10
    },
    {
     "cell_type": "code",
     "collapsed": false,
     "input": [
      "# 3rd example from Moore"
     ],
     "language": "python",
     "metadata": {},
     "outputs": [],
     "prompt_number": 11
    },
    {
     "cell_type": "code",
     "collapsed": false,
     "input": [
      "f(x) = [0.5*(-(17.76x[1] - 103.79x[1]^2 + 229.62x[1]^3 - 226.31x[1]^4 + 83.72x[1]^5) + x[2]), 0.2*(-x[1] - 1.5x[2] + 1.2)]"
     ],
     "language": "python",
     "metadata": {},
     "outputs": [
      {
       "metadata": {},
       "output_type": "pyout",
       "prompt_number": 8,
       "text": [
        "f (generic function with 1 method)"
       ]
      }
     ],
     "prompt_number": 8
    },
    {
     "cell_type": "code",
     "collapsed": false,
     "input": [
      "a = [Interval(0.01, 0.1), Interval(0.7, 0.9)]"
     ],
     "language": "python",
     "metadata": {},
     "outputs": [
      {
       "metadata": {},
       "output_type": "pyout",
       "prompt_number": 9,
       "text": [
        "2-element Array{Interval,1}:\n",
        " Interval(9.9999999999999999998e-03 with 64 bits of precision,1.00000000000000000001e-01 with 64 bits of precision) \n",
        " Interval(6.99999999999999999989e-01 with 64 bits of precision,9.00000000000000000033e-01 with 64 bits of precision)"
       ]
      }
     ],
     "prompt_number": 9
    },
    {
     "cell_type": "code",
     "collapsed": false,
     "input": [
      "newton2d(f, a, 64)"
     ],
     "language": "python",
     "metadata": {},
     "outputs": [
      {
       "output_type": "stream",
       "stream": "stdout",
       "text": [
        "roots_array_new = push!(roots_array_new,isectext(roots_array[i],N(roots_array[i]))) => [[Interval(9.9999999999999999998e-03 with 64 bits of precision,7.0913231674868675651e-02 with 64 bits of precision),Interval(7.52724512216754216036e-01 with 64 bits of precision,9.00000000000000000087e-01 with 64 bits of precision)]]"
       ]
      },
      {
       "output_type": "stream",
       "stream": "stdout",
       "text": [
        "\n",
        "roots_array = roots_array_new => [[Interval(9.9999999999999999998e-03 with 64 bits of precision,7.0913231674868675651e-02 with 64 bits of precision),Interval(7.52724512216754216036e-01 with 64 bits of precision,9.00000000000000000087e-01 with 64 bits of precision)]]\n",
        "roots_array_new = push!(roots_array_new,isectext(roots_array[i],N(roots_array[i]))) => [[Interval(3.25147257246873440093e-02 with 64 bits of precision,7.0913231674868675651e-02 with 64 bits of precision),Interval(7.52724512216754216036e-01 with 64 bits of precision,7.7593893656591919611e-01 with 64 bits of precision)]]\n",
        "roots_array = roots_array_new => [[Interval(3.25147257246873440093e-02 with 64 bits of precision,7.0913231674868675651e-02 with 64 bits of precision),Interval(7.52724512216754216036e-01 with 64 bits of precision,7.7593893656591919611e-01 with 64 bits of precision)]]\n",
        "roots_array_new = push!(roots_array_new,isectext(roots_array[i],N(roots_array[i]))) => [[Interval(5.70437395636192175644e-02 with 64 bits of precision,7.0913231674868675651e-02 with 64 bits of precision),Interval(7.52724512216754216036e-01 with 64 bits of precision,7.61866097602335704843e-01 with 64 bits of precision)]]\n",
        "roots_array = roots_array_new => [[Interval(5.70437395636192175644e-02 with 64 bits of precision,7.0913231674868675651e-02 with 64 bits of precision),Interval(7.52724512216754216036e-01 with 64 bits of precision,7.61866097602335704843e-01 with 64 bits of precision)]]\n",
        "roots_array_new = push!(roots_array_new,isectext(roots_array[i],N(roots_array[i]))) => [[Interval(6.19921718395133293548e-02 with 64 bits of precision,6.29875080000577488177e-02 with 64 bits of precision),Interval(7.58013915207302419895e-01 with 64 bits of precision,7.58666464088579971128e-01 with 64 bits of precision)]]\n",
        "roots_array = roots_array_new => [[Interval(6.19921718395133293548e-02 with 64 bits of precision,6.29875080000577488177e-02 with 64 bits of precision),Interval(7.58013915207302419895e-01 with 64 bits of precision,7.58666464088579971128e-01 with 64 bits of precision)]]\n",
        "roots_array_new = push!(roots_array_new,isectext(roots_array[i],N(roots_array[i]))) => [[Interval(6.26324921850417223467e-02 with 64 bits of precision,6.26391951713915097878e-02 with 64 bits of precision),Interval(7.5824056794160730506e-01 with 64 bits of precision,7.58244973819748302717e-01 with 64 bits of precision)]]\n",
        "roots_array = roots_array_new => [[Interval(6.26324921850417223467e-02 with 64 bits of precision,6.26391951713915097878e-02 with 64 bits of precision),Interval(7.5824056794160730506e-01 with 64 bits of precision,7.58244973819748302717e-01 with 64 bits of precision)]]\n",
        "roots_array_new = push!(roots_array_new,isectext(roots_array[i],N(roots_array[i]))) => "
       ]
      },
      {
       "output_type": "stream",
       "stream": "stdout",
       "text": [
        "[[Interval(6.26359591916881786736e-02 with 64 bits of precision,6.26359592275368373505e-02 with 64 bits of precision),Interval(7.58242693848477288313e-01 with 64 bits of precision,7.58242693872039367521e-01 with 64 bits of precision)]]\n",
        "roots_array = roots_array_new => [[Interval(6.26359591916881786736e-02 with 64 bits of precision,6.26359592275368373505e-02 with 64 bits of precision),Interval(7.58242693848477288313e-01 with 64 bits of precision,7.58242693872039367521e-01 with 64 bits of precision)]]\n",
        "roots_array_new = push!(roots_array_new,isectext(roots_array[i],N(roots_array[i]))) => [[Interval(6.26359592097212331612e-02 with 64 bits of precision,6.26359592097212334051e-02 with 64 bits of precision),Interval(7.5824269386018584415e-01 with 64 bits of precision,7.582426938601858448e-01 with 64 bits of precision)]]\n",
        "roots_array = roots_array_new => [[Interval(6.26359592097212331612e-02 with 64 bits of precision,6.26359592097212334051e-02 with 64 bits of precision),Interval(7.5824269386018584415e-01 with 64 bits of precision,7.582426938601858448e-01 with 64 bits of precision)]]\n",
        "roots_array_new = push!(roots_array_new,isectext(roots_array[i],N(roots_array[i]))) => [[Interval(6.26359592097212331612e-02 with 64 bits of precision,6.26359592097212333983e-02 with 64 bits of precision),Interval(7.5824269386018584415e-01 with 64 bits of precision,7.58242693860185844746e-01 with 64 bits of precision)]]\n",
        "roots_array = roots_array_new => [[Interval(6.26359592097212331612e-02 with 64 bits of precision,6.26359592097212333983e-02 with 64 bits of precision),Interval(7.5824269386018584415e-01 with 64 bits of precision,7.58242693860185844746e-01 with 64 bits of precision)]]\n",
        "roots_array_new = push!(roots_array_new,isectext(roots_array[i],N(roots_array[i]))) => [[Interval(6.26359592097212331612e-02 with 64 bits of precision,6.26359592097212333983e-02 with 64 bits of precision),Interval(7.5824269386018584415e-01 with 64 bits of precision,7.58242693860185844746e-01 with 64 bits of precision)]]\n",
        "Function calls: 8\n"
       ]
      },
      {
       "metadata": {},
       "output_type": "pyout",
       "prompt_number": 10,
       "text": [
        "1-element Array{Array{Interval,1},1}:\n",
        " [Interval(6.26359592097212331612e-02 with 64 bits of precision,6.26359592097212333983e-02 with 64 bits of precision),Interval(7.5824269386018584415e-01 with 64 bits of precision,7.58242693860185844746e-01 with 64 bits of precision)]"
       ]
      }
     ],
     "prompt_number": 10
    },
    {
     "cell_type": "code",
     "collapsed": false,
     "input": [
      "# Works. Another interval:"
     ],
     "language": "python",
     "metadata": {},
     "outputs": [],
     "prompt_number": 15
    },
    {
     "cell_type": "code",
     "collapsed": false,
     "input": [
      "a = [Interval(0.7, 0.9), Interval(0.1, 0.3)]"
     ],
     "language": "python",
     "metadata": {},
     "outputs": [
      {
       "metadata": {},
       "output_type": "pyout",
       "prompt_number": 11,
       "text": [
        "2-element Array{Interval,1}:\n",
        " Interval(6.99999999999999999989e-01 with 64 bits of precision,9.00000000000000000033e-01 with 64 bits of precision)\n",
        " Interval(9.99999999999999999946e-02 with 64 bits of precision,3.00000000000000000011e-01 with 64 bits of precision)"
       ]
      }
     ],
     "prompt_number": 11
    },
    {
     "cell_type": "code",
     "collapsed": false,
     "input": [
      "newton2d(f, a, 64)"
     ],
     "language": "python",
     "metadata": {},
     "outputs": [
      {
       "output_type": "stream",
       "stream": "stdout",
       "text": [
        "roots_array_new = push!(roots_array_new,isectext(roots_array[i],N(roots_array[i]))) => [[Interval(7.99533569108615181306e-01 with 64 bits of precision,9.00000000000000000087e-01 with 64 bits of precision),Interval(1.32402716810851698009e-01 with 64 bits of precision,2.66977620594256545897e-01 with 64 bits of precision)]]"
       ]
      },
      {
       "output_type": "stream",
       "stream": "stdout",
       "text": [
        "\n",
        "roots_array = roots_array_new => [[Interval(7.99533569108615181306e-01 with 64 bits of precision,9.00000000000000000087e-01 with 64 bits of precision),Interval(1.32402716810851698009e-01 with 64 bits of precision,2.66977620594256545897e-01 with 64 bits of precision)]]\n",
        "roots_array_new = push!(roots_array_new,isectext(roots_array[i],N(roots_array[i]))) => [[Interval(8.49310448278202196964e-01 with 64 bits of precision,9.00000000000000000141e-01 with 64 bits of precision),Interval(1.64941883459212836004e-01 with 64 bits of precision,2.33793034481198535481e-01 with 64 bits of precision)]]\n",
        "roots_array = roots_array_new => [[Interval(8.49310448278202196964e-01 with 64 bits of precision,9.00000000000000000141e-01 with 64 bits of precision),Interval(1.64941883459212836004e-01 with 64 bits of precision,2.33793034481198535481e-01 with 64 bits of precision)]]\n",
        "roots_array_new = push!(roots_array_new,isectext(roots_array[i],N(roots_array[i]))) => [[Interval(8.74368868193437198753e-01 with 64 bits of precision,9.00000000000000000195e-01 with 64 bits of precision),Interval(1.80847351067254425328e-01 with 64 bits of precision,2.17087421204375200919e-01 with 64 bits of precision)]]\n",
        "roots_array = roots_array_new => [[Interval(8.74368868193437198753e-01 with 64 bits of precision,9.00000000000000000195e-01 with 64 bits of precision),Interval(1.80847351067254425328e-01 with 64 bits of precision,2.17087421204375200919e-01 with 64 bits of precision)]]\n",
        "roots_array_new = push!(roots_array_new,isectext(roots_array[i],N(roots_array[i]))) => [[Interval(8.86713661126687165365e-01 with 64 bits of precision,9.00000000000000000195e-01 with 64 bits of precision),Interval(1.88028751271188605487e-01 with 64 bits of precision,2.08857559248875223218e-01 with 64 bits of precision)]]\n",
        "roots_array = roots_array_new => [[Interval(8.86713661126687165365e-01 with 64 bits of precision,9.00000000000000000195e-01 with 64 bits of precision),Interval(1.88028751271188605487e-01 with 64 bits of precision,2.08857559248875223218e-01 with 64 bits of precision)]]\n",
        "roots_array_new = push!(roots_array_new,isectext(roots_array[i],N(roots_array[i]))) => "
       ]
      },
      {
       "output_type": "stream",
       "stream": "stdout",
       "text": [
        "[[Interval(8.92042290862508345105e-01 with 64 bits of precision,9.00000000000000000195e-01 with 64 bits of precision),Interval(1.89953354713197845736e-01 with 64 bits of precision,2.05305139424994436743e-01 with 64 bits of precision)]]\n",
        "roots_array = roots_array_new => [[Interval(8.92042290862508345105e-01 with 64 bits of precision,9.00000000000000000195e-01 with 64 bits of precision),Interval(1.89953354713197845736e-01 with 64 bits of precision,2.05305139424994436743e-01 with 64 bits of precision)]]\n",
        "roots_array_new = push!(roots_array_new,isectext(roots_array[i],N(roots_array[i]))) => [[Interval(8.93576641696621274086e-01 with 64 bits of precision,9.00000000000000000195e-01 with 64 bits of precision),Interval(1.89953354713197845736e-01 with 64 bits of precision,2.04282238868919150697e-01 with 64 bits of precision)]]\n",
        "roots_array = roots_array_new => [[Interval(8.93576641696621274086e-01 with 64 bits of precision,9.00000000000000000195e-01 with 64 bits of precision),Interval(1.89953354713197845736e-01 with 64 bits of precision,2.04282238868919150697e-01 with 64 bits of precision)]]\n",
        "roots_array_new = push!(roots_array_new,isectext(roots_array[i],N(roots_array[i]))) => "
       ]
      },
      {
       "output_type": "stream",
       "stream": "stdout",
       "text": [
        "[[Interval(8.93683850490391404895e-01 with 64 bits of precision,9.00000000000000000195e-01 with 64 bits of precision),Interval(1.89953354713197845736e-01 with 64 bits of precision,2.04210766339739063622e-01 with 64 bits of precision)]]\n",
        "roots_array = roots_array_new => [[Interval(8.93683850490391404895e-01 with 64 bits of precision,9.00000000000000000195e-01 with 64 bits of precision),Interval(1.89953354713197845736e-01 with 64 bits of precision,2.04210766339739063622e-01 with 64 bits of precision)]]\n",
        "roots_array_new = push!(roots_array_new,isectext(roots_array[i],N(roots_array[i]))) => [[Interval(8.93683850490391404895e-01 with 64 bits of precision,9.00000000000000000195e-01 with 64 bits of precision),Interval(1.89953354713197845736e-01 with 64 bits of precision,2.04210766339739063622e-01 with 64 bits of precision)]]\n",
        "Function calls: 7\n"
       ]
      },
      {
       "metadata": {},
       "output_type": "pyout",
       "prompt_number": 12,
       "text": [
        "1-element Array{Array{Interval,1},1}:\n",
        " [Interval(8.93683850490391404895e-01 with 64 bits of precision,9.00000000000000000195e-01 with 64 bits of precision),Interval(1.89953354713197845736e-01 with 64 bits of precision,2.04210766339739063622e-01 with 64 bits of precision)]"
       ]
      }
     ],
     "prompt_number": 12
    },
    {
     "cell_type": "code",
     "collapsed": false,
     "input": [
      "# For some reason, the intervals are still relatively large"
     ],
     "language": "python",
     "metadata": {},
     "outputs": [],
     "prompt_number": 18
    },
    {
     "cell_type": "code",
     "collapsed": false,
     "input": [
      "a = [Interval(0.11, 0.3), Interval(0.5, 0.69)]"
     ],
     "language": "python",
     "metadata": {},
     "outputs": [
      {
       "metadata": {},
       "output_type": "pyout",
       "prompt_number": 13,
       "text": [
        "2-element Array{Interval,1}:\n",
        " Interval(1.09999999999999999999e-01 with 64 bits of precision,3.00000000000000000011e-01 with 64 bits of precision)\n",
        " Interval(5e-01 with 64 bits of precision,6.90000000000000000052e-01 with 64 bits of precision)                     "
       ]
      }
     ],
     "prompt_number": 13
    },
    {
     "cell_type": "code",
     "collapsed": false,
     "input": [
      "newton2d(f, a, 64)"
     ],
     "language": "python",
     "metadata": {},
     "outputs": [
      {
       "output_type": "stream",
       "stream": "stdout",
       "text": [
        "roots_array_new = push!(roots_array_new,isectext(roots_array[i],N(roots_array[i]))) => [[Interval(1.98959862448933060819e-01 with 64 bits of precision,3.00000000000000000038e-01 with 64 bits of precision),Interval(5.22511857040455090476e-01 with 64 bits of precision,6.67360091700711293024e-01 with 64 bits of precision)]]"
       ]
      },
      {
       "output_type": "stream",
       "stream": "stdout",
       "text": [
        "\n",
        "roots_array = roots_array_new => [[Interval(1.98959862448933060819e-01 with 64 bits of precision,3.00000000000000000038e-01 with 64 bits of precision),Interval(5.22511857040455090476e-01 with 64 bits of precision,6.67360091700711293024e-01 with 64 bits of precision)]]\n",
        "roots_array_new = push!(roots_array_new,isectext(roots_array[i],N(roots_array[i]))) => [[Interval(2.44405284093183400559e-01 with 64 bits of precision,3.00000000000000000065e-01 with 64 bits of precision),Interval(5.47605281726672503634e-01 with 64 bits of precision,6.37063143937877733179e-01 with 64 bits of precision)]]\n",
        "roots_array = roots_array_new => [[Interval(2.44405284093183400559e-01 with 64 bits of precision,3.00000000000000000065e-01 with 64 bits of precision),Interval(5.47605281726672503634e-01 with 64 bits of precision,6.37063143937877733179e-01 with 64 bits of precision)]]\n",
        "roots_array_new = push!(roots_array_new,isectext(roots_array[i],N(roots_array[i]))) => [[Interval(2.67881780072239415627e-01 with 64 bits of precision,3.00000000000000000065e-01 with 64 bits of precision),Interval(5.55929366475467126932e-01 with 64 bits of precision,6.21412146618507056422e-01 with 64 bits of precision)]]\n",
        "roots_array = roots_array_new => [[Interval(2.67881780072239415627e-01 with 64 bits of precision,3.00000000000000000065e-01 with 64 bits of precision),Interval(5.55929366475467126932e-01 with 64 bits of precision,6.21412146618507056422e-01 with 64 bits of precision)]]\n",
        "roots_array_new = push!(roots_array_new,isectext(roots_array[i],N(roots_array[i]))) => [[Interval(2.8018905070704416428e-01 with 64 bits of precision,3.00000000000000000065e-01 with 64 bits of precision),Interval(5.55929366475467126932e-01 with 64 bits of precision,6.13207299528637223896e-01 with 64 bits of precision)]]\n",
        "roots_array = roots_array_new => [[Interval(2.8018905070704416428e-01 with 64 bits of precision,3.00000000000000000065e-01 with 64 bits of precision),Interval(5.55929366475467126932e-01 with 64 bits of precision,6.13207299528637223896e-01 with 64 bits of precision)]]\n",
        "roots_array_new = push!(roots_array_new,isectext(roots_array[i],N(roots_array[i]))) => [[Interval(2.86802017717913006298e-01 with 64 bits of precision,3.00000000000000000065e-01 with 64 bits of precision),Interval(5.55929366475467126932e-01 with 64 bits of precision,6.08798654854724662804e-01 with 64 bits of precision)]]\n",
        "roots_array = roots_array_new => [[Interval(2.86802017717913006298e-01 with 64 bits of precision,3.00000000000000000065e-01 with 64 bits of precision),Interval(5.55929366475467126932e-01 with 64 bits of precision,6.08798654854724662804e-01 with 64 bits of precision)]]\n",
        "roots_array_new = push!(roots_array_new,isectext(roots_array[i],N(roots_array[i]))) => "
       ]
      },
      {
       "output_type": "stream",
       "stream": "stdout",
       "text": [
        "[[Interval(2.90699552997113188816e-01 with 64 bits of precision,3.00000000000000000065e-01 with 64 bits of precision),Interval(5.55929366475467126932e-01 with 64 bits of precision,6.06200298001924541035e-01 with 64 bits of precision)]]\n",
        "roots_array = roots_array_new => [[Interval(2.90699552997113188816e-01 with 64 bits of precision,3.00000000000000000065e-01 with 64 bits of precision),Interval(5.55929366475467126932e-01 with 64 bits of precision,6.06200298001924541035e-01 with 64 bits of precision)]]\n",
        "roots_array_new = push!(roots_array_new,isectext(roots_array[i],N(roots_array[i]))) => [[Interval(2.9119045375552936604e-01 with 64 bits of precision,3.00000000000000000065e-01 with 64 bits of precision),Interval(5.55929366475467126932e-01 with 64 bits of precision,6.05873030829647089444e-01 with 64 bits of precision)]]\n",
        "roots_array = roots_array_new => [[Interval(2.9119045375552936604e-01 with 64 bits of precision,3.00000000000000000065e-01 with 64 bits of precision),Interval(5.55929366475467126932e-01 with 64 bits of precision,6.05873030829647089444e-01 with 64 bits of precision)]]\n",
        "roots_array_new = push!(roots_array_new,isectext(roots_array[i],N(roots_array[i]))) => [[Interval(2.91199878305938713083e-01 with 64 bits of precision,3.00000000000000000065e-01 with 64 bits of precision),Interval(5.55929366475467126932e-01 with 64 bits of precision,6.05866747796040858154e-01 with 64 bits of precision)]]\n",
        "roots_array = roots_array_new => [[Interval(2.91199878305938713083e-01 with 64 bits of precision,3.00000000000000000065e-01 with 64 bits of precision),Interval(5.55929366475467126932e-01 with 64 bits of precision,6.05866747796040858154e-01 with 64 bits of precision)]]\n",
        "roots_array_new = push!(roots_array_new,isectext(roots_array[i],N(roots_array[i]))) => [[Interval(2.91199911011646166213e-01 with 64 bits of precision,3.00000000000000000065e-01 with 64 bits of precision),Interval(5.55929366475467126932e-01 with 64 bits of precision,6.05866725992235889437e-01 with 64 bits of precision)]]\n",
        "roots_array = roots_array_new => [[Interval(2.91199911011646166213e-01 with 64 bits of precision,3.00000000000000000065e-01 with 64 bits of precision),Interval(5.55929366475467126932e-01 with 64 bits of precision,6.05866725992235889437e-01 with 64 bits of precision)]]\n",
        "roots_array_new = push!(roots_array_new,isectext(roots_array[i],N(roots_array[i]))) => [[Interval(2.91199911115097032901e-01 with 64 bits of precision,3.00000000000000000065e-01 with 64 bits of precision),Interval(5.55929366475467126932e-01 with 64 bits of precision,6.05866725923268644924e-01 with 64 bits of precision)]]\n",
        "roots_array = roots_array_new => [[Interval(2.91199911115097032901e-01 with 64 bits of precision,3.00000000000000000065e-01 with 64 bits of precision),Interval(5.55929366475467126932e-01 with 64 bits of precision,6.05866725923268644924e-01 with 64 bits of precision)]]\n",
        "roots_array_new = push!(roots_array_new,isectext(roots_array[i],N(roots_array[i]))) => "
       ]
      },
      {
       "output_type": "stream",
       "stream": "stdout",
       "text": [
        "[[Interval(2.91199911115424146346e-01 with 64 bits of precision,3.00000000000000000065e-01 with 64 bits of precision),Interval(5.55929366475467126932e-01 with 64 bits of precision,6.05866725923050569258e-01 with 64 bits of precision)]]\n",
        "roots_array = roots_array_new => [[Interval(2.91199911115424146346e-01 with 64 bits of precision,3.00000000000000000065e-01 with 64 bits of precision),Interval(5.55929366475467126932e-01 with 64 bits of precision,6.05866725923050569258e-01 with 64 bits of precision)]]\n",
        "roots_array_new = push!(roots_array_new,isectext(roots_array[i],N(roots_array[i]))) => [[Interval(2.91199911115425180485e-01 with 64 bits of precision,3.00000000000000000065e-01 with 64 bits of precision),Interval(5.55929366475467126932e-01 with 64 bits of precision,6.05866725923049879868e-01 with 64 bits of precision)]]\n",
        "roots_array = roots_array_new => [[Interval(2.91199911115425180485e-01 with 64 bits of precision,3.00000000000000000065e-01 with 64 bits of precision),Interval(5.55929366475467126932e-01 with 64 bits of precision,6.05866725923049879868e-01 with 64 bits of precision)]]\n",
        "roots_array_new = push!(roots_array_new,isectext(roots_array[i],N(roots_array[i]))) => [[Interval(2.91199911115425183792e-01 with 64 bits of precision,3.00000000000000000065e-01 with 64 bits of precision),Interval(5.55929366475467126932e-01 with 64 bits of precision,6.05866725923049877591e-01 with 64 bits of precision)]]\n",
        "roots_array = roots_array_new => [[Interval(2.91199911115425183792e-01 with 64 bits of precision,3.00000000000000000065e-01 with 64 bits of precision),Interval(5.55929366475467126932e-01 with 64 bits of precision,6.05866725923049877591e-01 with 64 bits of precision)]]\n",
        "roots_array_new = push!(roots_array_new,isectext(roots_array[i],N(roots_array[i]))) => [[Interval(2.91199911115425183792e-01 with 64 bits of precision,3.00000000000000000065e-01 with 64 bits of precision),Interval(5.55929366475467126932e-01 with 64 bits of precision,6.05866725923049877591e-01 with 64 bits of precision)]]\n",
        "Function calls: 13\n"
       ]
      },
      {
       "metadata": {},
       "output_type": "pyout",
       "prompt_number": 14,
       "text": [
        "1-element Array{Array{Interval,1},1}:\n",
        " [Interval(2.91199911115425183792e-01 with 64 bits of precision,3.00000000000000000065e-01 with 64 bits of precision),Interval(5.55929366475467126932e-01 with 64 bits of precision,6.05866725923049877591e-01 with 64 bits of precision)]"
       ]
      }
     ],
     "prompt_number": 14
    },
    {
     "cell_type": "markdown",
     "metadata": {},
     "source": [
      "There are three real roots: {x1 -> 0.062636, x2 -> 0.758243}, {x1 -> 0.88443, x2 -> 0.21038}, {x1 -> 0.285369, x2 -> 0.609754}"
     ]
    },
    {
     "cell_type": "code",
     "collapsed": false,
     "input": [
      "a = [Interval(0.01, 1), Interval(0.01, 1)]"
     ],
     "language": "python",
     "metadata": {},
     "outputs": [
      {
       "metadata": {},
       "output_type": "pyout",
       "prompt_number": 15,
       "text": [
        "2-element Array{Interval,1}:\n",
        " Interval(9.9999999999999999998e-03 with 64 bits of precision,1e+00 with 64 bits of precision)\n",
        " Interval(9.9999999999999999998e-03 with 64 bits of precision,1e+00 with 64 bits of precision)"
       ]
      }
     ],
     "prompt_number": 15
    },
    {
     "cell_type": "code",
     "collapsed": false,
     "input": [
      "newton2d(f, a, 64)"
     ],
     "language": "python",
     "metadata": {},
     "outputs": [
      {
       "output_type": "stream",
       "stream": "stdout",
       "text": [
        "roots_array_new = push!(roots_array_new,isectext(roots_array[i],N(roots_array[i]))) => [[Interval(3.77986706010765157344e-01 with 64 bits of precision,5.05395803514839542323e-01 with 64 bits of precision),Interval(4.63069464323440305111e-01 with 64 bits of precision,5.48008862659489895115e-01 with 64 bits of precision)]]"
       ]
      },
      {
       "output_type": "stream",
       "stream": "stdout",
       "text": [
        "\n",
        "roots_array = roots_array_new => [[Interval(3.77986706010765157344e-01 with 64 bits of precision,5.05395803514839542323e-01 with 64 bits of precision),Interval(4.63069464323440305111e-01 with 64 bits of precision,5.48008862659489895115e-01 with 64 bits of precision)]]\n",
        "roots_array_new = push!(roots_array_new,isectext(roots_array[i],N(roots_array[i]))) => [[Interval(4.38274314608033558981e-01 with 64 bits of precision,4.45181973145152710768e-01 with 64 bits of precision),Interval(5.03212017903231526256e-01 with 64 bits of precision,5.07817123594644293915e-01 with 64 bits of precision)]]\n",
        "roots_array = roots_array_new => [[Interval(4.38274314608033558981e-01 with 64 bits of precision,4.45181973145152710768e-01 with 64 bits of precision),Interval(5.03212017903231526256e-01 with 64 bits of precision,5.07817123594644293915e-01 with 64 bits of precision)]]\n",
        "roots_array_new = push!(roots_array_new,isectext(roots_array[i],N(roots_array[i]))) => [[Interval(4.38274314608033558954e-01 with 64 bits of precision,4.45181973145152710768e-01 with 64 bits of precision),Interval(5.03212017903231526256e-01 with 64 bits of precision,5.07817123594644293915e-01 with 64 bits of precision)]]\n",
        "roots_array = roots_array_new => [[Interval(4.38274314608033558954e-01 with 64 bits of precision,4.45181973145152710768e-01 with 64 bits of precision),Interval(5.03212017903231526256e-01 with 64 bits of precision,5.07817123594644293915e-01 with 64 bits of precision)]]\n",
        "roots_array_new = push!(roots_array_new,isectext(roots_array[i],N(roots_array[i]))) => [[Interval(4.38274314608033558954e-01 with 64 bits of precision,4.45181973145152710768e-01 with 64 bits of precision),Interval(5.03212017903231526256e-01 with 64 bits of precision,5.07817123594644293915e-01 with 64 bits of precision)]]\n",
        "Function calls: 3\n"
       ]
      },
      {
       "metadata": {},
       "output_type": "pyout",
       "prompt_number": 22,
       "text": [
        "1-element Array{Array{Interval,1},1}:\n",
        " [Interval(4.38274314608033558954e-01 with 64 bits of precision,4.45181973145152710768e-01 with 64 bits of precision),Interval(5.03212017903231526256e-01 with 64 bits of precision,5.07817123594644293915e-01 with 64 bits of precision)]"
       ]
      }
     ],
     "prompt_number": 22
    },
    {
     "cell_type": "code",
     "collapsed": false,
     "input": [
      "# This one looks like a false positive. Why?"
     ],
     "language": "python",
     "metadata": {},
     "outputs": [],
     "prompt_number": 17
    },
    {
     "cell_type": "code",
     "collapsed": false,
     "input": [
      "sol = newton2d(f, a, 64)"
     ],
     "language": "python",
     "metadata": {},
     "outputs": [
      {
       "output_type": "stream",
       "stream": "stdout",
       "text": [
        "roots_array_new = push!(roots_array_new,isectext(roots_array[i],N(roots_array[i]))) => [[Interval(3.77986706010765157344e-01 with 64 bits of precision,5.05395803514839542323e-01 with 64 bits of precision),Interval(4.63069464323440305111e-01 with 64 bits of precision,5.48008862659489895115e-01 with 64 bits of precision)]]"
       ]
      },
      {
       "output_type": "stream",
       "stream": "stdout",
       "text": [
        "\n",
        "roots_array = roots_array_new => [[Interval(3.77986706010765157344e-01 with 64 bits of precision,5.05395803514839542323e-01 with 64 bits of precision),Interval(4.63069464323440305111e-01 with 64 bits of precision,5.48008862659489895115e-01 with 64 bits of precision)]]\n",
        "roots_array_new = push!(roots_array_new,isectext(roots_array[i],N(roots_array[i]))) => "
       ]
      },
      {
       "output_type": "stream",
       "stream": "stdout",
       "text": [
        "[[Interval(4.38274314608033558981e-01 with 64 bits of precision,4.45181973145152710768e-01 with 64 bits of precision),Interval(5.03212017903231526256e-01 with 64 bits of precision,5.07817123594644293915e-01 with 64 bits of precision)]]\n",
        "roots_array = roots_array_new => [[Interval(4.38274314608033558981e-01 with 64 bits of precision,4.45181973145152710768e-01 with 64 bits of precision),Interval(5.03212017903231526256e-01 with 64 bits of precision,5.07817123594644293915e-01 with 64 bits of precision)]]\n",
        "roots_array_new = push!(roots_array_new,isectext(roots_array[i],N(roots_array[i]))) => [[Interval(4.38274314608033558954e-01 with 64 bits of precision,4.45181973145152710768e-01 with 64 bits of precision),Interval(5.03212017903231526256e-01 with 64 bits of precision,5.07817123594644293915e-01 with 64 bits of precision)]]\n",
        "roots_array = roots_array_new => [[Interval(4.38274314608033558954e-01 with 64 bits of precision,4.45181973145152710768e-01 with 64 bits of precision),Interval(5.03212017903231526256e-01 with 64 bits of precision,5.07817123594644293915e-01 with 64 bits of precision)]]\n",
        "roots_array_new = push!(roots_array_new,isectext(roots_array[i],N(roots_array[i]))) => "
       ]
      },
      {
       "output_type": "stream",
       "stream": "stdout",
       "text": [
        "[[Interval(4.38274314608033558954e-01 with 64 bits of precision,4.45181973145152710768e-01 with 64 bits of precision),Interval(5.03212017903231526256e-01 with 64 bits of precision,5.07817123594644293915e-01 with 64 bits of precision)]]\n",
        "Function calls: 3\n"
       ]
      },
      {
       "metadata": {},
       "output_type": "pyout",
       "prompt_number": 24,
       "text": [
        "1-element Array{Array{Interval,1},1}:\n",
        " [Interval(4.38274314608033558954e-01 with 64 bits of precision,4.45181973145152710768e-01 with 64 bits of precision),Interval(5.03212017903231526256e-01 with 64 bits of precision,5.07817123594644293915e-01 with 64 bits of precision)]"
       ]
      }
     ],
     "prompt_number": 24
    },
    {
     "cell_type": "code",
     "collapsed": false,
     "input": [
      "mid(sol)[1]"
     ],
     "language": "python",
     "metadata": {},
     "outputs": [
      {
       "metadata": {},
       "output_type": "pyout",
       "prompt_number": 29,
       "text": [
        "2-element Array{BigFloat,1}:\n",
        " 4.41728143876593134875e-01\n",
        " 5.05514570748937910113e-01"
       ]
      }
     ],
     "prompt_number": 29
    },
    {
     "cell_type": "code",
     "collapsed": false,
     "input": [
      "f(ans)"
     ],
     "language": "python",
     "metadata": {},
     "outputs": [
      {
       "metadata": {},
       "output_type": "pyout",
       "prompt_number": 30,
       "text": [
        "2-element Array{BigFloat,1}:\n",
        "  1.64673601817791806756e-01\n",
        " -8.89045781438113685238e-18"
       ]
      }
     ],
     "prompt_number": 30
    },
    {
     "cell_type": "markdown",
     "metadata": {},
     "source": [
      "So at this point, the second component of the function is indeed close to zero. It seems like newton2d is trying to enclose this interval and leaves it quite wide when it doesn't find the exact zero."
     ]
    },
    {
     "cell_type": "code",
     "collapsed": false,
     "input": [],
     "language": "python",
     "metadata": {},
     "outputs": []
    }
   ],
   "metadata": {}
  }
 ]
}