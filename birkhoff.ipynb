{
 "cells": [
  {
   "cell_type": "code",
   "execution_count": 1,
   "metadata": {
    "collapsed": false
   },
   "outputs": [
    {
     "name": "stdout",
     "output_type": "stream",
     "text": [
      "Syntax: krawczyk2d(function, [Interval(lo, hi), Interval(lo, hi)], precision [default is 64])\n"
     ]
    },
    {
     "name": "stderr",
     "output_type": "stream",
     "text": [
      "WARNING: New definition \n",
      "    +(AutoDiff.Ad, Any) at /home/kriukov/main/work/mexico/unam/interval-methods/modules/AutoDiff.jl:39\n",
      "is ambiguous with: \n",
      "    +(Any, IntervalArithmetic.IntUnion) at /home/kriukov/main/work/mexico/unam/interval-methods/modules/IntervalArithmetic.jl:989.\n",
      "To fix, define \n",
      "    +(AutoDiff.Ad, IntervalArithmetic.IntUnion)\n",
      "before the new definition.\n",
      "WARNING: New definition \n",
      "    +(Any, AutoDiff.Ad) at /home/kriukov/main/work/mexico/unam/interval-methods/modules/AutoDiff.jl:40\n",
      "is ambiguous with: \n",
      "    +(IntervalArithmetic.IntUnion, Any) at /home/kriukov/main/work/mexico/unam/interval-methods/modules/IntervalArithmetic.jl:988.\n",
      "To fix, define \n",
      "    +(IntervalArithmetic.IntUnion, AutoDiff.Ad)\n",
      "before the new definition.\n",
      "WARNING: New definition \n",
      "    -(AutoDiff.Ad, Any) at /home/kriukov/main/work/mexico/unam/interval-methods/modules/AutoDiff.jl:39\n",
      "is ambiguous with: \n",
      "    -(Any, IntervalArithmetic.IntUnion) at /home/kriukov/main/work/mexico/unam/interval-methods/modules/IntervalArithmetic.jl:992.\n",
      "To fix, define \n",
      "    -(AutoDiff.Ad, IntervalArithmetic.IntUnion)\n",
      "before the new definition.\n",
      "WARNING: New definition \n",
      "    -(Any, AutoDiff.Ad) at /home/kriukov/main/work/mexico/unam/interval-methods/modules/AutoDiff.jl:40\n",
      "is ambiguous with: \n",
      "    -(IntervalArithmetic.IntUnion, Any) at /home/kriukov/main/work/mexico/unam/interval-methods/modules/IntervalArithmetic.jl:991.\n",
      "To fix, define \n",
      "    -(IntervalArithmetic.IntUnion, AutoDiff.Ad)\n",
      "before the new definition.\n",
      "WARNING: New definition \n",
      "    *(AutoDiff.Ad, Any) at /home/kriukov/main/work/mexico/unam/interval-methods/modules/AutoDiff.jl:39\n",
      "is ambiguous with: \n",
      "    *(Any, IntervalArithmetic.IntUnion) at /home/kriukov/main/work/mexico/unam/interval-methods/modules/IntervalArithmetic.jl:994.\n",
      "To fix, define \n",
      "    *(AutoDiff.Ad, IntervalArithmetic.IntUnion)\n",
      "before the new definition.\n",
      "WARNING: New definition \n",
      "    *(Any, AutoDiff.Ad) at /home/kriukov/main/work/mexico/unam/interval-methods/modules/AutoDiff.jl:40\n",
      "is ambiguous with: \n",
      "    *(IntervalArithmetic.IntUnion, Any) at /home/kriukov/main/work/mexico/unam/interval-methods/modules/IntervalArithmetic.jl:993.\n",
      "To fix, define \n",
      "    *(IntervalArithmetic.IntUnion, AutoDiff.Ad)\n",
      "before the new definition.\n",
      "WARNING: New definition \n",
      "    /(AutoDiff.Ad, Any) at /home/kriukov/main/work/mexico/unam/interval-methods/modules/AutoDiff.jl:39\n",
      "is ambiguous with: \n",
      "    /(Any, IntervalArithmetic.IntUnion) at /home/kriukov/main/work/mexico/unam/interval-methods/modules/IntervalArithmetic.jl:996.\n",
      "To fix, define \n",
      "    /(AutoDiff.Ad, IntervalArithmetic.IntUnion)\n",
      "before the new definition.\n",
      "WARNING: New definition \n",
      "    /(Any, AutoDiff.Ad) at /home/kriukov/main/work/mexico/unam/interval-methods/modules/AutoDiff.jl:40\n",
      "is ambiguous with: \n",
      "    /(IntervalArithmetic.IntUnion, Any) at /home/kriukov/main/work/mexico/unam/interval-methods/modules/IntervalArithmetic.jl:995.\n",
      "To fix, define \n",
      "    /(IntervalArithmetic.IntUnion, AutoDiff.Ad)\n",
      "before the new definition.\n",
      "WARNING: New definition \n",
      "    +(PurityIntervals.PurityInterval, Any) at /home/kriukov/main/work/mexico/unam/interval-methods/modules/PurityIntervals.jl:30\n",
      "is ambiguous with: \n",
      "    +(Any, IntervalArithmetic.IntUnion) at /home/kriukov/main/work/mexico/unam/interval-methods/modules/IntervalArithmetic.jl:989.\n",
      "To fix, define \n",
      "    +(PurityIntervals.PurityInterval, IntervalArithmetic.IntUnion)\n",
      "before the new definition.\n",
      "WARNING: New definition \n",
      "    +(PurityIntervals.PurityInterval, Any) at /home/kriukov/main/work/mexico/unam/interval-methods/modules/PurityIntervals.jl:30\n",
      "is ambiguous with: \n",
      "    +(Any, AutoDiff.Ad) at /home/kriukov/main/work/mexico/unam/interval-methods/modules/AutoDiff.jl:40.\n",
      "To fix, define \n",
      "    +(PurityIntervals.PurityInterval, AutoDiff.Ad)\n",
      "before the new definition.\n",
      "WARNING: New definition \n",
      "    +(Any, PurityIntervals.PurityInterval) at /home/kriukov/main/work/mexico/unam/interval-methods/modules/PurityIntervals.jl:31\n",
      "is ambiguous with: \n",
      "    +(IntervalArithmetic.IntUnion, Any) at /home/kriukov/main/work/mexico/unam/interval-methods/modules/IntervalArithmetic.jl:988.\n",
      "To fix, define \n",
      "    +(IntervalArithmetic.IntUnion, PurityIntervals.PurityInterval)\n",
      "before the new definition.\n",
      "WARNING: New definition \n",
      "    +(Any, PurityIntervals.PurityInterval) at /home/kriukov/main/work/mexico/unam/interval-methods/modules/PurityIntervals.jl:31\n",
      "is ambiguous with: \n",
      "    +(AutoDiff.Ad, Any) at /home/kriukov/main/work/mexico/unam/interval-methods/modules/AutoDiff.jl:39.\n",
      "To fix, define \n",
      "    +(AutoDiff.Ad, PurityIntervals.PurityInterval)\n",
      "before the new definition.\n",
      "WARNING: New definition \n",
      "    -(PurityIntervals.PurityInterval, Any) at /home/kriukov/main/work/mexico/unam/interval-methods/modules/PurityIntervals.jl:30\n",
      "is ambiguous with: \n",
      "    -(Any, IntervalArithmetic.IntUnion) at /home/kriukov/main/work/mexico/unam/interval-methods/modules/IntervalArithmetic.jl:992.\n",
      "To fix, define \n",
      "    -(PurityIntervals.PurityInterval, IntervalArithmetic.IntUnion)\n",
      "before the new definition.\n",
      "WARNING: New definition \n",
      "    -(PurityIntervals.PurityInterval, Any) at /home/kriukov/main/work/mexico/unam/interval-methods/modules/PurityIntervals.jl:30\n",
      "is ambiguous with: \n",
      "    -(Any, AutoDiff.Ad) at /home/kriukov/main/work/mexico/unam/interval-methods/modules/AutoDiff.jl:40.\n",
      "To fix, define \n",
      "    -(PurityIntervals.PurityInterval, AutoDiff.Ad)\n",
      "before the new definition.\n",
      "WARNING: New definition \n",
      "    -(Any, PurityIntervals.PurityInterval) at /home/kriukov/main/work/mexico/unam/interval-methods/modules/PurityIntervals.jl:31\n",
      "is ambiguous with: \n",
      "    -(IntervalArithmetic.IntUnion, Any) at /home/kriukov/main/work/mexico/unam/interval-methods/modules/IntervalArithmetic.jl:991.\n",
      "To fix, define \n",
      "    -(IntervalArithmetic.IntUnion, PurityIntervals.PurityInterval)\n",
      "before the new definition.\n",
      "WARNING: New definition \n",
      "    -(Any, PurityIntervals.PurityInterval) at /home/kriukov/main/work/mexico/unam/interval-methods/modules/PurityIntervals.jl:31\n",
      "is ambiguous with: \n",
      "    -(AutoDiff.Ad, Any) at /home/kriukov/main/work/mexico/unam/interval-methods/modules/AutoDiff.jl:39.\n",
      "To fix, define \n",
      "    -(AutoDiff.Ad, PurityIntervals.PurityInterval)\n",
      "before the new definition.\n",
      "WARNING: New definition \n",
      "    *(PurityIntervals.PurityInterval, Any) at /home/kriukov/main/work/mexico/unam/interval-methods/modules/PurityIntervals.jl:30\n",
      "is ambiguous with: \n",
      "    *(Any, IntervalArithmetic.IntUnion) at /home/kriukov/main/work/mexico/unam/interval-methods/modules/IntervalArithmetic.jl:994.\n",
      "To fix, define \n",
      "    *(PurityIntervals.PurityInterval, IntervalArithmetic.IntUnion)\n",
      "before the new definition.\n",
      "WARNING: New definition \n",
      "    *(PurityIntervals.PurityInterval, Any) at /home/kriukov/main/work/mexico/unam/interval-methods/modules/PurityIntervals.jl:30\n",
      "is ambiguous with: \n",
      "    *(Any, AutoDiff.Ad) at /home/kriukov/main/work/mexico/unam/interval-methods/modules/AutoDiff.jl:40.\n",
      "To fix, define \n",
      "    *(PurityIntervals.PurityInterval, AutoDiff.Ad)\n",
      "before the new definition.\n",
      "WARNING: New definition \n",
      "    *(Any, PurityIntervals.PurityInterval) at /home/kriukov/main/work/mexico/unam/interval-methods/modules/PurityIntervals.jl:31\n",
      "is ambiguous with: \n",
      "    *(IntervalArithmetic.IntUnion, Any) at /home/kriukov/main/work/mexico/unam/interval-methods/modules/IntervalArithmetic.jl:993.\n",
      "To fix, define \n",
      "    *(IntervalArithmetic.IntUnion, PurityIntervals.PurityInterval)\n",
      "before the new definition.\n",
      "WARNING: New definition \n",
      "    *(Any, PurityIntervals.PurityInterval) at /home/kriukov/main/work/mexico/unam/interval-methods/modules/PurityIntervals.jl:31\n",
      "is ambiguous with: \n",
      "    *(AutoDiff.Ad, Any) at /home/kriukov/main/work/mexico/unam/interval-methods/modules/AutoDiff.jl:39.\n",
      "To fix, define \n",
      "    *(AutoDiff.Ad, PurityIntervals.PurityInterval)\n",
      "before the new definition.\n",
      "WARNING: New definition \n",
      "    /(PurityIntervals.PurityInterval, Any) at /home/kriukov/main/work/mexico/unam/interval-methods/modules/PurityIntervals.jl:30\n",
      "is ambiguous with: \n",
      "    /(Any, IntervalArithmetic.IntUnion) at /home/kriukov/main/work/mexico/unam/interval-methods/modules/IntervalArithmetic.jl:996.\n",
      "To fix, define \n",
      "    /(PurityIntervals.PurityInterval, IntervalArithmetic.IntUnion)\n",
      "before the new definition.\n",
      "WARNING: New definition \n",
      "    /(PurityIntervals.PurityInterval, Any) at /home/kriukov/main/work/mexico/unam/interval-methods/modules/PurityIntervals.jl:30\n",
      "is ambiguous with: \n",
      "    /(Any, AutoDiff.Ad) at /home/kriukov/main/work/mexico/unam/interval-methods/modules/AutoDiff.jl:40.\n",
      "To fix, define \n",
      "    /(PurityIntervals.PurityInterval, AutoDiff.Ad)\n",
      "before the new definition.\n",
      "WARNING: New definition \n",
      "    /(Any, PurityIntervals.PurityInterval) at /home/kriukov/main/work/mexico/unam/interval-methods/modules/PurityIntervals.jl:31\n",
      "is ambiguous with: \n",
      "    /(IntervalArithmetic.IntUnion, Any) at /home/kriukov/main/work/mexico/unam/interval-methods/modules/IntervalArithmetic.jl:995.\n",
      "To fix, define \n",
      "    /(IntervalArithmetic.IntUnion, PurityIntervals.PurityInterval)\n",
      "before the new definition.\n",
      "WARNING: New definition \n",
      "    /(Any, PurityIntervals.PurityInterval) at /home/kriukov/main/work/mexico/unam/interval-methods/modules/PurityIntervals.jl:31\n",
      "is ambiguous with: \n",
      "    /(AutoDiff.Ad, Any) at /home/kriukov/main/work/mexico/unam/interval-methods/modules/AutoDiff.jl:39.\n",
      "To fix, define \n",
      "    /(AutoDiff.Ad, PurityIntervals.PurityInterval)\n",
      "before the new definition.\n"
     ]
    }
   ],
   "source": [
    "using IntervalArithmetic\n",
    "using AutoDiff\n",
    "using PurityIntervals\n",
    "using KrawczykMethod2D"
   ]
  },
  {
   "cell_type": "code",
   "execution_count": 18,
   "metadata": {
    "collapsed": false
   },
   "outputs": [
    {
     "ename": "LoadError",
     "evalue": "LoadError: InitError: UndefVarError: PyString_FromStringAndSize not defined\nduring initialization of module PyPlot\nwhile loading In[18], in expression starting on line 1",
     "output_type": "error",
     "traceback": [
      "LoadError: InitError: UndefVarError: PyString_FromStringAndSize not defined\nduring initialization of module PyPlot\nwhile loading In[18], in expression starting on line 1",
      "",
      " [inlined code] from /home/kriukov/.julia/PyCall/src/exception.jl:78",
      " in call at /home/kriukov/.julia/PyCall/src/conversions.jl:68",
      " in get at /home/kriukov/.julia/PyCall/src/PyCall.jl:534",
      " in find_backend at /home/kriukov/.julia/PyPlot/src/PyPlot.jl:146",
      " in __init__ at /home/kriukov/.julia/PyPlot/src/PyPlot.jl:245",
      " in _require_from_serialized at loading.jl:84",
      " in _require_from_serialized at ./loading.jl:109",
      " in require at ./loading.jl:235"
     ]
    }
   ],
   "source": [
    "using PyPlot\n",
    "using PyCall\n",
    "@pyimport matplotlib.patches as patches\n",
    "rectangle = patches.Rectangle\n",
    "function draw_rectangle(x, y, xwidth, ywidth, color=\"grey\")\n",
    "    ax = gca()\n",
    "    ax[:add_patch](rectangle((x, y), xwidth, ywidth, facecolor=color, alpha=0.5, linewidth=0))\n",
    "end"
   ]
  },
  {
   "cell_type": "code",
   "execution_count": 3,
   "metadata": {
    "collapsed": false
   },
   "outputs": [
    {
     "data": {
      "text/plain": [
       "table (generic function with 1 method)"
      ]
     },
     "execution_count": 3,
     "metadata": {},
     "output_type": "execute_result"
    }
   ],
   "source": [
    "function table(c)\n",
    "    N = length(c)\n",
    "    r = zeros(prec, N, N)\n",
    "    a = zeros(prec, N, N)\n",
    "    for i = 1:N\n",
    "        for j = 1:N\n",
    "            r[i, j] = sqrt((c[i][1] - c[j][1])^2 + (c[i][2] - c[j][2])^2)\n",
    "            a[i, j] = atan2((c[j] - c[i])[2], (c[j] - c[i])[1])\n",
    "        end\n",
    "    end\n",
    "    r, a\n",
    "end"
   ]
  },
  {
   "cell_type": "code",
   "execution_count": 4,
   "metadata": {
    "collapsed": false
   },
   "outputs": [
    {
     "data": {
      "text/plain": [
       "path_general (generic function with 1 method)"
      ]
     },
     "execution_count": 4,
     "metadata": {},
     "output_type": "execute_result"
    }
   ],
   "source": [
    "function T0(x, c, n, m)\n",
    "\tω, θ = x\n",
    "\t#println(\"Argument into T0 with $n, $m: $x\")\n",
    "\tr_nm, a_nm = table(c)\n",
    "\t\n",
    "\tω_next = ω - r_nm[n, m]*(ω*cos(θ - a_nm[n, m]) + √(1 - ω^2)*sin(θ - a_nm[n, m]))\n",
    "\tθ_next = mod(θ + prec(pi) + asin(ω) + asin(ω_next), 2π)\n",
    "\n",
    "    [ω_next, θ_next]\n",
    "end\n",
    "\n",
    "function path_general(x, c, n)\n",
    "    for i = 1:length(n)-1\n",
    "        if n[i] != n[i+1]\n",
    "            x = T0(x, c, n[i], n[i+1])\n",
    "        else\n",
    "            error(\"Cannot hit the same disk twice in succession\")\n",
    "        end\n",
    "    end\n",
    "    x\n",
    "end"
   ]
  },
  {
   "cell_type": "code",
   "execution_count": 5,
   "metadata": {
    "collapsed": false
   },
   "outputs": [
    {
     "data": {
      "text/plain": [
       "draw_phase_space (generic function with 1 method)"
      ]
     },
     "execution_count": 5,
     "metadata": {},
     "output_type": "execute_result"
    }
   ],
   "source": [
    "function draw_phase_space(c, n, rect, tol)\n",
    "    points, purities = plot_band_bisection(x -> path_general(x, c, n), rect, tol)\n",
    "    for i = 1:length(points)\n",
    "        if purities[i] == 0\n",
    "            draw_rectangle(points[i][2].lo, points[i][1].lo, diam(points[i][2]), diam(points[i][1]), \"green\")\n",
    "        elseif purities[i] == 1\n",
    "            draw_rectangle(points[i][2].lo, points[i][1].lo, diam(points[i][2]), diam(points[i][1]), \"blue\")\n",
    "        end\n",
    "    end\n",
    "    axis([0, pi/3, -1, 1])\n",
    "end"
   ]
  },
  {
   "cell_type": "code",
   "execution_count": 6,
   "metadata": {
    "collapsed": false
   },
   "outputs": [
    {
     "data": {
      "text/plain": [
       "find_periodic_orbits (generic function with 1 method)"
      ]
     },
     "execution_count": 6,
     "metadata": {},
     "output_type": "execute_result"
    }
   ],
   "source": [
    "function find_periodic_orbits(c, n, rect, prec, tol)\n",
    "   f(x) = path_general(x, c, n)\n",
    "   #f = @anon x -> path_general(x, c, n) - x\n",
    "   krawczyk2d_purity_periodic(f, rect, prec, tol)\n",
    "   #krawczyk2d_purity(f, rect, prec, tol)\n",
    "end"
   ]
  },
  {
   "cell_type": "code",
   "execution_count": 14,
   "metadata": {
    "collapsed": false
   },
   "outputs": [
    {
     "data": {
      "text/plain": [
       "plot_band_bisection (generic function with 1 method)"
      ]
     },
     "execution_count": 14,
     "metadata": {},
     "output_type": "execute_result"
    }
   ],
   "source": [
    "function plot_band_bisection(f, rect, tol)\n",
    "    limitrect(rect) = max(diam(rect)[1], diam(rect)[2]) < tol\n",
    "    p = purity(f, rect)\n",
    "    if p != -1\n",
    "        if p == 1\n",
    "            #println(\"Went to p=1\")\n",
    "            push!(points, rect)\n",
    "            push!(purities, p)\n",
    "            #println(\"Clean recorded\")\n",
    "        elseif p == 0\n",
    "            #println(\"Went to p=0\")\n",
    "            if limitrect(rect)\n",
    "                push!(points, rect)\n",
    "                push!(purities, p)\n",
    "                #println(\"Unclean recorded\")\n",
    "            else\n",
    "                pieces = bisect(rect)\n",
    "                for i = 1:4\n",
    "                    plot_band_bisection(f, pieces[i], tol)\n",
    "                end\n",
    "            end\n",
    "        end\n",
    "    end\n",
    "    points, purities\n",
    "end"
   ]
  },
  {
   "cell_type": "code",
   "execution_count": 7,
   "metadata": {
    "collapsed": false
   },
   "outputs": [
    {
     "data": {
      "text/plain": [
       "draw_phase_space_general (generic function with 1 method)"
      ]
     },
     "execution_count": 7,
     "metadata": {},
     "output_type": "execute_result"
    }
   ],
   "source": [
    "# Draw phase space from n-th disk to all other - here \"n\" is a number\n",
    "\n",
    "function draw_phase_space_general(c, n, rect, tol)\n",
    "    points = Array{MultiDimInterval, 1}[]\n",
    "    purities = Array{Int, 1}[]\n",
    "    for i = 1:length(c)\n",
    "        if i != n\n",
    "            points_i, purities_i = plot_band_bisection(x -> path_general(x, c, [n, i]) - x, rect, tol)\n",
    "            push!(points, points_i)\n",
    "            push!(purities, purities_i)\n",
    "        end\n",
    "    end\n",
    "    \n",
    "    for i = 1:length(points)\n",
    "        for j = 1:length(points[i])\n",
    "            if purities[i][j] == 0\n",
    "                draw_rectangle(points[i][j][2].lo, points[i][j][1].lo, diam(points[i][j][2]), diam(points[i][j][1]), \"green\")\n",
    "            elseif purities[i][j] == 1\n",
    "                draw_rectangle(points[i][j][2].lo, points[i][j][1].lo, diam(points[i][j][2]), diam(points[i][j][1]), \"blue\")\n",
    "            end\n",
    "        end\n",
    "    end\n",
    "\n",
    "    axis([0, pi/3, -1, 1])\n",
    "    \n",
    "end"
   ]
  },
  {
   "cell_type": "code",
   "execution_count": 8,
   "metadata": {
    "collapsed": false
   },
   "outputs": [
    {
     "data": {
      "text/plain": [
       "symmetric3 (generic function with 1 method)"
      ]
     },
     "execution_count": 8,
     "metadata": {},
     "output_type": "execute_result"
    }
   ],
   "source": [
    "# Symmetric 3-disk scatterer with variable separation r0\n",
    "function symmetric3(r0)\n",
    "    c = Array{prec, 1}[]\n",
    "    push!(c, [0, 0], [r0, 0], [r0/2, r0*sqrt(3)/2]) \n",
    "    c\n",
    "end"
   ]
  },
  {
   "cell_type": "code",
   "execution_count": 9,
   "metadata": {
    "collapsed": false
   },
   "outputs": [
    {
     "data": {
      "text/plain": [
       "3-element Array{Array{BigFloat,1},1}:\n",
       " BigFloat[0.000000000000000000000000000000000000000000000000000000000000000000000000000000,0.000000000000000000000000000000000000000000000000000000000000000000000000000000]\n",
       " BigFloat[6.000000000000000000000000000000000000000000000000000000000000000000000000000000,0.000000000000000000000000000000000000000000000000000000000000000000000000000000]\n",
       " BigFloat[3.000000000000000000000000000000000000000000000000000000000000000000000000000000,5.196152422706632023619022220373153686523437500000000000000000000000000000000000]"
      ]
     },
     "execution_count": 9,
     "metadata": {},
     "output_type": "execute_result"
    }
   ],
   "source": [
    "c0 = symmetric3(6)"
   ]
  },
  {
   "cell_type": "code",
   "execution_count": 16,
   "metadata": {
    "collapsed": false
   },
   "outputs": [
    {
     "data": {
      "text/plain": [
       "0-element Array{Int32,1}"
      ]
     },
     "execution_count": 16,
     "metadata": {},
     "output_type": "execute_result"
    }
   ],
   "source": [
    "rect = [Interval(-0.999, 0.999), Interval(0.001, big(pi)/3-0.001)]\n",
    "points = Array{Interval, 1}[]\n",
    "purities = Int[]"
   ]
  },
  {
   "cell_type": "code",
   "execution_count": 19,
   "metadata": {
    "collapsed": false
   },
   "outputs": [
    {
     "ename": "LoadError",
     "evalue": "LoadError: UndefVarError: draw_rectangle not defined\nwhile loading In[19], in expression starting on line 1",
     "output_type": "error",
     "traceback": [
      "LoadError: UndefVarError: draw_rectangle not defined\nwhile loading In[19], in expression starting on line 1",
      "",
      " in draw_phase_space_general at In[7]:17"
     ]
    }
   ],
   "source": [
    "draw_phase_space_general(c0, 1, rect, 1e-2)"
   ]
  },
  {
   "cell_type": "code",
   "execution_count": 20,
   "metadata": {
    "collapsed": false
   },
   "outputs": [
    {
     "ename": "LoadError",
     "evalue": "LoadError: InterruptException:\nwhile loading In[20], in expression starting on line 1",
     "output_type": "error",
     "traceback": [
      "LoadError: InterruptException:\nwhile loading In[20], in expression starting on line 1",
      "",
      " in string at mpfr.jl:832",
      " in call at /home/kriukov/main/work/mexico/unam/interval-methods/modules/IntervalArithmetic.jl:17",
      " in * at /home/kriukov/main/work/mexico/unam/interval-methods/modules/IntervalArithmetic.jl:94",
      " in T0 at In[4]:6",
      " in path_general at In[4]:15",
      " in f at In[6]:2",
      " in anonymous at /home/kriukov/main/work/mexico/unam/interval-methods/modules/KrawczykMethod2D.jl:194",
      " in f1 at /home/kriukov/main/work/mexico/unam/interval-methods/modules/AutoDiff.jl:119",
      " in f12 at /home/kriukov/main/work/mexico/unam/interval-methods/modules/AutoDiff.jl:125",
      " in differentiate at /home/kriukov/main/work/mexico/unam/interval-methods/modules/AutoDiff.jl:110",
      " in jacobian at /home/kriukov/main/work/mexico/unam/interval-methods/modules/AutoDiff.jl:126",
      " in M at /home/kriukov/main/work/mexico/unam/interval-methods/modules/KrawczykMethod2D.jl:49",
      " in K at /home/kriukov/main/work/mexico/unam/interval-methods/modules/KrawczykMethod2D.jl:56",
      " in krawczyk2d_internal at /home/kriukov/main/work/mexico/unam/interval-methods/modules/KrawczykMethod2D.jl:64",
      " in krawczyk2d_internal at /home/kriukov/main/work/mexico/unam/interval-methods/modules/KrawczykMethod2D.jl:83",
      " in krawczyk2d at /home/kriukov/main/work/mexico/unam/interval-methods/modules/KrawczykMethod2D.jl:92",
      " in krawczyk2d_purity_internal_periodic at /home/kriukov/main/work/mexico/unam/interval-methods/modules/KrawczykMethod2D.jl:194",
      " in krawczyk2d_purity_internal_periodic at /home/kriukov/main/work/mexico/unam/interval-methods/modules/KrawczykMethod2D.jl:208 (repeats 15 times)",
      " in krawczyk2d_purity_periodic at /home/kriukov/main/work/mexico/unam/interval-methods/modules/KrawczykMethod2D.jl:216",
      " in find_periodic_orbits at In[6]:4"
     ]
    }
   ],
   "source": [
    "find_periodic_orbits(c0, [1, 2, 3, 1], rect, 64, 1e-4)"
   ]
  },
  {
   "cell_type": "code",
   "execution_count": null,
   "metadata": {
    "collapsed": true
   },
   "outputs": [],
   "source": []
  }
 ],
 "metadata": {
  "kernelspec": {
   "display_name": "Julia 0.4.5",
   "language": "julia",
   "name": "julia-0.4"
  },
  "language_info": {
   "file_extension": ".jl",
   "mimetype": "application/julia",
   "name": "julia",
   "version": "0.4.5"
  }
 },
 "nbformat": 4,
 "nbformat_minor": 0
}
